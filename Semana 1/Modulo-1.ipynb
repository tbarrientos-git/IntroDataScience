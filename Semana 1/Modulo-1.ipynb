{
 "cells": [
  {
   "cell_type": "markdown",
   "metadata": {},
   "source": [
    "# Secuencia de comandos Python y Operaciones básicas"
   ]
  },
  {
   "cell_type": "markdown",
   "metadata": {},
   "source": [
    "Los comandos básicos que se deben conocer en python son los siguientes:\n",
    "1. Condicionales: If, Elif, Else. Se utilizan para poner condiciones dentro del código. Por ejemplo, si se cumple una condición realizar lo siguiente. A continuación un ejemplo."
   ]
  },
  {
   "cell_type": "code",
   "execution_count": 2,
   "metadata": {},
   "outputs": [
    {
     "name": "stdout",
     "output_type": "stream",
     "text": [
      "Numero es par\n"
     ]
    }
   ],
   "source": [
    "n = 10 #Cambiar el valor de n para ver que pasa\n",
    "if n % 2 == 0:\n",
    "    print(\"Numero es par\")\n",
    "else:\n",
    "    print(\"Numero no es par\")"
   ]
  },
  {
   "cell_type": "markdown",
   "metadata": {},
   "source": [
    "2. Iteradores: for, while. Son elementos que permiten iterar hasta que se cumpla una condición de término."
   ]
  },
  {
   "cell_type": "code",
   "execution_count": 2,
   "metadata": {},
   "outputs": [
    {
     "name": "stdout",
     "output_type": "stream",
     "text": [
      "0\n",
      "1\n",
      "2\n",
      "3\n",
      "4\n"
     ]
    }
   ],
   "source": [
    "for i in range(5): #Condición que se cuple es que llega hasta el rango que se le dió\n",
    "    print(i)"
   ]
  },
  {
   "cell_type": "code",
   "execution_count": 3,
   "metadata": {},
   "outputs": [
    {
     "name": "stdout",
     "output_type": "stream",
     "text": [
      "0\n",
      "1\n",
      "2\n",
      "3\n",
      "4\n"
     ]
    }
   ],
   "source": [
    "i = 0\n",
    "while i < 5: #Condición de termino se logra cuando el valor de i es mayor o igual a 5. \n",
    "    print(i)\n",
    "    i += 1 #Se debe actualizar el i en cada iteración. Si no se hace esto nunca pararía de iterarar"
   ]
  },
  {
   "cell_type": "markdown",
   "metadata": {},
   "source": [
    "Como se puede ver el for y el while funcionan como iteradores pero de manera distinta. El for se detiene de manera automatica cuando se llega al rango que se le indica. Por su parte, el while es más flexible ya que el programador debe indicar cuál es la condición de detención/parada."
   ]
  },
  {
   "cell_type": "markdown",
   "metadata": {},
   "source": [
    "3. Booleanos: True, False. Son expresiones que nos retornan valores lógicos"
   ]
  },
  {
   "cell_type": "code",
   "execution_count": 7,
   "metadata": {},
   "outputs": [
    {
     "name": "stdout",
     "output_type": "stream",
     "text": [
      "False\n"
     ]
    }
   ],
   "source": [
    "print(3==5)"
   ]
  },
  {
   "cell_type": "markdown",
   "metadata": {},
   "source": [
    "Contando con lo anterior, en Python se puede trabajar con listas y diccionarios. Las listas nos permiten guardar datos de manera rápida pero sin un identificador, en cambio en un diccionario se tiene una llave con un valor. A continuación se realizaran dos ejemplos, uno utiilizando listas y otro con diccionarios, en donde se utilizaran los operadores básicos para ilustrar como trabaja python"
   ]
  },
  {
   "cell_type": "code",
   "execution_count": 13,
   "metadata": {},
   "outputs": [
    {
     "name": "stdout",
     "output_type": "stream",
     "text": [
      "Valor mayor a 10 pero par. No se agrega a lista pero se imprime esto\n",
      "11 No cumple ninguna condición anterior\n",
      "Valor mayor a 10 pero par. No se agrega a lista pero se imprime esto\n",
      "13 No cumple ninguna condición anterior\n",
      "Valor mayor a 10 pero par. No se agrega a lista pero se imprime esto\n",
      "15 No cumple ninguna condición anterior\n",
      "Valor mayor a 10 pero par. No se agrega a lista pero se imprime esto\n",
      "17 No cumple ninguna condición anterior\n",
      "Valor mayor a 10 pero par. No se agrega a lista pero se imprime esto\n",
      "19 No cumple ninguna condición anterior\n",
      "Valor mayor a 10 pero par. No se agrega a lista pero se imprime esto\n",
      "21 No cumple ninguna condición anterior\n",
      "Valor mayor a 10 pero par. No se agrega a lista pero se imprime esto\n",
      "23 No cumple ninguna condición anterior\n",
      "Valor mayor a 10 pero par. No se agrega a lista pero se imprime esto\n",
      "25 No cumple ninguna condición anterior\n",
      "Valor mayor a 10 pero par. No se agrega a lista pero se imprime esto\n",
      "27 No cumple ninguna condición anterior\n",
      "Valor mayor a 10 pero par. No se agrega a lista pero se imprime esto\n",
      "[1, 2, 3, 4, 5, 6, 7, 8, 9]\n"
     ]
    }
   ],
   "source": [
    "lista = [] #se genera una lista vacia\n",
    "\n",
    "for i in range(1,29): #se genera un iterador que va desde el 1 hasta el 30. range no considera el último elemento\n",
    "    if i < 10: #si i es menor a 10 retorna true y entra a la condición, si no pasa al elif\n",
    "        lista.append(i) #se agrega con este comando valores a la lista\n",
    "    elif i % 2 == 0: # si es mayor o igual a 10 pero es par se cumple\n",
    "        print(\"Valor mayor a 10 pero par. No se agrega a lista pero se imprime esto\")\n",
    "    else: #Si no se cumple ninguna condición anterior ingresa, es decir, cuando el numero es mayor o igual a 10 e impar\n",
    "        print(f\"{i} No cumple ninguna condición anterior\")\n",
    "\n",
    "print(lista) ##se imprime lista con valores agregados"
   ]
  },
  {
   "cell_type": "markdown",
   "metadata": {},
   "source": [
    "Como se puede ver la lista almacena los valores que cumplen las condiciones. Además, se cuenta con comandos como sum, min y max que se pueden utilizar. Por ejemplo, si utilizamos la lista anterior:"
   ]
  },
  {
   "cell_type": "code",
   "execution_count": 6,
   "metadata": {},
   "outputs": [
    {
     "name": "stdout",
     "output_type": "stream",
     "text": [
      "Suma valores lista: 45\n",
      "Mínimo valor de la lista: 1\n",
      "Máximo valor de la lista: 9\n"
     ]
    }
   ],
   "source": [
    "print(\"Suma valores lista:\", sum(lista))\n",
    "print(\"Mínimo valor de la lista:\", min(lista))\n",
    "print(\"Máximo valor de la lista:\", max(lista))"
   ]
  },
  {
   "cell_type": "markdown",
   "metadata": {},
   "source": [
    "Si se quiere calcular el promedio o desviación de los datos se puede utilizando numpy, lo cual se verá más adelante en el curso. Ahora se realiza un ejemplo con diccionarios"
   ]
  },
  {
   "cell_type": "code",
   "execution_count": 7,
   "metadata": {},
   "outputs": [
    {
     "name": "stdout",
     "output_type": "stream",
     "text": [
      "{1: 'Menor a 10', 2: 'Menor a 10', 3: 'Menor a 10', 4: 'Menor a 10', 5: 'Menor a 10', 6: 'Menor a 10', 7: 'Menor a 10', 8: 'Menor a 10', 9: 'Menor a 10', 10: 'Par y mayor a 10', 11: 'No cumple ninguna condición', 12: 'Par y mayor a 10', 13: 'No cumple ninguna condición', 14: 'Par y mayor a 10', 15: 'No cumple ninguna condición', 16: 'Par y mayor a 10', 17: 'No cumple ninguna condición', 18: 'Par y mayor a 10', 19: 'No cumple ninguna condición', 20: 'Par y mayor a 10', 21: 'No cumple ninguna condición', 22: 'Par y mayor a 10', 23: 'No cumple ninguna condición', 24: 'Par y mayor a 10', 25: 'No cumple ninguna condición', 26: 'Par y mayor a 10', 27: 'No cumple ninguna condición', 28: 'Par y mayor a 10', 29: 'No cumple ninguna condición', 30: 'Par y mayor a 10'}\n",
      "1 Menor a 10\n",
      "2 Menor a 10\n",
      "3 Menor a 10\n",
      "4 Menor a 10\n",
      "5 Menor a 10\n",
      "6 Menor a 10\n",
      "7 Menor a 10\n",
      "8 Menor a 10\n",
      "9 Menor a 10\n",
      "10 Par y mayor a 10\n",
      "11 No cumple ninguna condición\n",
      "12 Par y mayor a 10\n",
      "13 No cumple ninguna condición\n",
      "14 Par y mayor a 10\n",
      "15 No cumple ninguna condición\n",
      "16 Par y mayor a 10\n",
      "17 No cumple ninguna condición\n",
      "18 Par y mayor a 10\n",
      "19 No cumple ninguna condición\n",
      "20 Par y mayor a 10\n",
      "21 No cumple ninguna condición\n",
      "22 Par y mayor a 10\n",
      "23 No cumple ninguna condición\n",
      "24 Par y mayor a 10\n",
      "25 No cumple ninguna condición\n",
      "26 Par y mayor a 10\n",
      "27 No cumple ninguna condición\n",
      "28 Par y mayor a 10\n",
      "29 No cumple ninguna condición\n",
      "30 Par y mayor a 10\n"
     ]
    }
   ],
   "source": [
    "diccionario = {}\n",
    "\n",
    "for i in range(1,31):\n",
    "    if i < 10: #si i es menor a 10 retorna true y entra a la condición, si no pasa al elif\n",
    "        diccionario[i] = \"Menor a 10\" #se agrega con este comando valores a la lista\n",
    "    elif i % 2 == 0: # si es mayor o igual a 10 pero es par se cumple\n",
    "        diccionario[i] = \"Par y mayor a 10\"\n",
    "    else: #Si no se cumple ninguna condición anterior ingresa, es decir, cuando el numero es mayor o igual a 10 e impar\n",
    "        diccionario[i] = \"No cumple ninguna condición\"    \n",
    "\n",
    "print(diccionario) # permite imprimir todo lo que se ha ingresado en el diccionario anterior\n",
    "\n",
    "for ele in diccionario.keys():\n",
    "    print(ele, diccionario[ele])"
   ]
  },
  {
   "cell_type": "markdown",
   "metadata": {},
   "source": [
    "Como se puede ver, las listas y diccionarios nos permiten guardar información y acceder a ella de distintas maneras. Lo importante para saber que elegir es ver que información se quiere guardar (agregada o específica) para elegir."
   ]
  },
  {
   "cell_type": "markdown",
   "metadata": {},
   "source": [
    "Otra aplicación de lo anterior es poder contar palabras y caracteres dentro de un texto. Es decir, python nos permite iterar dentro de una frase."
   ]
  },
  {
   "cell_type": "code",
   "execution_count": 18,
   "metadata": {},
   "outputs": [
    {
     "name": "stdout",
     "output_type": "stream",
     "text": [
      "Esta es la clase número 4 del módulo 1 del MOOC Python para Ciencia de Datos\n",
      "La frase tiene 61 caracteres\n",
      "La frase tiene 15 espacios\n",
      "El texto tiene 16 palabras\n"
     ]
    }
   ],
   "source": [
    "frase = \"Esta es la clase número 4 del módulo 1 del MOOC Python para Ciencia de Datos\" #ingresamos directamente en el código la frase con la que se trabajará\n",
    "print(frase)\n",
    "\n",
    "###rutina para contar caracteres (no nos importan los espacios)\n",
    "caracteres = 0\n",
    "for i in frase:\n",
    "    if i != \" \":\n",
    "        caracteres += 1\n",
    "    else:\n",
    "        pass\n",
    "print(f\"La frase tiene {caracteres} caracteres\")\n",
    "\n",
    "espacios = 0\n",
    "for i in frase:\n",
    "    if i == \" \":\n",
    "        espacios += 1\n",
    "    else:\n",
    "        pass\n",
    "print(f\"La frase tiene {espacios} espacios\")\n",
    "\n",
    "###rutina para contar palabras utilizando listas\n",
    "palabras = frase.split(\" \")\n",
    "total_palabras = 0\n",
    "for palabra in palabras:\n",
    "    total_palabras += 1\n",
    "\n",
    "print(f\"El texto tiene {total_palabras} palabras\")"
   ]
  },
  {
   "cell_type": "markdown",
   "metadata": {},
   "source": [
    "**PREGUNTAS CLASE**"
   ]
  },
  {
   "cell_type": "code",
   "execution_count": 11,
   "metadata": {},
   "outputs": [],
   "source": [
    "lista_pregunta = [65, 100, 65, 98, 79, 94, 92, 100, 86, 90, 61, 72, 76, 78, 64, 93, 79, 68, 100, 99, 91, 94, 62, 72, 72, 75, 67, 89, 80, 92, 69, 100, 84, 62, 78, 64, 74, 100, 79, 84, 83, 80, 71, 64, 70, 98, 77, 68, 98, 95, 77, 86, 80, 88, 62, 64, 69, 90, 76, 75, 81, 81, 92, 70, 98, 68, 68, 60, 98, 97, 65, 65, 70, 79, 69, 97, 75, 100, 96, 83, 92, 90, 80, 87, 92, 93, 64, 90, 94, 94, 90, 63, 86, 94, 82, 87, 86, 88, 97, 100, 86, 97, 69, 76, 89, 64, 77, 83, 98, 89, 88, 61, 100, 89, 90, 89, 74, 71, 68, 61, 98, 63, 61, 65, 74, 83, 76, 62, 72, 72, 85, 92, 82, 90, 84, 94, 62, 78, 98, 77, 89, 85, 65, 100, 70, 60, 86, 88, 75, 73, 74, 84, 72, 65, 88, 83, 60, 75, 97, 88, 82, 72, 72, 60, 81, 61, 85, 60, 74, 90, 94, 71, 77, 97, 92, 60, 94, 73, 66, 69, 66, 96, 93, 98, 61, 76, 89, 92, 94, 65, 91, 87, 83, 97, 95, 98, 67, 96, 76, 71, 84, 65, 68, 68, 71, 79, 93, 62, 79, 99, 67, 76, 93, 81, 62, 97, 65, 60, 71, 87, 95, 79, 88, 80, 71, 100, 60, 75, 76, 75, 61, 100, 100, 66, 86, 82, 64, 74, 75, 74, 90, 94, 79, 71, 92, 100, 63, 92, 84, 78, 70, 73, 91, 81, 97, 97, 77, 85, 76, 80, 77, 91, 100, 63, 69, 99, 70, 90, 89, 65, 60, 65, 90, 97, 73, 81, 73, 88, 96, 94, 69, 94, 73, 71, 78, 64, 93, 73, 95, 81, 72, 96, 72, 73, 60, 61, 95, 76, 74, 87, 60, 81, 70, 60, 100, 92, 97, 96, 92, 67, 97, 68, 61, 63, 67, 62, 70, 90, 69, 66, 65, 92, 88, 69, 96, 78, 93, 73, 81, 85, 87, 79, 85, 91, 96, 83, 91, 83, 72, 95, 83, 95, 84, 60, 76, 95, 81, 65, 92, 79, 72, 67, 75, 87, 87, 69, 86, 95, 86, 82, 63, 99, 80, 90, 80, 65, 76, 88, 70, 65, 77, 94, 93, 73, 67, 71, 75, 86, 67, 99, 63, 70, 71, 87, 72, 98, 96, 88, 67, 96, 76, 72, 92, 84, 99, 90, 91, 94, 95, 75, 87, 64, 93, 83, 89, 93, 91, 80, 76, 68, 87, 85, 82, 63, 69, 86, 69, 98, 61, 63, 95, 67, 71, 97, 74, 77, 67, 73, 72, 63, 71, 82, 98, 81, 91, 75, 63, 98, 87, 65, 67, 77, 97, 98, 68, 68, 84, 80, 82, 87, 69, 96, 87, 98, 80, 91, 72, 94, 71, 72, 65, 74, 75, 91, 79, 85, 69, 82, 92, 74, 98, 97, 94, 63, 80, 73, 95, 74, 82, 65, 90, 91, 81, 85, 84, 61, 97, 73, 65, 86, 71, 70, 81, 71, 73, 100, 66, 89, 96, 81, 62, 70, 74, 89, 83, 81, 68, 81, 100, 86, 76, 80, 78, 73, 90, 69, 61, 86, 64, 82, 74, 91, 85, 99, 74, 98, 74, 83, 63, 75, 71, 82, 87, 90, 63, 96, 67, 96, 92, 66, 68, 83, 74, 75, 87, 99, 78, 66, 84, 89, 69, 87, 67, 91, 80, 89, 91, 81, 68, 91, 90, 82, 100, 87, 69, 93, 86, 64, 63, 68, 74, 85, 70, 93, 83, 92, 92, 91, 100, 82, 83, 60, 91, 84, 73, 96, 88, 95, 60, 61, 97, 80, 97, 73, 62, 82, 97, 95, 87, 71, 90, 60, 97, 81, 72, 65, 100, 69, 79, 60, 84, 63, 75, 94, 72, 89, 74, 81, 96, 65, 87, 86, 79, 76, 91, 90, 73, 81, 96, 87, 74, 61, 65, 72, 87, 90, 73, 60, 75, 63, 97, 89, 65, 80, 89, 63, 88, 63, 84, 67, 99, 84, 62, 83, 76, 65, 85, 86, 70, 74, 83, 64, 89, 68, 60, 61, 79, 87, 91, 90, 62, 84, 71, 74, 96, 94, 85, 90, 70, 89, 82, 93, 100, 62, 97, 91, 94, 76, 62, 68, 84, 76, 95, 60, 72, 92, 88, 99, 74, 89, 76, 96, 79, 62, 91, 73, 82, 65, 98, 72, 95, 95, 80, 77, 64, 98, 68, 95, 72, 94, 83, 64, 86, 68, 66, 78, 71, 93, 82, 72, 71, 98, 73, 80, 94, 61, 61, 84, 84, 64, 76, 74, 99, 71, 92, 90, 95, 99, 92, 64, 75, 64, 100, 79, 69, 96, 71, 94, 83, 82, 80, 97, 78, 91, 83, 60, 87, 88, 60, 75, 74, 91, 83, 69, 63, 61, 60, 97, 85, 75, 88, 95, 99, 68, 82, 63, 86, 62, 69, 60, 89, 61, 68, 94, 63, 76, 71, 62, 61, 88, 100, 93, 60, 76, 85, 99, 99, 70, 63, 86, 75, 79, 81, 74, 96, 76, 63, 66, 66, 60, 94, 70, 91, 61, 77, 93, 67, 71, 87, 66, 66, 67, 68, 82, 79, 61, 93, 74, 97, 90, 76, 86, 88, 66, 96, 81, 77, 61, 64, 90, 80, 96, 98, 94, 83, 83, 69, 87, 63, 84, 89, 73, 85, 83, 96, 90, 80, 79, 71, 71, 86, 84, 83, 84, 80, 81, 100, 84, 64, 82, 69, 96, 66, 100, 78, 79, 62, 84, 86, 89, 76, 66, 69, 88, 73, 60, 64, 93, 95, 68, 66, 100, 66, 87, 97, 97, 92, 61, 87, 66, 63, 65, 84, 69, 83, 76, 77, 73, 94, 77, 81, 62, 97, 70, 90, 99, 84, 67, 96, 100, 88, 74, 63, 76, 70, 89, 98, 92, 70, 93, 84, 70, 62, 69, 78, 75, 65, 79, 91, 87, 68, 79, 81, 72, 82, 69, 94, 83, 76, 87, 61, 77, 62, 88, 70, 69, 64, 72, 93, 65, 73, 95, 81, 97, 74, 87, 100, 78, 75, 82, 98, 89, 65, 67, 100, 94, 92, 89, 61, 66, 78, 82, 72, 80, 75, 73, 66, 88, 99, 87]\n"
   ]
  },
  {
   "cell_type": "code",
   "execution_count": 10,
   "metadata": {},
   "outputs": [],
   "source": [
    "##Hacer desarrollo de preguntas en este cuadro\n",
    "\n",
    "\n"
   ]
  }
 ],
 "metadata": {
  "kernelspec": {
   "display_name": "Python 3 (ipykernel)",
   "language": "python",
   "name": "python3"
  },
  "language_info": {
   "codemirror_mode": {
    "name": "ipython",
    "version": 3
   },
   "file_extension": ".py",
   "mimetype": "text/x-python",
   "name": "python",
   "nbconvert_exporter": "python",
   "pygments_lexer": "ipython3",
   "version": "3.12.0"
  }
 },
 "nbformat": 4,
 "nbformat_minor": 4
}
