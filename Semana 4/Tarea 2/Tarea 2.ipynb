{
 "cells": [
  {
   "cell_type": "markdown",
   "metadata": {
    "deletable": false,
    "editable": false,
    "nbgrader": {
     "cell_type": "markdown",
     "checksum": "4cd94e54455d60fa7ee533c0a1e762ed",
     "grade": false,
     "grade_id": "cell-18066de3e301101a",
     "locked": true,
     "schema_version": 3,
     "solution": false,
     "task": false
    }
   },
   "source": [
    "# Laboratorio 2\n",
    "\n",
    "Bienvenido al segundo laboratorio del curso Análisis de Datos en Python. \n",
    "\n",
    "Escribe el código correspondiente para contestar cada una de las preguntas. Fíjate muy bien en el nombre de las variables, ya que de lo contrario, tu trabajo no podrá ser evaluado de manera correcta. \n",
    "\n",
    "Debes ir ejecutando las celdas de codigo en el orden que aparecen, para evitar tener errores. No elimines celdas!! \n",
    "\n",
    "Este trabajo tiene un límite de tiempo que puedes visualizar al inicio de esta pantalla. "
   ]
  },
  {
   "cell_type": "markdown",
   "metadata": {
    "deletable": false,
    "editable": false,
    "nbgrader": {
     "cell_type": "markdown",
     "checksum": "35ae1a1536ee65d948e2425419803ce4",
     "grade": false,
     "grade_id": "cell-59299e06f3acacd7",
     "locked": true,
     "schema_version": 3,
     "solution": false,
     "task": false
    }
   },
   "source": [
    "### Pregunta 1\n",
    "¿Cuál es el promedio y desviación estándar de la cantidad de basura diaria generada en cada calle? \n",
    "\n",
    "Indicaciones: \n",
    "- Guarda los datos en un dataframe, bajo la variable \"basuraxcalle\"\n",
    "- El dataframe debe tener 3 columnas: \"Calle\", \"Cantidad promedio [kilos de basura]\" y \"Desv est [kilos de basura]\" "
   ]
  },
  {
   "cell_type": "code",
   "execution_count": 29,
   "metadata": {
    "deletable": false,
    "nbgrader": {
     "cell_type": "code",
     "checksum": "f801853b9502636a61b9af3911902e7a",
     "grade": false,
     "grade_id": "cell-dda81aaf53003739",
     "locked": false,
     "schema_version": 3,
     "solution": true,
     "task": false
    }
   },
   "outputs": [
    {
     "data": {
      "text/html": [
       "<div>\n",
       "<style scoped>\n",
       "    .dataframe tbody tr th:only-of-type {\n",
       "        vertical-align: middle;\n",
       "    }\n",
       "\n",
       "    .dataframe tbody tr th {\n",
       "        vertical-align: top;\n",
       "    }\n",
       "\n",
       "    .dataframe thead th {\n",
       "        text-align: right;\n",
       "    }\n",
       "</style>\n",
       "<table border=\"1\" class=\"dataframe\">\n",
       "  <thead>\n",
       "    <tr style=\"text-align: right;\">\n",
       "      <th></th>\n",
       "      <th>Calle</th>\n",
       "      <th>Cantidad promedio [kilos de basura]</th>\n",
       "      <th>Desv est [kilos de basura]</th>\n",
       "    </tr>\n",
       "  </thead>\n",
       "  <tbody>\n",
       "    <tr>\n",
       "      <th>0</th>\n",
       "      <td>Calle 1</td>\n",
       "      <td>2.982143</td>\n",
       "      <td>1.209240</td>\n",
       "    </tr>\n",
       "    <tr>\n",
       "      <th>1</th>\n",
       "      <td>Calle 10</td>\n",
       "      <td>3.192857</td>\n",
       "      <td>1.279447</td>\n",
       "    </tr>\n",
       "    <tr>\n",
       "      <th>2</th>\n",
       "      <td>Calle 100</td>\n",
       "      <td>2.664286</td>\n",
       "      <td>1.199449</td>\n",
       "    </tr>\n",
       "    <tr>\n",
       "      <th>3</th>\n",
       "      <td>Calle 1000</td>\n",
       "      <td>2.742857</td>\n",
       "      <td>1.211191</td>\n",
       "    </tr>\n",
       "    <tr>\n",
       "      <th>4</th>\n",
       "      <td>Calle 1001</td>\n",
       "      <td>2.896429</td>\n",
       "      <td>1.093578</td>\n",
       "    </tr>\n",
       "    <tr>\n",
       "      <th>...</th>\n",
       "      <td>...</td>\n",
       "      <td>...</td>\n",
       "      <td>...</td>\n",
       "    </tr>\n",
       "    <tr>\n",
       "      <th>3235</th>\n",
       "      <td>Calle 995</td>\n",
       "      <td>3.032143</td>\n",
       "      <td>1.172858</td>\n",
       "    </tr>\n",
       "    <tr>\n",
       "      <th>3236</th>\n",
       "      <td>Calle 996</td>\n",
       "      <td>2.203571</td>\n",
       "      <td>0.850918</td>\n",
       "    </tr>\n",
       "    <tr>\n",
       "      <th>3237</th>\n",
       "      <td>Calle 997</td>\n",
       "      <td>2.964286</td>\n",
       "      <td>1.126520</td>\n",
       "    </tr>\n",
       "    <tr>\n",
       "      <th>3238</th>\n",
       "      <td>Calle 998</td>\n",
       "      <td>2.978571</td>\n",
       "      <td>1.203500</td>\n",
       "    </tr>\n",
       "    <tr>\n",
       "      <th>3239</th>\n",
       "      <td>Calle 999</td>\n",
       "      <td>2.867857</td>\n",
       "      <td>0.990717</td>\n",
       "    </tr>\n",
       "  </tbody>\n",
       "</table>\n",
       "<p>3240 rows × 3 columns</p>\n",
       "</div>"
      ],
      "text/plain": [
       "           Calle  Cantidad promedio [kilos de basura]  \\\n",
       "0        Calle 1                             2.982143   \n",
       "1       Calle 10                             3.192857   \n",
       "2      Calle 100                             2.664286   \n",
       "3     Calle 1000                             2.742857   \n",
       "4     Calle 1001                             2.896429   \n",
       "...          ...                                  ...   \n",
       "3235   Calle 995                             3.032143   \n",
       "3236   Calle 996                             2.203571   \n",
       "3237   Calle 997                             2.964286   \n",
       "3238   Calle 998                             2.978571   \n",
       "3239   Calle 999                             2.867857   \n",
       "\n",
       "      Desv est [kilos de basura]  \n",
       "0                       1.209240  \n",
       "1                       1.279447  \n",
       "2                       1.199449  \n",
       "3                       1.211191  \n",
       "4                       1.093578  \n",
       "...                          ...  \n",
       "3235                    1.172858  \n",
       "3236                    0.850918  \n",
       "3237                    1.126520  \n",
       "3238                    1.203500  \n",
       "3239                    0.990717  \n",
       "\n",
       "[3240 rows x 3 columns]"
      ]
     },
     "execution_count": 29,
     "metadata": {},
     "output_type": "execute_result"
    }
   ],
   "source": [
    "import pandas as pd\n",
    "import numpy as np\n",
    "\n",
    "ciudad = pd.read_excel('Datos.xlsx',sheet_name = 'Ciudad')\n",
    "basura = pd.read_excel('Datos.xlsx',sheet_name = 'Histórico de basura')\n",
    "\n",
    "basuraxcalle= None\n",
    "import pandas as pd\n",
    "\n",
    "# cambio de nombre a \"Calle\" en cuidad\n",
    "ciudad = ciudad.rename(columns={'Se considera que la ciudad comienza en la esquina inferior izquierda de la cuadrícula que la representa, y entonces: X=0 e Y=0': 'Calle'})\n",
    "\n",
    "# Union de dataframes\n",
    "data = pd.merge(basura, ciudad, on='Calle')\n",
    "\n",
    "# Agrupar los datos por calle y calcula el promedio y la desviación estándar\n",
    "basuraxcalle = data.groupby(['Calle', 'Coordenada (X,Y) donde comienza la calle', 'Coordenada (X,Y) donde termina la calle'])['Cantidad [kilos de basura]'].agg(['mean', 'std']).reset_index()\n",
    "basuraxcalle.columns = ['Calle', 'Coordenada Inicio', 'Coordenada Final', 'Cantidad promedio [kilos de basura]', 'Desv est [kilos de basura]']\n",
    "\n",
    "# Eliminar columnas \"Coordenada Inicio\" y \"Coordenada Final\"\n",
    "basuraxcalle = basuraxcalle.drop(['Coordenada Inicio', 'Coordenada Final'], axis=1)\n",
    "\n",
    "basuraxcalle\n",
    "\n"
   ]
  },
  {
   "cell_type": "markdown",
   "metadata": {
    "deletable": false,
    "editable": false,
    "nbgrader": {
     "cell_type": "markdown",
     "checksum": "310f0b4bf1603ebb2b10cdd0a752ba09",
     "grade": false,
     "grade_id": "cell-1f0ffd56e32b4501",
     "locked": true,
     "schema_version": 3,
     "solution": false,
     "task": false
    }
   },
   "source": [
    "Revisemos que el dataframe haya quedado bien creado, la siguiente celda no tiene puntaje, pero te servirá para que puedas revisar que hayas creado bien tu dataframe "
   ]
  },
  {
   "cell_type": "code",
   "execution_count": 30,
   "metadata": {
    "deletable": false,
    "editable": false,
    "nbgrader": {
     "cell_type": "code",
     "checksum": "db6764cf69d56020031fb3e79bbac6e0",
     "grade": true,
     "grade_id": "cell-95148aaafa01598e",
     "locked": true,
     "points": 0,
     "schema_version": 3,
     "solution": false,
     "task": false
    }
   },
   "outputs": [],
   "source": [
    "assert list(basuraxcalle.columns) == ['Calle', 'Cantidad promedio [kilos de basura]', 'Desv est [kilos de basura]'], \"Los nombres de las columnas son incorrectos\""
   ]
  },
  {
   "cell_type": "code",
   "execution_count": 31,
   "metadata": {
    "deletable": false,
    "editable": false,
    "nbgrader": {
     "cell_type": "code",
     "checksum": "9078f559d74e46ba986f7d67f7eb896b",
     "grade": false,
     "grade_id": "cell-ccc3ecbb0e2c2e9d",
     "locked": true,
     "schema_version": 3,
     "solution": false,
     "task": false
    }
   },
   "outputs": [
    {
     "data": {
      "text/html": [
       "<div>\n",
       "<style scoped>\n",
       "    .dataframe tbody tr th:only-of-type {\n",
       "        vertical-align: middle;\n",
       "    }\n",
       "\n",
       "    .dataframe tbody tr th {\n",
       "        vertical-align: top;\n",
       "    }\n",
       "\n",
       "    .dataframe thead th {\n",
       "        text-align: right;\n",
       "    }\n",
       "</style>\n",
       "<table border=\"1\" class=\"dataframe\">\n",
       "  <thead>\n",
       "    <tr style=\"text-align: right;\">\n",
       "      <th></th>\n",
       "      <th>Calle</th>\n",
       "      <th>Cantidad promedio [kilos de basura]</th>\n",
       "      <th>Desv est [kilos de basura]</th>\n",
       "    </tr>\n",
       "  </thead>\n",
       "  <tbody>\n",
       "    <tr>\n",
       "      <th>0</th>\n",
       "      <td>Calle 1</td>\n",
       "      <td>2.982143</td>\n",
       "      <td>1.20924</td>\n",
       "    </tr>\n",
       "  </tbody>\n",
       "</table>\n",
       "</div>"
      ],
      "text/plain": [
       "     Calle  Cantidad promedio [kilos de basura]  Desv est [kilos de basura]\n",
       "0  Calle 1                             2.982143                     1.20924"
      ]
     },
     "execution_count": 31,
     "metadata": {},
     "output_type": "execute_result"
    }
   ],
   "source": [
    "basuraxcalle[basuraxcalle['Calle'] == \"Calle 1\"]"
   ]
  },
  {
   "cell_type": "markdown",
   "metadata": {
    "deletable": false,
    "editable": false,
    "nbgrader": {
     "cell_type": "markdown",
     "checksum": "21cc1ddeb00ec60a11100273808063c7",
     "grade": false,
     "grade_id": "cell-23e6d0e861927a3e",
     "locked": true,
     "schema_version": 3,
     "solution": false,
     "task": false
    }
   },
   "source": [
    "El resultado para la Calle 1 deberia ser\n",
    "\n",
    "\n",
    "|Calle   | Cantidad promedio [kilos de basura]\t  | Desv est [kilos de basura]  |\n",
    "|---|---|---|\n",
    "|Calle 1  | 2.982143  | 1.20924  |\n",
    "\n",
    "No es necesario que redondees el numero de promedio o desviacion estandar, ni que hagas ninguna operación con el: guardalo en el dataframe tal cual lo entregue el calculo. \n",
    "\n",
    "Revisemos que hayas calculado bien el promedio y desviacion para la calle 1:"
   ]
  },
  {
   "cell_type": "code",
   "execution_count": 32,
   "metadata": {
    "deletable": false,
    "editable": false,
    "nbgrader": {
     "cell_type": "code",
     "checksum": "819b0d2f4ba9bed6ac2bb855859e0fb9",
     "grade": true,
     "grade_id": "cell-a067e55372584fa7",
     "locked": true,
     "points": 2,
     "schema_version": 3,
     "solution": false,
     "task": false
    }
   },
   "outputs": [],
   "source": [
    "assert np.round(basuraxcalle[basuraxcalle['Calle'] == \"Calle 1\"][\"Cantidad promedio [kilos de basura]\"].values,2) == [[2.98]], \"Fallo en el promedio\"\n",
    "assert np.round(basuraxcalle[basuraxcalle['Calle'] == \"Calle 1\"][\"Desv est [kilos de basura]\"].values,2) == [[1.21]], \"Fallo en la desviacion estandar\""
   ]
  },
  {
   "cell_type": "markdown",
   "metadata": {
    "deletable": false,
    "editable": false,
    "nbgrader": {
     "cell_type": "markdown",
     "checksum": "7129a86c28f549d0ec7fadb65ccc1323",
     "grade": false,
     "grade_id": "cell-a78be541c30ece9c",
     "locked": true,
     "schema_version": 3,
     "solution": false,
     "task": false
    }
   },
   "source": [
    "La siguiente celda hace tests ocultos, en el mismo formato del anterior pero para otras calles seleccionadas al azar! No modifiques, muevas ni elimines la celda"
   ]
  },
  {
   "cell_type": "code",
   "execution_count": null,
   "metadata": {
    "deletable": false,
    "editable": false,
    "nbgrader": {
     "cell_type": "code",
     "checksum": "4669dd059c3d9141fbce5a8eb6345328",
     "grade": true,
     "grade_id": "cell-066d423332379478",
     "locked": true,
     "points": 8,
     "schema_version": 3,
     "solution": false,
     "task": false
    }
   },
   "outputs": [],
   "source": [
    "\n"
   ]
  },
  {
   "cell_type": "markdown",
   "metadata": {
    "deletable": false,
    "editable": false,
    "nbgrader": {
     "cell_type": "markdown",
     "checksum": "6f3275b8f4acff637c864169ef29906a",
     "grade": false,
     "grade_id": "cell-db9a73dba8084824",
     "locked": true,
     "schema_version": 3,
     "solution": false,
     "task": false
    }
   },
   "source": [
    "### Pregunta 2\n",
    "\n",
    "Se define como **calle “intensa”** a aquellas calles cuyo promedio diario de basura generada es **estrictamente mayor a 2,92 kilos por día**.\n",
    "\n",
    "¿Cuántas de las calles serían consideradas intensas (en función de los datos históricos de 28 días)?\n",
    "\n",
    "Guarda la cantidad de calles intensas en la variable c_intensas, en formato int. \n",
    "\n",
    "NO DEBES REDONDEAR NI APROXIMAR EL PROMEDIO PARA HACER LA CLASIFICACION!!\n",
    "\n",
    "**Hint: usa el dataframe que construiste para la pregunta anterior!**"
   ]
  },
  {
   "cell_type": "code",
   "execution_count": 34,
   "metadata": {
    "deletable": false,
    "nbgrader": {
     "cell_type": "code",
     "checksum": "383e640f598c8f82f510a346ae697df2",
     "grade": false,
     "grade_id": "cell-f9d923697c5db145",
     "locked": false,
     "schema_version": 3,
     "solution": true,
     "task": false
    }
   },
   "outputs": [
    {
     "name": "stdout",
     "output_type": "stream",
     "text": [
      "La cantidad de calles intensas es: 1657\n"
     ]
    }
   ],
   "source": [
    "c_intensas=0\n",
    "\n",
    "# Filtrar las calles intensas\n",
    "calles_intensas = basuraxcalle[basuraxcalle['Cantidad promedio [kilos de basura]'] > 2.92]\n",
    "\n",
    "# numero de calles intensas\n",
    "c_intensas = len(calles_intensas)\n",
    "\n",
    "# Muestra la cantidad de calles intensas\n",
    "print(f\"La cantidad de calles intensas es: {c_intensas}\")"
   ]
  },
  {
   "cell_type": "markdown",
   "metadata": {
    "deletable": false,
    "editable": false,
    "nbgrader": {
     "cell_type": "markdown",
     "checksum": "54ac5094a64997c8e5892bb7289fc948",
     "grade": false,
     "grade_id": "cell-167174a2da111295",
     "locked": true,
     "schema_version": 3,
     "solution": false,
     "task": false
    }
   },
   "source": [
    "La siguiente celda hace tests ocultos. No modifiques, muevas ni elimines la celda"
   ]
  },
  {
   "cell_type": "code",
   "execution_count": null,
   "metadata": {
    "deletable": false,
    "editable": false,
    "nbgrader": {
     "cell_type": "code",
     "checksum": "91089e08d026e56ab74c42eaef647681",
     "grade": true,
     "grade_id": "cell-348871e962d7eb31",
     "locked": true,
     "points": 10,
     "schema_version": 3,
     "solution": false,
     "task": false
    }
   },
   "outputs": [],
   "source": []
  },
  {
   "cell_type": "markdown",
   "metadata": {
    "deletable": false,
    "editable": false,
    "nbgrader": {
     "cell_type": "markdown",
     "checksum": "68b9a38bd4443d3d74fb7089a2c57110",
     "grade": false,
     "grade_id": "cell-f96dce220a644269",
     "locked": true,
     "schema_version": 3,
     "solution": false,
     "task": false
    }
   },
   "source": [
    "### Pregunta 3\n",
    "\n",
    "En el dataframe `ciudad` hay datos de las coordenadas donde comienzan y terminan las calles. \n",
    "\n",
    "La comuna comienza en la coordenada 0 y termina en la coordenada 40, tanto para X como para Y. Si se divide territorialmente la comuna de la siguiente manera:\n",
    "\n",
    "#### a. En X, desde la coordenada 0 a la 22 (inclusive) se define Oeste (O)\n",
    "#### b. En X, desde la coordenada 23 a la 40 (inclusive) se define Este (E)\n",
    "#### c. En Y, desde la coordenada 0 a la 27 (inclusive) se define Norte (N)\n",
    "#### d. En Y, desde la coordenada 28 a la 40 (inclusive) se define Sur (S)\n",
    "\n",
    "Considerando esta división territorial, las calles de la comuna se clasifican como zonas: N-E, N-O, S-E, S-O. \n",
    "\n",
    "Puede suceder que alguna calle comience en una zona y termine en otra. Veamos un ejemplo!"
   ]
  },
  {
   "cell_type": "markdown",
   "metadata": {
    "deletable": false,
    "editable": false,
    "nbgrader": {
     "cell_type": "markdown",
     "checksum": "47ca55aa5325d42e54a8f6d66ede32fa",
     "grade": false,
     "grade_id": "cell-2bb97f4eef64adca",
     "locked": true,
     "schema_version": 3,
     "solution": false,
     "task": false
    }
   },
   "source": [
    "Primero renombremos las columnas"
   ]
  },
  {
   "cell_type": "code",
   "execution_count": 35,
   "metadata": {
    "deletable": false,
    "editable": false,
    "nbgrader": {
     "cell_type": "code",
     "checksum": "f0b17f7d95d6405e994ff4bc9b3b36cb",
     "grade": false,
     "grade_id": "cell-b7db3e3314669f5e",
     "locked": true,
     "schema_version": 3,
     "solution": false,
     "task": false
    }
   },
   "outputs": [],
   "source": [
    "ciudad = ciudad.rename(columns = {'Se considera que la ciudad comienza en la esquina inferior izquierda de la cuadrícula que la representa, y entonces: X=0 e Y=0':'Calle',\n",
    "          'Coordenada (X,Y) donde comienza la calle':'Coordenada inicial',\n",
    "       'Coordenada (X,Y) donde termina la calle':'Coordenada final'})"
   ]
  },
  {
   "cell_type": "markdown",
   "metadata": {
    "deletable": false,
    "editable": false,
    "nbgrader": {
     "cell_type": "markdown",
     "checksum": "04159eebf93460cbcc639d56496fe800",
     "grade": false,
     "grade_id": "cell-8e1ce96ec97d73be",
     "locked": true,
     "schema_version": 3,
     "solution": false,
     "task": false
    }
   },
   "source": [
    "Ahora veamos por ejemplo la calle 28"
   ]
  },
  {
   "cell_type": "code",
   "execution_count": 36,
   "metadata": {
    "deletable": false,
    "editable": false,
    "nbgrader": {
     "cell_type": "code",
     "checksum": "cc493a92a1601a20e74e463f321a1ad4",
     "grade": false,
     "grade_id": "cell-d959a796e40924f5",
     "locked": true,
     "schema_version": 3,
     "solution": false,
     "task": false
    }
   },
   "outputs": [
    {
     "data": {
      "text/html": [
       "<div>\n",
       "<style scoped>\n",
       "    .dataframe tbody tr th:only-of-type {\n",
       "        vertical-align: middle;\n",
       "    }\n",
       "\n",
       "    .dataframe tbody tr th {\n",
       "        vertical-align: top;\n",
       "    }\n",
       "\n",
       "    .dataframe thead th {\n",
       "        text-align: right;\n",
       "    }\n",
       "</style>\n",
       "<table border=\"1\" class=\"dataframe\">\n",
       "  <thead>\n",
       "    <tr style=\"text-align: right;\">\n",
       "      <th></th>\n",
       "      <th>Calle</th>\n",
       "      <th>Coordenada inicial</th>\n",
       "      <th>Coordenada final</th>\n",
       "      <th>Unnamed: 3</th>\n",
       "      <th>Unnamed: 4</th>\n",
       "    </tr>\n",
       "  </thead>\n",
       "  <tbody>\n",
       "    <tr>\n",
       "      <th>27</th>\n",
       "      <td>Calle 28</td>\n",
       "      <td>(0,27)</td>\n",
       "      <td>(0,28)</td>\n",
       "      <td>NaN</td>\n",
       "      <td>NaN</td>\n",
       "    </tr>\n",
       "  </tbody>\n",
       "</table>\n",
       "</div>"
      ],
      "text/plain": [
       "       Calle Coordenada inicial Coordenada final  Unnamed: 3 Unnamed: 4\n",
       "27  Calle 28             (0,27)           (0,28)         NaN        NaN"
      ]
     },
     "execution_count": 36,
     "metadata": {},
     "output_type": "execute_result"
    }
   ],
   "source": [
    "ciudad[ciudad[\"Calle\"] == \"Calle 28\"]"
   ]
  },
  {
   "cell_type": "markdown",
   "metadata": {
    "deletable": false,
    "editable": false,
    "nbgrader": {
     "cell_type": "markdown",
     "checksum": "28e88693cbf254051cecf18816217ef9",
     "grade": false,
     "grade_id": "cell-d451a9ac1873d13c",
     "locked": true,
     "schema_version": 3,
     "solution": false,
     "task": false
    }
   },
   "source": [
    "Esta calle comienza en la coordenada (0,27), pero termina en (0,28). Esto quiere decir, que empieza en la zona N-O, pero termina en la zona S-O. Esta es una clase que no se puede clasificar!!"
   ]
  },
  {
   "cell_type": "markdown",
   "metadata": {
    "deletable": false,
    "editable": false,
    "nbgrader": {
     "cell_type": "markdown",
     "checksum": "e007bebc5683047e7a6a24a41ab2e6b3",
     "grade": false,
     "grade_id": "cell-3b4c87540d3122d8",
     "locked": true,
     "schema_version": 3,
     "solution": false,
     "task": false
    }
   },
   "source": [
    "A continuacion, guarda en la variable `sin_clasificar` la cantidad de calles que no pueden ser clasificadas en una zona, es decir, que comiencen en una y terminen en otra. El formato debe ser int"
   ]
  },
  {
   "cell_type": "code",
   "execution_count": 38,
   "metadata": {
    "deletable": false,
    "nbgrader": {
     "cell_type": "code",
     "checksum": "b5aa3e921368e6f37fc86e42e4919fb2",
     "grade": false,
     "grade_id": "cell-ff071714e7279562",
     "locked": false,
     "schema_version": 3,
     "solution": true,
     "task": false
    }
   },
   "outputs": [
    {
     "ename": "TypeError",
     "evalue": "'<=' not supported between instances of 'str' and 'int'",
     "output_type": "error",
     "traceback": [
      "\u001b[0;31m---------------------------------------------------------------------------\u001b[0m",
      "\u001b[0;31mTypeError\u001b[0m                                 Traceback (most recent call last)",
      "\u001b[0;32m<ipython-input-38-f3da34327d77>\u001b[0m in \u001b[0;36m<module>\u001b[0;34m\u001b[0m\n\u001b[1;32m      4\u001b[0m \u001b[0;31m# Define las condiciones para clasificar las calles en las zonas\u001b[0m\u001b[0;34m\u001b[0m\u001b[0;34m\u001b[0m\u001b[0;34m\u001b[0m\u001b[0m\n\u001b[1;32m      5\u001b[0m condiciones = [\n\u001b[0;32m----> 6\u001b[0;31m     \u001b[0;34m(\u001b[0m\u001b[0mciudad\u001b[0m\u001b[0;34m[\u001b[0m\u001b[0;34m'Coordenada inicial'\u001b[0m\u001b[0;34m]\u001b[0m\u001b[0;34m.\u001b[0m\u001b[0mstr\u001b[0m\u001b[0;34m[\u001b[0m\u001b[0;36m0\u001b[0m\u001b[0;34m]\u001b[0m \u001b[0;34m<=\u001b[0m \u001b[0;36m22\u001b[0m\u001b[0;34m)\u001b[0m \u001b[0;34m&\u001b[0m \u001b[0;34m(\u001b[0m\u001b[0mciudad\u001b[0m\u001b[0;34m[\u001b[0m\u001b[0;34m'Coordenada final'\u001b[0m\u001b[0;34m]\u001b[0m\u001b[0;34m.\u001b[0m\u001b[0mstr\u001b[0m\u001b[0;34m[\u001b[0m\u001b[0;36m0\u001b[0m\u001b[0;34m]\u001b[0m \u001b[0;34m<=\u001b[0m \u001b[0;36m22\u001b[0m\u001b[0;34m)\u001b[0m \u001b[0;34m&\u001b[0m \u001b[0;34m(\u001b[0m\u001b[0mciudad\u001b[0m\u001b[0;34m[\u001b[0m\u001b[0;34m'Coordenada inicial'\u001b[0m\u001b[0;34m]\u001b[0m\u001b[0;34m.\u001b[0m\u001b[0mstr\u001b[0m\u001b[0;34m[\u001b[0m\u001b[0;36m1\u001b[0m\u001b[0;34m]\u001b[0m \u001b[0;34m<=\u001b[0m \u001b[0;36m27\u001b[0m\u001b[0;34m)\u001b[0m \u001b[0;34m&\u001b[0m \u001b[0;34m(\u001b[0m\u001b[0mciudad\u001b[0m\u001b[0;34m[\u001b[0m\u001b[0;34m'Coordenada final'\u001b[0m\u001b[0;34m]\u001b[0m\u001b[0;34m.\u001b[0m\u001b[0mstr\u001b[0m\u001b[0;34m[\u001b[0m\u001b[0;36m1\u001b[0m\u001b[0;34m]\u001b[0m \u001b[0;34m<=\u001b[0m \u001b[0;36m27\u001b[0m\u001b[0;34m)\u001b[0m\u001b[0;34m,\u001b[0m\u001b[0;34m\u001b[0m\u001b[0;34m\u001b[0m\u001b[0m\n\u001b[0m\u001b[1;32m      7\u001b[0m     \u001b[0;34m(\u001b[0m\u001b[0mciudad\u001b[0m\u001b[0;34m[\u001b[0m\u001b[0;34m'Coordenada inicial'\u001b[0m\u001b[0;34m]\u001b[0m\u001b[0;34m.\u001b[0m\u001b[0mstr\u001b[0m\u001b[0;34m[\u001b[0m\u001b[0;36m0\u001b[0m\u001b[0;34m]\u001b[0m \u001b[0;34m<=\u001b[0m \u001b[0;36m22\u001b[0m\u001b[0;34m)\u001b[0m \u001b[0;34m&\u001b[0m \u001b[0;34m(\u001b[0m\u001b[0mciudad\u001b[0m\u001b[0;34m[\u001b[0m\u001b[0;34m'Coordenada final'\u001b[0m\u001b[0;34m]\u001b[0m\u001b[0;34m.\u001b[0m\u001b[0mstr\u001b[0m\u001b[0;34m[\u001b[0m\u001b[0;36m0\u001b[0m\u001b[0;34m]\u001b[0m \u001b[0;34m<=\u001b[0m \u001b[0;36m22\u001b[0m\u001b[0;34m)\u001b[0m \u001b[0;34m&\u001b[0m \u001b[0;34m(\u001b[0m\u001b[0mciudad\u001b[0m\u001b[0;34m[\u001b[0m\u001b[0;34m'Coordenada inicial'\u001b[0m\u001b[0;34m]\u001b[0m\u001b[0;34m.\u001b[0m\u001b[0mstr\u001b[0m\u001b[0;34m[\u001b[0m\u001b[0;36m1\u001b[0m\u001b[0;34m]\u001b[0m \u001b[0;34m>\u001b[0m \u001b[0;36m27\u001b[0m\u001b[0;34m)\u001b[0m \u001b[0;34m&\u001b[0m \u001b[0;34m(\u001b[0m\u001b[0mciudad\u001b[0m\u001b[0;34m[\u001b[0m\u001b[0;34m'Coordenada final'\u001b[0m\u001b[0;34m]\u001b[0m\u001b[0;34m.\u001b[0m\u001b[0mstr\u001b[0m\u001b[0;34m[\u001b[0m\u001b[0;36m1\u001b[0m\u001b[0;34m]\u001b[0m \u001b[0;34m>\u001b[0m \u001b[0;36m27\u001b[0m\u001b[0;34m)\u001b[0m\u001b[0;34m,\u001b[0m\u001b[0;34m\u001b[0m\u001b[0;34m\u001b[0m\u001b[0m\n\u001b[1;32m      8\u001b[0m     \u001b[0;34m(\u001b[0m\u001b[0mciudad\u001b[0m\u001b[0;34m[\u001b[0m\u001b[0;34m'Coordenada inicial'\u001b[0m\u001b[0;34m]\u001b[0m\u001b[0;34m.\u001b[0m\u001b[0mstr\u001b[0m\u001b[0;34m[\u001b[0m\u001b[0;36m0\u001b[0m\u001b[0;34m]\u001b[0m \u001b[0;34m>\u001b[0m \u001b[0;36m22\u001b[0m\u001b[0;34m)\u001b[0m \u001b[0;34m&\u001b[0m \u001b[0;34m(\u001b[0m\u001b[0mciudad\u001b[0m\u001b[0;34m[\u001b[0m\u001b[0;34m'Coordenada final'\u001b[0m\u001b[0;34m]\u001b[0m\u001b[0;34m.\u001b[0m\u001b[0mstr\u001b[0m\u001b[0;34m[\u001b[0m\u001b[0;36m0\u001b[0m\u001b[0;34m]\u001b[0m \u001b[0;34m>\u001b[0m \u001b[0;36m22\u001b[0m\u001b[0;34m)\u001b[0m \u001b[0;34m&\u001b[0m \u001b[0;34m(\u001b[0m\u001b[0mciudad\u001b[0m\u001b[0;34m[\u001b[0m\u001b[0;34m'Coordenada inicial'\u001b[0m\u001b[0;34m]\u001b[0m\u001b[0;34m.\u001b[0m\u001b[0mstr\u001b[0m\u001b[0;34m[\u001b[0m\u001b[0;36m1\u001b[0m\u001b[0;34m]\u001b[0m \u001b[0;34m<=\u001b[0m \u001b[0;36m27\u001b[0m\u001b[0;34m)\u001b[0m \u001b[0;34m&\u001b[0m \u001b[0;34m(\u001b[0m\u001b[0mciudad\u001b[0m\u001b[0;34m[\u001b[0m\u001b[0;34m'Coordenada final'\u001b[0m\u001b[0;34m]\u001b[0m\u001b[0;34m.\u001b[0m\u001b[0mstr\u001b[0m\u001b[0;34m[\u001b[0m\u001b[0;36m1\u001b[0m\u001b[0;34m]\u001b[0m \u001b[0;34m<=\u001b[0m \u001b[0;36m27\u001b[0m\u001b[0;34m)\u001b[0m\u001b[0;34m,\u001b[0m\u001b[0;34m\u001b[0m\u001b[0;34m\u001b[0m\u001b[0m\n",
      "\u001b[0;32m/opt/conda/lib/python3.7/site-packages/pandas/core/ops/common.py\u001b[0m in \u001b[0;36mnew_method\u001b[0;34m(self, other)\u001b[0m\n\u001b[1;32m     62\u001b[0m         \u001b[0mother\u001b[0m \u001b[0;34m=\u001b[0m \u001b[0mitem_from_zerodim\u001b[0m\u001b[0;34m(\u001b[0m\u001b[0mother\u001b[0m\u001b[0;34m)\u001b[0m\u001b[0;34m\u001b[0m\u001b[0;34m\u001b[0m\u001b[0m\n\u001b[1;32m     63\u001b[0m \u001b[0;34m\u001b[0m\u001b[0m\n\u001b[0;32m---> 64\u001b[0;31m         \u001b[0;32mreturn\u001b[0m \u001b[0mmethod\u001b[0m\u001b[0;34m(\u001b[0m\u001b[0mself\u001b[0m\u001b[0;34m,\u001b[0m \u001b[0mother\u001b[0m\u001b[0;34m)\u001b[0m\u001b[0;34m\u001b[0m\u001b[0;34m\u001b[0m\u001b[0m\n\u001b[0m\u001b[1;32m     65\u001b[0m \u001b[0;34m\u001b[0m\u001b[0m\n\u001b[1;32m     66\u001b[0m     \u001b[0;32mreturn\u001b[0m \u001b[0mnew_method\u001b[0m\u001b[0;34m\u001b[0m\u001b[0;34m\u001b[0m\u001b[0m\n",
      "\u001b[0;32m/opt/conda/lib/python3.7/site-packages/pandas/core/ops/__init__.py\u001b[0m in \u001b[0;36mwrapper\u001b[0;34m(self, other)\u001b[0m\n\u001b[1;32m    527\u001b[0m         \u001b[0mrvalues\u001b[0m \u001b[0;34m=\u001b[0m \u001b[0mextract_array\u001b[0m\u001b[0;34m(\u001b[0m\u001b[0mother\u001b[0m\u001b[0;34m,\u001b[0m \u001b[0mextract_numpy\u001b[0m\u001b[0;34m=\u001b[0m\u001b[0;32mTrue\u001b[0m\u001b[0;34m)\u001b[0m\u001b[0;34m\u001b[0m\u001b[0;34m\u001b[0m\u001b[0m\n\u001b[1;32m    528\u001b[0m \u001b[0;34m\u001b[0m\u001b[0m\n\u001b[0;32m--> 529\u001b[0;31m         \u001b[0mres_values\u001b[0m \u001b[0;34m=\u001b[0m \u001b[0mcomparison_op\u001b[0m\u001b[0;34m(\u001b[0m\u001b[0mlvalues\u001b[0m\u001b[0;34m,\u001b[0m \u001b[0mrvalues\u001b[0m\u001b[0;34m,\u001b[0m \u001b[0mop\u001b[0m\u001b[0;34m)\u001b[0m\u001b[0;34m\u001b[0m\u001b[0;34m\u001b[0m\u001b[0m\n\u001b[0m\u001b[1;32m    530\u001b[0m \u001b[0;34m\u001b[0m\u001b[0m\n\u001b[1;32m    531\u001b[0m         \u001b[0;32mreturn\u001b[0m \u001b[0m_construct_result\u001b[0m\u001b[0;34m(\u001b[0m\u001b[0mself\u001b[0m\u001b[0;34m,\u001b[0m \u001b[0mres_values\u001b[0m\u001b[0;34m,\u001b[0m \u001b[0mindex\u001b[0m\u001b[0;34m=\u001b[0m\u001b[0mself\u001b[0m\u001b[0;34m.\u001b[0m\u001b[0mindex\u001b[0m\u001b[0;34m,\u001b[0m \u001b[0mname\u001b[0m\u001b[0;34m=\u001b[0m\u001b[0mres_name\u001b[0m\u001b[0;34m)\u001b[0m\u001b[0;34m\u001b[0m\u001b[0;34m\u001b[0m\u001b[0m\n",
      "\u001b[0;32m/opt/conda/lib/python3.7/site-packages/pandas/core/ops/array_ops.py\u001b[0m in \u001b[0;36mcomparison_op\u001b[0;34m(left, right, op)\u001b[0m\n\u001b[1;32m    245\u001b[0m \u001b[0;34m\u001b[0m\u001b[0m\n\u001b[1;32m    246\u001b[0m     \u001b[0;32melif\u001b[0m \u001b[0mis_object_dtype\u001b[0m\u001b[0;34m(\u001b[0m\u001b[0mlvalues\u001b[0m\u001b[0;34m.\u001b[0m\u001b[0mdtype\u001b[0m\u001b[0;34m)\u001b[0m\u001b[0;34m:\u001b[0m\u001b[0;34m\u001b[0m\u001b[0;34m\u001b[0m\u001b[0m\n\u001b[0;32m--> 247\u001b[0;31m         \u001b[0mres_values\u001b[0m \u001b[0;34m=\u001b[0m \u001b[0mcomp_method_OBJECT_ARRAY\u001b[0m\u001b[0;34m(\u001b[0m\u001b[0mop\u001b[0m\u001b[0;34m,\u001b[0m \u001b[0mlvalues\u001b[0m\u001b[0;34m,\u001b[0m \u001b[0mrvalues\u001b[0m\u001b[0;34m)\u001b[0m\u001b[0;34m\u001b[0m\u001b[0;34m\u001b[0m\u001b[0m\n\u001b[0m\u001b[1;32m    248\u001b[0m \u001b[0;34m\u001b[0m\u001b[0m\n\u001b[1;32m    249\u001b[0m     \u001b[0;32melse\u001b[0m\u001b[0;34m:\u001b[0m\u001b[0;34m\u001b[0m\u001b[0;34m\u001b[0m\u001b[0m\n",
      "\u001b[0;32m/opt/conda/lib/python3.7/site-packages/pandas/core/ops/array_ops.py\u001b[0m in \u001b[0;36mcomp_method_OBJECT_ARRAY\u001b[0;34m(op, x, y)\u001b[0m\n\u001b[1;32m     55\u001b[0m         \u001b[0mresult\u001b[0m \u001b[0;34m=\u001b[0m \u001b[0mlibops\u001b[0m\u001b[0;34m.\u001b[0m\u001b[0mvec_compare\u001b[0m\u001b[0;34m(\u001b[0m\u001b[0mx\u001b[0m\u001b[0;34m.\u001b[0m\u001b[0mravel\u001b[0m\u001b[0;34m(\u001b[0m\u001b[0;34m)\u001b[0m\u001b[0;34m,\u001b[0m \u001b[0my\u001b[0m\u001b[0;34m,\u001b[0m \u001b[0mop\u001b[0m\u001b[0;34m)\u001b[0m\u001b[0;34m\u001b[0m\u001b[0;34m\u001b[0m\u001b[0m\n\u001b[1;32m     56\u001b[0m     \u001b[0;32melse\u001b[0m\u001b[0;34m:\u001b[0m\u001b[0;34m\u001b[0m\u001b[0;34m\u001b[0m\u001b[0m\n\u001b[0;32m---> 57\u001b[0;31m         \u001b[0mresult\u001b[0m \u001b[0;34m=\u001b[0m \u001b[0mlibops\u001b[0m\u001b[0;34m.\u001b[0m\u001b[0mscalar_compare\u001b[0m\u001b[0;34m(\u001b[0m\u001b[0mx\u001b[0m\u001b[0;34m.\u001b[0m\u001b[0mravel\u001b[0m\u001b[0;34m(\u001b[0m\u001b[0;34m)\u001b[0m\u001b[0;34m,\u001b[0m \u001b[0my\u001b[0m\u001b[0;34m,\u001b[0m \u001b[0mop\u001b[0m\u001b[0;34m)\u001b[0m\u001b[0;34m\u001b[0m\u001b[0;34m\u001b[0m\u001b[0m\n\u001b[0m\u001b[1;32m     58\u001b[0m     \u001b[0;32mreturn\u001b[0m \u001b[0mresult\u001b[0m\u001b[0;34m.\u001b[0m\u001b[0mreshape\u001b[0m\u001b[0;34m(\u001b[0m\u001b[0mx\u001b[0m\u001b[0;34m.\u001b[0m\u001b[0mshape\u001b[0m\u001b[0;34m)\u001b[0m\u001b[0;34m\u001b[0m\u001b[0;34m\u001b[0m\u001b[0m\n\u001b[1;32m     59\u001b[0m \u001b[0;34m\u001b[0m\u001b[0m\n",
      "\u001b[0;32mpandas/_libs/ops.pyx\u001b[0m in \u001b[0;36mpandas._libs.ops.scalar_compare\u001b[0;34m()\u001b[0m\n",
      "\u001b[0;31mTypeError\u001b[0m: '<=' not supported between instances of 'str' and 'int'"
     ]
    }
   ],
   "source": [
    "sin_clasificar=None\n",
    "# your code here\n",
    "\n",
    "# Define las condiciones para clasificar las calles en las zonas\n",
    "condiciones = [\n",
    "    (ciudad['Coordenada inicial'].str[0] <= 22) & (ciudad['Coordenada final'].str[0] <= 22) & (ciudad['Coordenada inicial'].str[1] <= 27) & (ciudad['Coordenada final'].str[1] <= 27),\n",
    "    (ciudad['Coordenada inicial'].str[0] <= 22) & (ciudad['Coordenada final'].str[0] <= 22) & (ciudad['Coordenada inicial'].str[1] > 27) & (ciudad['Coordenada final'].str[1] > 27),\n",
    "    (ciudad['Coordenada inicial'].str[0] > 22) & (ciudad['Coordenada final'].str[0] > 22) & (ciudad['Coordenada inicial'].str[1] <= 27) & (ciudad['Coordenada final'].str[1] <= 27),\n",
    "    (ciudad['Coordenada inicial'].str[0] > 22) & (ciudad['Coordenada final'].str[0] > 22) & (ciudad['Coordenada inicial'].str[1] > 27) & (ciudad['Coordenada final'].str[1] > 27)\n",
    "]\n",
    "\n",
    "# Define las opciones para las zonas\n",
    "zonas = ['N-O', 'N-E', 'S-O', 'S-E']\n",
    "\n",
    "# Aplica las condiciones y asigna las zonas correspondientes\n",
    "ciudad['Zona'] = np.select(condiciones, zonas, default='Otro')\n",
    "\n",
    "# Combina la información de la zona en el DataFrame basuraxcalle\n",
    "basuraxcalle2 = pd.merge(basuraxcalle, ciudad[['Calle', 'Zona']], on='Calle')\n",
    "\n",
    "# Muestra el DataFrame resultante con la clasificación de las calles en las zonas\n",
    "basuraxcalle2\n"
   ]
  },
  {
   "cell_type": "markdown",
   "metadata": {
    "deletable": false,
    "editable": false,
    "nbgrader": {
     "cell_type": "markdown",
     "checksum": "514f8e198bdf84f79a00feec81c70f2c",
     "grade": false,
     "grade_id": "cell-59e8190d0d990fcf",
     "locked": true,
     "schema_version": 3,
     "solution": false,
     "task": false
    }
   },
   "source": [
    "La siguiente celda hace tests ocultos. No modifiques, muevas ni elimines la celda"
   ]
  },
  {
   "cell_type": "code",
   "execution_count": null,
   "metadata": {
    "deletable": false,
    "editable": false,
    "nbgrader": {
     "cell_type": "code",
     "checksum": "d478ff9e6af950e6bb0149dedd23dfaa",
     "grade": true,
     "grade_id": "cell-f822d00afc85380f",
     "locked": true,
     "points": 10,
     "schema_version": 3,
     "solution": false,
     "task": false
    }
   },
   "outputs": [],
   "source": [
    "\n"
   ]
  },
  {
   "cell_type": "markdown",
   "metadata": {
    "deletable": false,
    "editable": false,
    "nbgrader": {
     "cell_type": "markdown",
     "checksum": "4e929738af62364d208f9bde90a78bd7",
     "grade": false,
     "grade_id": "cell-0ad77e496d8434f4",
     "locked": true,
     "schema_version": 3,
     "solution": false,
     "task": false
    }
   },
   "source": [
    "### Pregunta 4\n",
    "Considerando la clasificación anterior,\n",
    "¿cuántas calles quedan clasificadas en cada zona?\n",
    "\n",
    "Para contestar, genera un dataframe que tenga 2 columnas: Clasificacion y Calle. Dicho df debe ser almacenado en la variable \"callesxzona\".\n",
    "\n",
    "Los valores para clasificacion son: \"N-E\", \"N-O\", \"No clasificado\", \"S-E\", \"S-O\"\n",
    "\n",
    "Ejemplo del dataframe: \n",
    "\n",
    "|Clasificacion|Calle|\n",
    "|---|---|\n",
    "|N-E| 0|\n",
    "|N-O| 0|\n",
    "|No clasificado| 0|\n",
    "|S-E| 0|\n",
    "|S-O| 0|\n",
    "\n"
   ]
  },
  {
   "cell_type": "code",
   "execution_count": null,
   "metadata": {
    "deletable": false,
    "nbgrader": {
     "cell_type": "code",
     "checksum": "3a9d561750df1f814a68759f6d6c1cfc",
     "grade": false,
     "grade_id": "cell-cf9048141a7f6413",
     "locked": false,
     "schema_version": 3,
     "solution": true,
     "task": false
    }
   },
   "outputs": [],
   "source": [
    "callesxzona=None\n",
    "# your code here\n",
    "raise NotImplementedError"
   ]
  },
  {
   "cell_type": "markdown",
   "metadata": {
    "deletable": false,
    "editable": false,
    "nbgrader": {
     "cell_type": "markdown",
     "checksum": "820c669c5665233ad3ca83654d0e4e1a",
     "grade": false,
     "grade_id": "cell-2d207beb927816ae",
     "locked": true,
     "schema_version": 3,
     "solution": false,
     "task": false
    }
   },
   "source": [
    "Revisa que hayas creado bien el dataframe!"
   ]
  },
  {
   "cell_type": "code",
   "execution_count": null,
   "metadata": {
    "deletable": false,
    "editable": false,
    "nbgrader": {
     "cell_type": "code",
     "checksum": "2a46c5c8a1c363477f60c81a5e0f49a2",
     "grade": false,
     "grade_id": "cell-547902c141c9d36e",
     "locked": true,
     "schema_version": 3,
     "solution": false,
     "task": false
    }
   },
   "outputs": [],
   "source": [
    "print(list(callesxzona.columns) == ['Clasificacion', 'Calle'])\n",
    "\n",
    "clasificaciones = list(callesxzona[\"Clasificacion\"].values)\n",
    "clasificaciones.sort()\n",
    "\n",
    "print(clasificaciones == ['N-E', 'N-O', 'No clasificado', 'S-E', 'S-O'])"
   ]
  },
  {
   "cell_type": "markdown",
   "metadata": {
    "deletable": false,
    "editable": false,
    "nbgrader": {
     "cell_type": "markdown",
     "checksum": "baca2fda73e2bd54e95769df5f6d8356",
     "grade": false,
     "grade_id": "cell-50afdc0ba0747458",
     "locked": true,
     "schema_version": 3,
     "solution": false,
     "task": false
    }
   },
   "source": [
    "Comenzamos con un test visible!"
   ]
  },
  {
   "cell_type": "code",
   "execution_count": null,
   "metadata": {
    "deletable": false,
    "editable": false,
    "nbgrader": {
     "cell_type": "code",
     "checksum": "56d0f4c0bbf449a02c199a7b866f22b4",
     "grade": true,
     "grade_id": "cell-a752ee97105e2336",
     "locked": true,
     "points": 2,
     "schema_version": 3,
     "solution": false,
     "task": false
    }
   },
   "outputs": [],
   "source": [
    "assert callesxzona[callesxzona['Clasificacion'] == 'N-E'][\"Calle\"].values == [[962]]"
   ]
  },
  {
   "cell_type": "markdown",
   "metadata": {
    "deletable": false,
    "editable": false,
    "nbgrader": {
     "cell_type": "markdown",
     "checksum": "fb346a4317387ecac638df3b55d18e86",
     "grade": false,
     "grade_id": "cell-a81f2ff6273a29a7",
     "locked": true,
     "schema_version": 3,
     "solution": false,
     "task": false
    }
   },
   "source": [
    "La siguiente celda hace tests ocultos. No modifiques, muevas ni elimines la celda"
   ]
  },
  {
   "cell_type": "code",
   "execution_count": null,
   "metadata": {
    "deletable": false,
    "editable": false,
    "nbgrader": {
     "cell_type": "code",
     "checksum": "fa8637793bf6ca9d2f3eaf71bf306f77",
     "grade": true,
     "grade_id": "cell-ba519ed80a29c1e1",
     "locked": true,
     "points": 8,
     "schema_version": 3,
     "solution": false,
     "task": false
    }
   },
   "outputs": [],
   "source": []
  },
  {
   "cell_type": "code",
   "execution_count": null,
   "metadata": {},
   "outputs": [],
   "source": []
  },
  {
   "cell_type": "markdown",
   "metadata": {
    "deletable": false,
    "editable": false,
    "nbgrader": {
     "cell_type": "markdown",
     "checksum": "90922fe630f578d0df0e175b8d3eff2e",
     "grade": false,
     "grade_id": "cell-e039cfa99c8efbb1",
     "locked": true,
     "schema_version": 3,
     "solution": false,
     "task": false
    }
   },
   "source": [
    "### Pregunta 5 \n",
    "¿Cuál es el promedio y desviación estándar de la cantidad de kilos de basura generada por cada zona?\n",
    "\n",
    "Excluya las calles que quedan sin clasificar. \n",
    "\n",
    "Guarde su respuesta en un dataframe con la siguiente estructura: \n",
    "\n",
    "|Zona   | Cantidad promedio [kilos de basura]\t  | Desv est [kilos de basura]  |\n",
    "|---|---|---|\n",
    "|N-O  | 0  | 0  |\n",
    "\n",
    "Guarde el dataframe en la variable `zona_stats`"
   ]
  },
  {
   "cell_type": "code",
   "execution_count": null,
   "metadata": {
    "deletable": false,
    "nbgrader": {
     "cell_type": "code",
     "checksum": "aa0222b14d1eec4bd8e97a06231f89e6",
     "grade": false,
     "grade_id": "cell-78ec1837f73b5e91",
     "locked": false,
     "schema_version": 3,
     "solution": true,
     "task": false
    }
   },
   "outputs": [],
   "source": [
    "zona_stats=None\n",
    "# your code here\n",
    "raise NotImplementedError"
   ]
  },
  {
   "cell_type": "markdown",
   "metadata": {
    "deletable": false,
    "editable": false,
    "nbgrader": {
     "cell_type": "markdown",
     "checksum": "bfebd53c27ec0d018a8cf0f6507e362a",
     "grade": false,
     "grade_id": "cell-b044c39bb8b68e08",
     "locked": true,
     "schema_version": 3,
     "solution": false,
     "task": false
    }
   },
   "source": [
    "Revisemos el formato"
   ]
  },
  {
   "cell_type": "code",
   "execution_count": null,
   "metadata": {
    "deletable": false,
    "editable": false,
    "nbgrader": {
     "cell_type": "code",
     "checksum": "2d68d6153f67b1e1b3f9ca2752e32c67",
     "grade": false,
     "grade_id": "cell-ef1c01f97c54b944",
     "locked": true,
     "schema_version": 3,
     "solution": false,
     "task": false
    }
   },
   "outputs": [],
   "source": [
    "zona_stats"
   ]
  },
  {
   "cell_type": "code",
   "execution_count": null,
   "metadata": {
    "deletable": false,
    "editable": false,
    "nbgrader": {
     "cell_type": "code",
     "checksum": "309683a7947b75d09cda1d5e4e7159e8",
     "grade": false,
     "grade_id": "cell-949375023d980bf6",
     "locked": true,
     "schema_version": 3,
     "solution": false,
     "task": false
    }
   },
   "outputs": [],
   "source": [
    "print(list(zona_stats.columns) == ['Zona', 'Cantidad promedio [kilos de basura]', 'Desv est [kilos de basura]'])\n",
    "\n",
    "cols = list(zona_stats['Zona'].values)\n",
    "cols.sort()\n",
    "\n",
    "print(cols == ['N-E', 'N-O', 'S-E', 'S-O'])"
   ]
  },
  {
   "cell_type": "markdown",
   "metadata": {},
   "source": [
    "Comenzamos con un test visible:"
   ]
  },
  {
   "cell_type": "code",
   "execution_count": null,
   "metadata": {
    "deletable": false,
    "editable": false,
    "nbgrader": {
     "cell_type": "code",
     "checksum": "3539f34b127a62455fb04c062cd5a447",
     "grade": true,
     "grade_id": "cell-160992c4370d57bc",
     "locked": true,
     "points": 5,
     "schema_version": 3,
     "solution": false,
     "task": false
    }
   },
   "outputs": [],
   "source": [
    "ans_NE = np.round(zona_stats[zona_stats[\"Zona\"]=='N-E'][[\"Cantidad promedio [kilos de basura]\", \"Desv est [kilos de basura]\"]].values,3)\n",
    "\n",
    "assert (ans_NE== [[2.926, 1.122]]).all()"
   ]
  },
  {
   "cell_type": "markdown",
   "metadata": {
    "deletable": false,
    "editable": false,
    "nbgrader": {
     "cell_type": "markdown",
     "checksum": "037d763fb124ea2e9b1268ee9066210d",
     "grade": false,
     "grade_id": "cell-f380f1481d1ee9df",
     "locked": true,
     "schema_version": 3,
     "solution": false,
     "task": false
    }
   },
   "source": [
    "La siguiente celda hace tests ocultos. No modifiques, muevas ni elimines la celda"
   ]
  },
  {
   "cell_type": "code",
   "execution_count": null,
   "metadata": {
    "deletable": false,
    "editable": false,
    "nbgrader": {
     "cell_type": "code",
     "checksum": "a65c0337e8ee6a9c8e6c16820f2fd3d3",
     "grade": true,
     "grade_id": "cell-66b73491203a6798",
     "locked": true,
     "points": 5,
     "schema_version": 3,
     "solution": false,
     "task": false
    }
   },
   "outputs": [],
   "source": []
  }
 ],
 "metadata": {
  "kernelspec": {
   "display_name": "Python 3",
   "language": "python",
   "name": "python3"
  },
  "language_info": {
   "codemirror_mode": {
    "name": "ipython",
    "version": 3
   },
   "file_extension": ".py",
   "mimetype": "text/x-python",
   "name": "python",
   "nbconvert_exporter": "python",
   "pygments_lexer": "ipython3",
   "version": "3.7.6"
  }
 },
 "nbformat": 4,
 "nbformat_minor": 4
}
