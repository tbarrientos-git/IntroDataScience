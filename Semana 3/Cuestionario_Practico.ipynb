{
 "cells": [
  {
   "cell_type": "markdown",
   "metadata": {},
   "source": [
    "## Cuestionario Práctico - Semana 3- MCD - Análisis de datos en Python\n",
    "### Cuestionario Formativo\n",
    "Desarrollo Cuestionario • Tomás Barrientos • 30-10-2023"
   ]
  },
  {
   "cell_type": "code",
   "execution_count": 1,
   "metadata": {},
   "outputs": [],
   "source": [
    "#Importación de Librerías a utilizar\n",
    "import pandas as pd\n",
    "import numpy as np\n",
    "import seaborn as sns\n",
    "import glob\n",
    "import plotly.express as px\n",
    "import matplotlib.pyplot as plt\n",
    "plt.style.use('default')\n",
    "  \n",
    "# %matplotlib inline: only draw static\n",
    "# images in the notebookº\n",
    "%matplotlib inline"
   ]
  },
  {
   "cell_type": "code",
   "execution_count": 2,
   "metadata": {},
   "outputs": [
    {
     "ename": "FileNotFoundError",
     "evalue": "[Errno 2] No such file or directory: 'C:/Users/Tomás Barrientos/Downloads/DatosLigas/LaLiga21 22.xlsx'",
     "output_type": "error",
     "traceback": [
      "\u001b[1;31m---------------------------------------------------------------------------\u001b[0m",
      "\u001b[1;31mFileNotFoundError\u001b[0m                         Traceback (most recent call last)",
      "\u001b[1;32mh:\\Mi unidad\\Diplomado - Introducción a la Ciencia de Datos UC\\MANE - MCD - Análisis de datos en Phyton\\Semana 3\\Cuestionario_Practico.ipynb Cell 3\u001b[0m line \u001b[0;36m2\n\u001b[0;32m      <a href='vscode-notebook-cell:/h%3A/Mi%20unidad/Diplomado%20-%20Introducci%C3%B3n%20a%20la%20Ciencia%20de%20Datos%20UC/MANE%20-%20MCD%20-%20An%C3%A1lisis%20de%20datos%20en%20Phyton/Semana%203/Cuestionario_Practico.ipynb#W4sZmlsZQ%3D%3D?line=0'>1</a>\u001b[0m \u001b[39m#Creación de dataframes con archivos locales\u001b[39;00m\n\u001b[1;32m----> <a href='vscode-notebook-cell:/h%3A/Mi%20unidad/Diplomado%20-%20Introducci%C3%B3n%20a%20la%20Ciencia%20de%20Datos%20UC/MANE%20-%20MCD%20-%20An%C3%A1lisis%20de%20datos%20en%20Phyton/Semana%203/Cuestionario_Practico.ipynb#W4sZmlsZQ%3D%3D?line=1'>2</a>\u001b[0m laliga2122 \u001b[39m=\u001b[39m pd\u001b[39m.\u001b[39;49mread_excel(\u001b[39m'\u001b[39;49m\u001b[39mC:/Users/Tomás Barrientos/Downloads/DatosLigas/LaLiga21 22.xlsx\u001b[39;49m\u001b[39m'\u001b[39;49m, )\n\u001b[0;32m      <a href='vscode-notebook-cell:/h%3A/Mi%20unidad/Diplomado%20-%20Introducci%C3%B3n%20a%20la%20Ciencia%20de%20Datos%20UC/MANE%20-%20MCD%20-%20An%C3%A1lisis%20de%20datos%20en%20Phyton/Semana%203/Cuestionario_Practico.ipynb#W4sZmlsZQ%3D%3D?line=2'>3</a>\u001b[0m laliga2021 \u001b[39m=\u001b[39m pd\u001b[39m.\u001b[39mread_excel(\u001b[39m'\u001b[39m\u001b[39mC:/Users/Tomás Barrientos/Downloads/DatosLigas/LaLiga20 21.xlsx\u001b[39m\u001b[39m'\u001b[39m, )\n\u001b[0;32m      <a href='vscode-notebook-cell:/h%3A/Mi%20unidad/Diplomado%20-%20Introducci%C3%B3n%20a%20la%20Ciencia%20de%20Datos%20UC/MANE%20-%20MCD%20-%20An%C3%A1lisis%20de%20datos%20en%20Phyton/Semana%203/Cuestionario_Practico.ipynb#W4sZmlsZQ%3D%3D?line=3'>4</a>\u001b[0m laliga1920 \u001b[39m=\u001b[39m pd\u001b[39m.\u001b[39mread_excel(\u001b[39m'\u001b[39m\u001b[39mC:/Users/Tomás Barrientos/Downloads/DatosLigas/LaLiga19 20.xlsx\u001b[39m\u001b[39m'\u001b[39m, )\n",
      "File \u001b[1;32mc:\\Users\\Tomás Barrientos\\AppData\\Local\\Programs\\Python\\Python312\\Lib\\site-packages\\pandas\\io\\excel\\_base.py:504\u001b[0m, in \u001b[0;36mread_excel\u001b[1;34m(io, sheet_name, header, names, index_col, usecols, dtype, engine, converters, true_values, false_values, skiprows, nrows, na_values, keep_default_na, na_filter, verbose, parse_dates, date_parser, date_format, thousands, decimal, comment, skipfooter, storage_options, dtype_backend, engine_kwargs)\u001b[0m\n\u001b[0;32m    502\u001b[0m \u001b[39mif\u001b[39;00m \u001b[39mnot\u001b[39;00m \u001b[39misinstance\u001b[39m(io, ExcelFile):\n\u001b[0;32m    503\u001b[0m     should_close \u001b[39m=\u001b[39m \u001b[39mTrue\u001b[39;00m\n\u001b[1;32m--> 504\u001b[0m     io \u001b[39m=\u001b[39m ExcelFile(\n\u001b[0;32m    505\u001b[0m         io,\n\u001b[0;32m    506\u001b[0m         storage_options\u001b[39m=\u001b[39;49mstorage_options,\n\u001b[0;32m    507\u001b[0m         engine\u001b[39m=\u001b[39;49mengine,\n\u001b[0;32m    508\u001b[0m         engine_kwargs\u001b[39m=\u001b[39;49mengine_kwargs,\n\u001b[0;32m    509\u001b[0m     )\n\u001b[0;32m    510\u001b[0m \u001b[39melif\u001b[39;00m engine \u001b[39mand\u001b[39;00m engine \u001b[39m!=\u001b[39m io\u001b[39m.\u001b[39mengine:\n\u001b[0;32m    511\u001b[0m     \u001b[39mraise\u001b[39;00m \u001b[39mValueError\u001b[39;00m(\n\u001b[0;32m    512\u001b[0m         \u001b[39m\"\u001b[39m\u001b[39mEngine should not be specified when passing \u001b[39m\u001b[39m\"\u001b[39m\n\u001b[0;32m    513\u001b[0m         \u001b[39m\"\u001b[39m\u001b[39man ExcelFile - ExcelFile already has the engine set\u001b[39m\u001b[39m\"\u001b[39m\n\u001b[0;32m    514\u001b[0m     )\n",
      "File \u001b[1;32mc:\\Users\\Tomás Barrientos\\AppData\\Local\\Programs\\Python\\Python312\\Lib\\site-packages\\pandas\\io\\excel\\_base.py:1563\u001b[0m, in \u001b[0;36mExcelFile.__init__\u001b[1;34m(self, path_or_buffer, engine, storage_options, engine_kwargs)\u001b[0m\n\u001b[0;32m   1561\u001b[0m     ext \u001b[39m=\u001b[39m \u001b[39m\"\u001b[39m\u001b[39mxls\u001b[39m\u001b[39m\"\u001b[39m\n\u001b[0;32m   1562\u001b[0m \u001b[39melse\u001b[39;00m:\n\u001b[1;32m-> 1563\u001b[0m     ext \u001b[39m=\u001b[39m inspect_excel_format(\n\u001b[0;32m   1564\u001b[0m         content_or_path\u001b[39m=\u001b[39;49mpath_or_buffer, storage_options\u001b[39m=\u001b[39;49mstorage_options\n\u001b[0;32m   1565\u001b[0m     )\n\u001b[0;32m   1566\u001b[0m     \u001b[39mif\u001b[39;00m ext \u001b[39mis\u001b[39;00m \u001b[39mNone\u001b[39;00m:\n\u001b[0;32m   1567\u001b[0m         \u001b[39mraise\u001b[39;00m \u001b[39mValueError\u001b[39;00m(\n\u001b[0;32m   1568\u001b[0m             \u001b[39m\"\u001b[39m\u001b[39mExcel file format cannot be determined, you must specify \u001b[39m\u001b[39m\"\u001b[39m\n\u001b[0;32m   1569\u001b[0m             \u001b[39m\"\u001b[39m\u001b[39man engine manually.\u001b[39m\u001b[39m\"\u001b[39m\n\u001b[0;32m   1570\u001b[0m         )\n",
      "File \u001b[1;32mc:\\Users\\Tomás Barrientos\\AppData\\Local\\Programs\\Python\\Python312\\Lib\\site-packages\\pandas\\io\\excel\\_base.py:1419\u001b[0m, in \u001b[0;36minspect_excel_format\u001b[1;34m(content_or_path, storage_options)\u001b[0m\n\u001b[0;32m   1416\u001b[0m \u001b[39mif\u001b[39;00m \u001b[39misinstance\u001b[39m(content_or_path, \u001b[39mbytes\u001b[39m):\n\u001b[0;32m   1417\u001b[0m     content_or_path \u001b[39m=\u001b[39m BytesIO(content_or_path)\n\u001b[1;32m-> 1419\u001b[0m \u001b[39mwith\u001b[39;00m get_handle(\n\u001b[0;32m   1420\u001b[0m     content_or_path, \u001b[39m\"\u001b[39;49m\u001b[39mrb\u001b[39;49m\u001b[39m\"\u001b[39;49m, storage_options\u001b[39m=\u001b[39;49mstorage_options, is_text\u001b[39m=\u001b[39;49m\u001b[39mFalse\u001b[39;49;00m\n\u001b[0;32m   1421\u001b[0m ) \u001b[39mas\u001b[39;00m handle:\n\u001b[0;32m   1422\u001b[0m     stream \u001b[39m=\u001b[39m handle\u001b[39m.\u001b[39mhandle\n\u001b[0;32m   1423\u001b[0m     stream\u001b[39m.\u001b[39mseek(\u001b[39m0\u001b[39m)\n",
      "File \u001b[1;32mc:\\Users\\Tomás Barrientos\\AppData\\Local\\Programs\\Python\\Python312\\Lib\\site-packages\\pandas\\io\\common.py:872\u001b[0m, in \u001b[0;36mget_handle\u001b[1;34m(path_or_buf, mode, encoding, compression, memory_map, is_text, errors, storage_options)\u001b[0m\n\u001b[0;32m    863\u001b[0m         handle \u001b[39m=\u001b[39m \u001b[39mopen\u001b[39m(\n\u001b[0;32m    864\u001b[0m             handle,\n\u001b[0;32m    865\u001b[0m             ioargs\u001b[39m.\u001b[39mmode,\n\u001b[1;32m   (...)\u001b[0m\n\u001b[0;32m    868\u001b[0m             newline\u001b[39m=\u001b[39m\u001b[39m\"\u001b[39m\u001b[39m\"\u001b[39m,\n\u001b[0;32m    869\u001b[0m         )\n\u001b[0;32m    870\u001b[0m     \u001b[39melse\u001b[39;00m:\n\u001b[0;32m    871\u001b[0m         \u001b[39m# Binary mode\u001b[39;00m\n\u001b[1;32m--> 872\u001b[0m         handle \u001b[39m=\u001b[39m \u001b[39mopen\u001b[39;49m(handle, ioargs\u001b[39m.\u001b[39;49mmode)\n\u001b[0;32m    873\u001b[0m     handles\u001b[39m.\u001b[39mappend(handle)\n\u001b[0;32m    875\u001b[0m \u001b[39m# Convert BytesIO or file objects passed with an encoding\u001b[39;00m\n",
      "\u001b[1;31mFileNotFoundError\u001b[0m: [Errno 2] No such file or directory: 'C:/Users/Tomás Barrientos/Downloads/DatosLigas/LaLiga21 22.xlsx'"
     ]
    }
   ],
   "source": [
    "#Creación de dataframes con archivos locales\n",
    "laliga2122 = pd.read_excel('C:/Users/Tomás Barrientos/Downloads/DatosLigas/LaLiga21 22.xlsx', )\n",
    "laliga2021 = pd.read_excel('C:/Users/Tomás Barrientos/Downloads/DatosLigas/LaLiga20 21.xlsx', )\n",
    "laliga1920 = pd.read_excel('C:/Users/Tomás Barrientos/Downloads/DatosLigas/LaLiga19 20.xlsx', )\n",
    "laliga1819 = pd.read_excel('C:/Users/Tomás Barrientos/Downloads/DatosLigas/LaLiga18 19.xlsx', )\n",
    "laliga1718 = pd.read_excel('C:/Users/Tomás Barrientos/Downloads/DatosLigas/LaLiga17 18.xlsx', )\n",
    "laliga1617 = pd.read_excel('C:/Users/Tomás Barrientos/Downloads/DatosLigas/LaLiga16 17.xlsx', )\n",
    "seg2122 =  pd.read_excel('C:/Users/Tomás Barrientos/Downloads/DatosLigas/LaLiga123 21 22.xlsx', )\n",
    "seg2021 =  pd.read_excel('C:/Users/Tomás Barrientos/Downloads/DatosLigas/LaLiga123 20 21.xlsx', )\n",
    "seg1920 =  pd.read_excel('C:/Users/Tomás Barrientos/Downloads/DatosLigas/LaLiga123 19 20.xlsx', )\n",
    "seg1819 =  pd.read_excel('C:/Users/Tomás Barrientos/Downloads/DatosLigas/LaLiga123 18 19.xlsx', )\n",
    "seg1718 =  pd.read_excel('C:/Users/Tomás Barrientos/Downloads/DatosLigas/LaLiga123 17 18.xlsx', )\n",
    "seg1617 =  pd.read_excel('C:/Users/Tomás Barrientos/Downloads/DatosLigas/LaLiga123 16 17.xlsx', )"
   ]
  },
  {
   "cell_type": "code",
   "execution_count": null,
   "metadata": {},
   "outputs": [],
   "source": []
  }
 ],
 "metadata": {
  "kernelspec": {
   "display_name": "Python 3",
   "language": "python",
   "name": "python3"
  },
  "language_info": {
   "codemirror_mode": {
    "name": "ipython",
    "version": 3
   },
   "file_extension": ".py",
   "mimetype": "text/x-python",
   "name": "python",
   "nbconvert_exporter": "python",
   "pygments_lexer": "ipython3",
   "version": "3.12.0"
  }
 },
 "nbformat": 4,
 "nbformat_minor": 2
}
