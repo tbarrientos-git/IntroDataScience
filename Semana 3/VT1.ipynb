{
 "cells": [
  {
   "cell_type": "code",
   "execution_count": 1,
   "id": "b1cc248c",
   "metadata": {},
   "outputs": [],
   "source": [
    "import pandas as pd\n",
    "import numpy as np\n",
    "import seaborn as sns\n",
    "import glob\n",
    "import plotly.express as px\n",
    "import matplotlib.pyplot as plt\n",
    "plt.style.use('default')\n",
    "  \n",
    "# %matplotlib inline: only draw static\n",
    "# images in the notebookº\n",
    "%matplotlib inline"
   ]
  },
  {
   "cell_type": "markdown",
   "id": "c929e960",
   "metadata": {},
   "source": [
    "## Carga de información"
   ]
  },
  {
   "cell_type": "code",
   "execution_count": 2,
   "id": "9c2b999c",
   "metadata": {},
   "outputs": [
    {
     "name": "stderr",
     "output_type": "stream",
     "text": [
      "<>:11: SyntaxWarning: invalid escape sequence '\\M'\n",
      "<>:12: SyntaxWarning: invalid escape sequence '\\M'\n",
      "<>:11: SyntaxWarning: invalid escape sequence '\\M'\n",
      "<>:12: SyntaxWarning: invalid escape sequence '\\M'\n",
      "C:\\Users\\Tomás Barrientos\\AppData\\Local\\Temp\\ipykernel_17368\\2842476723.py:11: SyntaxWarning: invalid escape sequence '\\M'\n",
      "  seg1718 =  pd.read_excel('H:/Mi unidad/Diplomado - Introducción a la Ciencia de Datos UC\\MANE - MCD - Análisis de datos en Phyton/Semana 3/LigasEspanolas6T/LaLiga123 17 18.xlsx', )\n",
      "C:\\Users\\Tomás Barrientos\\AppData\\Local\\Temp\\ipykernel_17368\\2842476723.py:12: SyntaxWarning: invalid escape sequence '\\M'\n",
      "  seg1617 =  pd.read_excel('H:/Mi unidad/Diplomado - Introducción a la Ciencia de Datos UC\\MANE - MCD - Análisis de datos en Phyton/Semana 3/LigasEspanolas6T/LaLiga123 16 17.xlsx', )\n"
     ]
    }
   ],
   "source": [
    "laliga2122 = pd.read_excel('H:/Mi unidad/Diplomado - Introducción a la Ciencia de Datos UC/MANE - MCD - Análisis de datos en Phyton/Semana 3/LigasEspanolas6T/LaLiga21 22.xlsx', )\n",
    "laliga2021 = pd.read_excel('H:/Mi unidad/Diplomado - Introducción a la Ciencia de Datos UC/MANE - MCD - Análisis de datos en Phyton/Semana 3/LigasEspanolas6T/LaLiga20 21.xlsx', )\n",
    "laliga1920 = pd.read_excel('H:/Mi unidad/Diplomado - Introducción a la Ciencia de Datos UC/MANE - MCD - Análisis de datos en Phyton/Semana 3/LigasEspanolas6T/LaLiga19 20.xlsx', )\n",
    "laliga1819 = pd.read_excel('H:/Mi unidad/Diplomado - Introducción a la Ciencia de Datos UC/MANE - MCD - Análisis de datos en Phyton/Semana 3/LigasEspanolas6T/LaLiga18 19.xlsx', )\n",
    "laliga1718 = pd.read_excel('H:/Mi unidad/Diplomado - Introducción a la Ciencia de Datos UC/MANE - MCD - Análisis de datos en Phyton/Semana 3/LigasEspanolas6T/LaLiga17 18.xlsx', )\n",
    "laliga1617 = pd.read_excel('H:/Mi unidad/Diplomado - Introducción a la Ciencia de Datos UC/MANE - MCD - Análisis de datos en Phyton/Semana 3/LigasEspanolas6T/LaLiga16 17.xlsx', )\n",
    "seg2122 =  pd.read_excel('H:/Mi unidad/Diplomado - Introducción a la Ciencia de Datos UC/MANE - MCD - Análisis de datos en Phyton/Semana 3/LigasEspanolas6T/LaLiga123 21 22.xlsx', )\n",
    "seg2021 =  pd.read_excel('H:/Mi unidad/Diplomado - Introducción a la Ciencia de Datos UC/MANE - MCD - Análisis de datos en Phyton/Semana 3/LigasEspanolas6T/LaLiga123 20 21.xlsx', )\n",
    "seg1920 =  pd.read_excel('H:/Mi unidad/Diplomado - Introducción a la Ciencia de Datos UC/MANE - MCD - Análisis de datos en Phyton/Semana 3/LigasEspanolas6T/LaLiga123 19 20.xlsx', )\n",
    "seg1819 =  pd.read_excel('H:/Mi unidad/Diplomado - Introducción a la Ciencia de Datos UC/MANE - MCD - Análisis de datos en Phyton/Semana 3/LigasEspanolas6T/LaLiga123 18 19.xlsx', )\n",
    "seg1718 =  pd.read_excel('H:/Mi unidad/Diplomado - Introducción a la Ciencia de Datos UC\\MANE - MCD - Análisis de datos en Phyton/Semana 3/LigasEspanolas6T/LaLiga123 17 18.xlsx', )\n",
    "seg1617 =  pd.read_excel('H:/Mi unidad/Diplomado - Introducción a la Ciencia de Datos UC\\MANE - MCD - Análisis de datos en Phyton/Semana 3/LigasEspanolas6T/LaLiga123 16 17.xlsx', )"
   ]
  },
  {
   "cell_type": "markdown",
   "id": "23ee6402",
   "metadata": {},
   "source": [
    "## Creando dataframes"
   ]
  },
  {
   "cell_type": "code",
   "execution_count": 4,
   "id": "b5a0e0f0",
   "metadata": {},
   "outputs": [],
   "source": [
    "import pandas as pd\n",
    "\n",
    "# Supongamos que ya tienes definidos los DataFrames laliga2122, laliga2021, laliga1920, etc.\n",
    "\n",
    "laliga = pd.concat([laliga2122.dropna(how='all'), laliga2021.dropna(how='all'), laliga1920.dropna(how='all'), laliga1819.dropna(how='all'), laliga1718.dropna(how='all'), laliga1617.dropna(how='all')]).loc[:, ['Wk', 'Date', 'Local', 'Score', 'Visitante', 'Attendance']]\n",
    "laliga['Attendance'] = laliga['Attendance'] * 1000\n",
    "laliga['Torneo'] = 'Primera división'\n"
   ]
  },
  {
   "cell_type": "code",
   "execution_count": 6,
   "id": "f9c54016",
   "metadata": {},
   "outputs": [],
   "source": [
    "import pandas as pd\n",
    "\n",
    "# Supongamos que ya tienes definidos los DataFrames seg2122, seg2021, seg1920, etc.\n",
    "\n",
    "segunda = pd.concat([seg2122.dropna(how='all'), seg2021.dropna(how='all'), seg1920.dropna(how='all'), seg1819.dropna(how='all'), seg1718.dropna(how='all'), seg1617.dropna(how='all')]).loc[:, ['Wk', 'Date', 'Local', 'Score', 'Visitante', 'Attendance']]\n",
    "segunda['Attendance'] = segunda['Attendance'] * 1000\n",
    "segunda['Torneo'] = 'Segunda división'\n"
   ]
  },
  {
   "cell_type": "code",
   "execution_count": 7,
   "id": "11d29ece",
   "metadata": {
    "scrolled": false
   },
   "outputs": [
    {
     "data": {
      "text/html": [
       "<div>\n",
       "<style scoped>\n",
       "    .dataframe tbody tr th:only-of-type {\n",
       "        vertical-align: middle;\n",
       "    }\n",
       "\n",
       "    .dataframe tbody tr th {\n",
       "        vertical-align: top;\n",
       "    }\n",
       "\n",
       "    .dataframe thead th {\n",
       "        text-align: right;\n",
       "    }\n",
       "</style>\n",
       "<table border=\"1\" class=\"dataframe\">\n",
       "  <thead>\n",
       "    <tr style=\"text-align: right;\">\n",
       "      <th></th>\n",
       "      <th>Wk</th>\n",
       "      <th>Date</th>\n",
       "      <th>Local</th>\n",
       "      <th>Score</th>\n",
       "      <th>Visitante</th>\n",
       "      <th>Attendance</th>\n",
       "      <th>Torneo</th>\n",
       "    </tr>\n",
       "  </thead>\n",
       "  <tbody>\n",
       "    <tr>\n",
       "      <th>0</th>\n",
       "      <td>1.0</td>\n",
       "      <td>2021-08-13</td>\n",
       "      <td>Valencia</td>\n",
       "      <td>1–0</td>\n",
       "      <td>Getafe</td>\n",
       "      <td>9868.0</td>\n",
       "      <td>Primera división</td>\n",
       "    </tr>\n",
       "    <tr>\n",
       "      <th>1</th>\n",
       "      <td>1.0</td>\n",
       "      <td>2021-08-14</td>\n",
       "      <td>Cádiz</td>\n",
       "      <td>1–1</td>\n",
       "      <td>Levante</td>\n",
       "      <td>6941.0</td>\n",
       "      <td>Primera división</td>\n",
       "    </tr>\n",
       "    <tr>\n",
       "      <th>2</th>\n",
       "      <td>1.0</td>\n",
       "      <td>2021-08-14</td>\n",
       "      <td>Mallorca</td>\n",
       "      <td>1–1</td>\n",
       "      <td>Betis</td>\n",
       "      <td>6279.0</td>\n",
       "      <td>Primera división</td>\n",
       "    </tr>\n",
       "    <tr>\n",
       "      <th>3</th>\n",
       "      <td>1.0</td>\n",
       "      <td>2021-08-14</td>\n",
       "      <td>Osasuna</td>\n",
       "      <td>0–0</td>\n",
       "      <td>Espanyol</td>\n",
       "      <td>6715.0</td>\n",
       "      <td>Primera división</td>\n",
       "    </tr>\n",
       "    <tr>\n",
       "      <th>4</th>\n",
       "      <td>1.0</td>\n",
       "      <td>2021-08-14</td>\n",
       "      <td>Alavés</td>\n",
       "      <td>1–4</td>\n",
       "      <td>Real Madrid</td>\n",
       "      <td>3968.0</td>\n",
       "      <td>Primera división</td>\n",
       "    </tr>\n",
       "    <tr>\n",
       "      <th>...</th>\n",
       "      <td>...</td>\n",
       "      <td>...</td>\n",
       "      <td>...</td>\n",
       "      <td>...</td>\n",
       "      <td>...</td>\n",
       "      <td>...</td>\n",
       "      <td>...</td>\n",
       "    </tr>\n",
       "    <tr>\n",
       "      <th>495</th>\n",
       "      <td>42.0</td>\n",
       "      <td>2017-06-10</td>\n",
       "      <td>Valladolid</td>\n",
       "      <td>1–0</td>\n",
       "      <td>Cádiz</td>\n",
       "      <td>12812.0</td>\n",
       "      <td>Segunda división</td>\n",
       "    </tr>\n",
       "    <tr>\n",
       "      <th>496</th>\n",
       "      <td>42.0</td>\n",
       "      <td>2017-06-10</td>\n",
       "      <td>Gimnàstic</td>\n",
       "      <td>1–0</td>\n",
       "      <td>UCAM Murcia</td>\n",
       "      <td>11103.0</td>\n",
       "      <td>Segunda división</td>\n",
       "    </tr>\n",
       "    <tr>\n",
       "      <th>497</th>\n",
       "      <td>42.0</td>\n",
       "      <td>2017-06-10</td>\n",
       "      <td>Alcorcón</td>\n",
       "      <td>3–0</td>\n",
       "      <td>Lugo</td>\n",
       "      <td>4262.0</td>\n",
       "      <td>Segunda división</td>\n",
       "    </tr>\n",
       "    <tr>\n",
       "      <th>498</th>\n",
       "      <td>42.0</td>\n",
       "      <td>2017-06-10</td>\n",
       "      <td>Córdoba</td>\n",
       "      <td>2–1</td>\n",
       "      <td>Girona</td>\n",
       "      <td>8977.0</td>\n",
       "      <td>Segunda división</td>\n",
       "    </tr>\n",
       "    <tr>\n",
       "      <th>499</th>\n",
       "      <td>42.0</td>\n",
       "      <td>2017-06-10</td>\n",
       "      <td>Zaragoza</td>\n",
       "      <td>1–2</td>\n",
       "      <td>Tenerife</td>\n",
       "      <td>11762.0</td>\n",
       "      <td>Segunda división</td>\n",
       "    </tr>\n",
       "  </tbody>\n",
       "</table>\n",
       "<p>5016 rows × 7 columns</p>\n",
       "</div>"
      ],
      "text/plain": [
       "       Wk       Date       Local Score    Visitante  Attendance  \\\n",
       "0     1.0 2021-08-13    Valencia   1–0       Getafe      9868.0   \n",
       "1     1.0 2021-08-14       Cádiz   1–1      Levante      6941.0   \n",
       "2     1.0 2021-08-14    Mallorca   1–1        Betis      6279.0   \n",
       "3     1.0 2021-08-14     Osasuna   0–0     Espanyol      6715.0   \n",
       "4     1.0 2021-08-14      Alavés   1–4  Real Madrid      3968.0   \n",
       "..    ...        ...         ...   ...          ...         ...   \n",
       "495  42.0 2017-06-10  Valladolid   1–0        Cádiz     12812.0   \n",
       "496  42.0 2017-06-10   Gimnàstic   1–0  UCAM Murcia     11103.0   \n",
       "497  42.0 2017-06-10    Alcorcón   3–0         Lugo      4262.0   \n",
       "498  42.0 2017-06-10     Córdoba   2–1       Girona      8977.0   \n",
       "499  42.0 2017-06-10    Zaragoza   1–2     Tenerife     11762.0   \n",
       "\n",
       "               Torneo  \n",
       "0    Primera división  \n",
       "1    Primera división  \n",
       "2    Primera división  \n",
       "3    Primera división  \n",
       "4    Primera división  \n",
       "..                ...  \n",
       "495  Segunda división  \n",
       "496  Segunda división  \n",
       "497  Segunda división  \n",
       "498  Segunda división  \n",
       "499  Segunda división  \n",
       "\n",
       "[5016 rows x 7 columns]"
      ]
     },
     "execution_count": 7,
     "metadata": {},
     "output_type": "execute_result"
    }
   ],
   "source": [
    "partidos6t = pd.concat([laliga,segunda],axis = 0)\n",
    "partidos6t"
   ]
  },
  {
   "cell_type": "markdown",
   "id": "dede3249",
   "metadata": {},
   "source": [
    "## Creando nuevas columnas"
   ]
  },
  {
   "cell_type": "code",
   "execution_count": 8,
   "id": "81bc1228",
   "metadata": {},
   "outputs": [],
   "source": [
    "def golesvisita(marcador):\n",
    "    goles = marcador.split('–')\n",
    "    return int(goles[1])\n",
    "def goleslocal(marcador):\n",
    "    goles = marcador.split('–')\n",
    "    return int(goles[0])\n",
    "\n",
    "partidos6t['Goles Local'] = partidos6t['Score'].apply(goleslocal)\n",
    "partidos6t['Goles Visitante'] = partidos6t['Score'].apply(golesvisita)\n",
    "partidos6t['Total goles partido']= partidos6t['Goles Local']+partidos6t['Goles Visitante']\n"
   ]
  },
  {
   "cell_type": "code",
   "execution_count": 9,
   "id": "efeca9c6",
   "metadata": {},
   "outputs": [],
   "source": [
    "def torneo(año,mes):\n",
    "    if ((año==2016) & (mes<=12)|(año==2017) & (mes<8)):\n",
    "        return '16/17'\n",
    "    elif ((año==2017) & (mes<=12)|(año==2018) & (mes<8)):\n",
    "        return '17/18'\n",
    "    elif ((año==2018) & (mes<=12)|(año==2019) & (mes<8)):\n",
    "        return '18/19'\n",
    "    elif ((año==2019) & (mes<=12)|(año==2020) & (mes<9)):\n",
    "        return '19/20'\n",
    "    elif ((año==2020) & (mes<=12)|(año==2021) & (mes<8)):\n",
    "        return '20/21'\n",
    "    elif ((año==2021) & (mes<=12)|(año==2022) & (mes<8)):\n",
    "        return '21/22'\n",
    "\n",
    "    \n",
    "partidos6t['Año'] = partidos6t['Date'].dt.year\n",
    "partidos6t['Mes'] = partidos6t['Date'].dt.month\n",
    "partidos6t['Temporada'] = partidos6t.apply(lambda x: torneo(x['Año'],x['Mes']),axis = 1)\n"
   ]
  },
  {
   "cell_type": "code",
   "execution_count": 10,
   "id": "2be37dbe",
   "metadata": {},
   "outputs": [],
   "source": [
    "def resultado(string):\n",
    "    goles = string.split('–')\n",
    "    if int(goles[0])>int(goles[1]):\n",
    "        return 'Local'\n",
    "    if int(goles[0])<int(goles[1]):\n",
    "        return 'Visitante'\n",
    "    else: \n",
    "        return 'Empate'\n",
    "    \n",
    "def resultado_equipo(string, local, visita):\n",
    "    goles = string.split('–')\n",
    "    if int(goles[0])>int(goles[1]):\n",
    "        return local\n",
    "    if int(goles[0])<int(goles[1]):\n",
    "        return visita\n",
    "    else: \n",
    "        return 'Empate'\n",
    "    \n",
    "partidos6t['Resultado'] = partidos6t['Score'].apply(resultado)\n",
    "partidos6t['Ganador'] = partidos6t.apply(lambda x: resultado_equipo(x['Score'],x['Local'],x['Visitante']),axis=1)\n",
    "\n"
   ]
  },
  {
   "cell_type": "code",
   "execution_count": 11,
   "id": "7a58132d",
   "metadata": {},
   "outputs": [],
   "source": [
    "def intervalos(score):\n",
    "    goles = score.split('–')\n",
    "    total_goles = int(goles[0])+int(goles[1])\n",
    "    if total_goles <1:\n",
    "        return '0'\n",
    "    elif total_goles<2:\n",
    "        return '1'\n",
    "    elif total_goles<3:\n",
    "        return '2'\n",
    "    elif total_goles<4:\n",
    "        return '3'\n",
    "    elif total_goles>=4:\n",
    "        return '4+'\n",
    "    \n",
    "partidos6t['Clasificación goles'] = partidos6t['Score'].apply(intervalos)"
   ]
  },
  {
   "cell_type": "code",
   "execution_count": 12,
   "id": "c3fd97b1",
   "metadata": {},
   "outputs": [
    {
     "data": {
      "text/html": [
       "<div>\n",
       "<style scoped>\n",
       "    .dataframe tbody tr th:only-of-type {\n",
       "        vertical-align: middle;\n",
       "    }\n",
       "\n",
       "    .dataframe tbody tr th {\n",
       "        vertical-align: top;\n",
       "    }\n",
       "\n",
       "    .dataframe thead th {\n",
       "        text-align: right;\n",
       "    }\n",
       "</style>\n",
       "<table border=\"1\" class=\"dataframe\">\n",
       "  <thead>\n",
       "    <tr style=\"text-align: right;\">\n",
       "      <th></th>\n",
       "      <th>Wk</th>\n",
       "      <th>Date</th>\n",
       "      <th>Local</th>\n",
       "      <th>Score</th>\n",
       "      <th>Visitante</th>\n",
       "      <th>Attendance</th>\n",
       "      <th>Torneo</th>\n",
       "      <th>Goles Local</th>\n",
       "      <th>Goles Visitante</th>\n",
       "      <th>Total goles partido</th>\n",
       "      <th>...</th>\n",
       "      <th>Mes</th>\n",
       "      <th>Temporada</th>\n",
       "      <th>Resultado</th>\n",
       "      <th>Ganador</th>\n",
       "      <th>Clasificación goles</th>\n",
       "      <th>0 gol</th>\n",
       "      <th>1 gol</th>\n",
       "      <th>2 gol</th>\n",
       "      <th>3 gol</th>\n",
       "      <th>4+gol</th>\n",
       "    </tr>\n",
       "  </thead>\n",
       "  <tbody>\n",
       "    <tr>\n",
       "      <th>0</th>\n",
       "      <td>1.0</td>\n",
       "      <td>2021-08-13</td>\n",
       "      <td>Valencia</td>\n",
       "      <td>1–0</td>\n",
       "      <td>Getafe</td>\n",
       "      <td>9868.0</td>\n",
       "      <td>Primera división</td>\n",
       "      <td>1</td>\n",
       "      <td>0</td>\n",
       "      <td>1</td>\n",
       "      <td>...</td>\n",
       "      <td>8</td>\n",
       "      <td>21/22</td>\n",
       "      <td>Local</td>\n",
       "      <td>Valencia</td>\n",
       "      <td>1</td>\n",
       "      <td>0</td>\n",
       "      <td>1</td>\n",
       "      <td>0</td>\n",
       "      <td>0</td>\n",
       "      <td>0</td>\n",
       "    </tr>\n",
       "    <tr>\n",
       "      <th>1</th>\n",
       "      <td>1.0</td>\n",
       "      <td>2021-08-14</td>\n",
       "      <td>Cádiz</td>\n",
       "      <td>1–1</td>\n",
       "      <td>Levante</td>\n",
       "      <td>6941.0</td>\n",
       "      <td>Primera división</td>\n",
       "      <td>1</td>\n",
       "      <td>1</td>\n",
       "      <td>2</td>\n",
       "      <td>...</td>\n",
       "      <td>8</td>\n",
       "      <td>21/22</td>\n",
       "      <td>Empate</td>\n",
       "      <td>Empate</td>\n",
       "      <td>2</td>\n",
       "      <td>0</td>\n",
       "      <td>0</td>\n",
       "      <td>1</td>\n",
       "      <td>0</td>\n",
       "      <td>0</td>\n",
       "    </tr>\n",
       "    <tr>\n",
       "      <th>2</th>\n",
       "      <td>1.0</td>\n",
       "      <td>2021-08-14</td>\n",
       "      <td>Mallorca</td>\n",
       "      <td>1–1</td>\n",
       "      <td>Betis</td>\n",
       "      <td>6279.0</td>\n",
       "      <td>Primera división</td>\n",
       "      <td>1</td>\n",
       "      <td>1</td>\n",
       "      <td>2</td>\n",
       "      <td>...</td>\n",
       "      <td>8</td>\n",
       "      <td>21/22</td>\n",
       "      <td>Empate</td>\n",
       "      <td>Empate</td>\n",
       "      <td>2</td>\n",
       "      <td>0</td>\n",
       "      <td>0</td>\n",
       "      <td>1</td>\n",
       "      <td>0</td>\n",
       "      <td>0</td>\n",
       "    </tr>\n",
       "    <tr>\n",
       "      <th>3</th>\n",
       "      <td>1.0</td>\n",
       "      <td>2021-08-14</td>\n",
       "      <td>Osasuna</td>\n",
       "      <td>0–0</td>\n",
       "      <td>Espanyol</td>\n",
       "      <td>6715.0</td>\n",
       "      <td>Primera división</td>\n",
       "      <td>0</td>\n",
       "      <td>0</td>\n",
       "      <td>0</td>\n",
       "      <td>...</td>\n",
       "      <td>8</td>\n",
       "      <td>21/22</td>\n",
       "      <td>Empate</td>\n",
       "      <td>Empate</td>\n",
       "      <td>0</td>\n",
       "      <td>1</td>\n",
       "      <td>0</td>\n",
       "      <td>0</td>\n",
       "      <td>0</td>\n",
       "      <td>0</td>\n",
       "    </tr>\n",
       "    <tr>\n",
       "      <th>4</th>\n",
       "      <td>1.0</td>\n",
       "      <td>2021-08-14</td>\n",
       "      <td>Alavés</td>\n",
       "      <td>1–4</td>\n",
       "      <td>Real Madrid</td>\n",
       "      <td>3968.0</td>\n",
       "      <td>Primera división</td>\n",
       "      <td>1</td>\n",
       "      <td>4</td>\n",
       "      <td>5</td>\n",
       "      <td>...</td>\n",
       "      <td>8</td>\n",
       "      <td>21/22</td>\n",
       "      <td>Visitante</td>\n",
       "      <td>Real Madrid</td>\n",
       "      <td>4+</td>\n",
       "      <td>0</td>\n",
       "      <td>0</td>\n",
       "      <td>0</td>\n",
       "      <td>0</td>\n",
       "      <td>1</td>\n",
       "    </tr>\n",
       "    <tr>\n",
       "      <th>...</th>\n",
       "      <td>...</td>\n",
       "      <td>...</td>\n",
       "      <td>...</td>\n",
       "      <td>...</td>\n",
       "      <td>...</td>\n",
       "      <td>...</td>\n",
       "      <td>...</td>\n",
       "      <td>...</td>\n",
       "      <td>...</td>\n",
       "      <td>...</td>\n",
       "      <td>...</td>\n",
       "      <td>...</td>\n",
       "      <td>...</td>\n",
       "      <td>...</td>\n",
       "      <td>...</td>\n",
       "      <td>...</td>\n",
       "      <td>...</td>\n",
       "      <td>...</td>\n",
       "      <td>...</td>\n",
       "      <td>...</td>\n",
       "      <td>...</td>\n",
       "    </tr>\n",
       "    <tr>\n",
       "      <th>495</th>\n",
       "      <td>42.0</td>\n",
       "      <td>2017-06-10</td>\n",
       "      <td>Valladolid</td>\n",
       "      <td>1–0</td>\n",
       "      <td>Cádiz</td>\n",
       "      <td>12812.0</td>\n",
       "      <td>Segunda división</td>\n",
       "      <td>1</td>\n",
       "      <td>0</td>\n",
       "      <td>1</td>\n",
       "      <td>...</td>\n",
       "      <td>6</td>\n",
       "      <td>16/17</td>\n",
       "      <td>Local</td>\n",
       "      <td>Valladolid</td>\n",
       "      <td>1</td>\n",
       "      <td>0</td>\n",
       "      <td>1</td>\n",
       "      <td>0</td>\n",
       "      <td>0</td>\n",
       "      <td>0</td>\n",
       "    </tr>\n",
       "    <tr>\n",
       "      <th>496</th>\n",
       "      <td>42.0</td>\n",
       "      <td>2017-06-10</td>\n",
       "      <td>Gimnàstic</td>\n",
       "      <td>1–0</td>\n",
       "      <td>UCAM Murcia</td>\n",
       "      <td>11103.0</td>\n",
       "      <td>Segunda división</td>\n",
       "      <td>1</td>\n",
       "      <td>0</td>\n",
       "      <td>1</td>\n",
       "      <td>...</td>\n",
       "      <td>6</td>\n",
       "      <td>16/17</td>\n",
       "      <td>Local</td>\n",
       "      <td>Gimnàstic</td>\n",
       "      <td>1</td>\n",
       "      <td>0</td>\n",
       "      <td>1</td>\n",
       "      <td>0</td>\n",
       "      <td>0</td>\n",
       "      <td>0</td>\n",
       "    </tr>\n",
       "    <tr>\n",
       "      <th>497</th>\n",
       "      <td>42.0</td>\n",
       "      <td>2017-06-10</td>\n",
       "      <td>Alcorcón</td>\n",
       "      <td>3–0</td>\n",
       "      <td>Lugo</td>\n",
       "      <td>4262.0</td>\n",
       "      <td>Segunda división</td>\n",
       "      <td>3</td>\n",
       "      <td>0</td>\n",
       "      <td>3</td>\n",
       "      <td>...</td>\n",
       "      <td>6</td>\n",
       "      <td>16/17</td>\n",
       "      <td>Local</td>\n",
       "      <td>Alcorcón</td>\n",
       "      <td>3</td>\n",
       "      <td>0</td>\n",
       "      <td>0</td>\n",
       "      <td>0</td>\n",
       "      <td>1</td>\n",
       "      <td>0</td>\n",
       "    </tr>\n",
       "    <tr>\n",
       "      <th>498</th>\n",
       "      <td>42.0</td>\n",
       "      <td>2017-06-10</td>\n",
       "      <td>Córdoba</td>\n",
       "      <td>2–1</td>\n",
       "      <td>Girona</td>\n",
       "      <td>8977.0</td>\n",
       "      <td>Segunda división</td>\n",
       "      <td>2</td>\n",
       "      <td>1</td>\n",
       "      <td>3</td>\n",
       "      <td>...</td>\n",
       "      <td>6</td>\n",
       "      <td>16/17</td>\n",
       "      <td>Local</td>\n",
       "      <td>Córdoba</td>\n",
       "      <td>3</td>\n",
       "      <td>0</td>\n",
       "      <td>0</td>\n",
       "      <td>0</td>\n",
       "      <td>1</td>\n",
       "      <td>0</td>\n",
       "    </tr>\n",
       "    <tr>\n",
       "      <th>499</th>\n",
       "      <td>42.0</td>\n",
       "      <td>2017-06-10</td>\n",
       "      <td>Zaragoza</td>\n",
       "      <td>1–2</td>\n",
       "      <td>Tenerife</td>\n",
       "      <td>11762.0</td>\n",
       "      <td>Segunda división</td>\n",
       "      <td>1</td>\n",
       "      <td>2</td>\n",
       "      <td>3</td>\n",
       "      <td>...</td>\n",
       "      <td>6</td>\n",
       "      <td>16/17</td>\n",
       "      <td>Visitante</td>\n",
       "      <td>Tenerife</td>\n",
       "      <td>3</td>\n",
       "      <td>0</td>\n",
       "      <td>0</td>\n",
       "      <td>0</td>\n",
       "      <td>1</td>\n",
       "      <td>0</td>\n",
       "    </tr>\n",
       "  </tbody>\n",
       "</table>\n",
       "<p>5016 rows × 21 columns</p>\n",
       "</div>"
      ],
      "text/plain": [
       "       Wk       Date       Local Score    Visitante  Attendance  \\\n",
       "0     1.0 2021-08-13    Valencia   1–0       Getafe      9868.0   \n",
       "1     1.0 2021-08-14       Cádiz   1–1      Levante      6941.0   \n",
       "2     1.0 2021-08-14    Mallorca   1–1        Betis      6279.0   \n",
       "3     1.0 2021-08-14     Osasuna   0–0     Espanyol      6715.0   \n",
       "4     1.0 2021-08-14      Alavés   1–4  Real Madrid      3968.0   \n",
       "..    ...        ...         ...   ...          ...         ...   \n",
       "495  42.0 2017-06-10  Valladolid   1–0        Cádiz     12812.0   \n",
       "496  42.0 2017-06-10   Gimnàstic   1–0  UCAM Murcia     11103.0   \n",
       "497  42.0 2017-06-10    Alcorcón   3–0         Lugo      4262.0   \n",
       "498  42.0 2017-06-10     Córdoba   2–1       Girona      8977.0   \n",
       "499  42.0 2017-06-10    Zaragoza   1–2     Tenerife     11762.0   \n",
       "\n",
       "               Torneo  Goles Local  Goles Visitante  Total goles partido  ...  \\\n",
       "0    Primera división            1                0                    1  ...   \n",
       "1    Primera división            1                1                    2  ...   \n",
       "2    Primera división            1                1                    2  ...   \n",
       "3    Primera división            0                0                    0  ...   \n",
       "4    Primera división            1                4                    5  ...   \n",
       "..                ...          ...              ...                  ...  ...   \n",
       "495  Segunda división            1                0                    1  ...   \n",
       "496  Segunda división            1                0                    1  ...   \n",
       "497  Segunda división            3                0                    3  ...   \n",
       "498  Segunda división            2                1                    3  ...   \n",
       "499  Segunda división            1                2                    3  ...   \n",
       "\n",
       "     Mes  Temporada  Resultado      Ganador Clasificación goles 0 gol  1 gol  \\\n",
       "0      8      21/22      Local     Valencia                   1     0      1   \n",
       "1      8      21/22     Empate       Empate                   2     0      0   \n",
       "2      8      21/22     Empate       Empate                   2     0      0   \n",
       "3      8      21/22     Empate       Empate                   0     1      0   \n",
       "4      8      21/22  Visitante  Real Madrid                  4+     0      0   \n",
       "..   ...        ...        ...          ...                 ...   ...    ...   \n",
       "495    6      16/17      Local   Valladolid                   1     0      1   \n",
       "496    6      16/17      Local    Gimnàstic                   1     0      1   \n",
       "497    6      16/17      Local     Alcorcón                   3     0      0   \n",
       "498    6      16/17      Local      Córdoba                   3     0      0   \n",
       "499    6      16/17  Visitante     Tenerife                   3     0      0   \n",
       "\n",
       "     2 gol  3 gol  4+gol  \n",
       "0        0      0      0  \n",
       "1        1      0      0  \n",
       "2        1      0      0  \n",
       "3        0      0      0  \n",
       "4        0      0      1  \n",
       "..     ...    ...    ...  \n",
       "495      0      0      0  \n",
       "496      0      0      0  \n",
       "497      0      1      0  \n",
       "498      0      1      0  \n",
       "499      0      1      0  \n",
       "\n",
       "[5016 rows x 21 columns]"
      ]
     },
     "execution_count": 12,
     "metadata": {},
     "output_type": "execute_result"
    }
   ],
   "source": [
    "partidos6t['0 gol'] = partidos6t.apply(lambda x: 1 if x['Total goles partido'] == 0 else 0,axis=1)\n",
    "partidos6t['1 gol'] = partidos6t.apply(lambda x: 1 if x['Total goles partido'] == 1 else 0,axis=1)\n",
    "partidos6t['2 gol'] = partidos6t.apply(lambda x: 1 if x['Total goles partido'] == 2 else 0,axis=1)\n",
    "partidos6t['3 gol'] = partidos6t.apply(lambda x: 1 if x['Total goles partido'] == 3 else 0,axis=1)\n",
    "partidos6t['4+gol'] = partidos6t.apply(lambda x: 1 if x['Total goles partido'] >= 4 else 0,axis=1)\n",
    "partidos6t"
   ]
  },
  {
   "cell_type": "markdown",
   "id": "3779a735",
   "metadata": {},
   "source": [
    "## Agrupando data"
   ]
  },
  {
   "cell_type": "code",
   "execution_count": 13,
   "id": "25d83eb5",
   "metadata": {},
   "outputs": [
    {
     "data": {
      "text/html": [
       "<div>\n",
       "<style scoped>\n",
       "    .dataframe tbody tr th:only-of-type {\n",
       "        vertical-align: middle;\n",
       "    }\n",
       "\n",
       "    .dataframe tbody tr th {\n",
       "        vertical-align: top;\n",
       "    }\n",
       "\n",
       "    .dataframe thead th {\n",
       "        text-align: right;\n",
       "    }\n",
       "</style>\n",
       "<table border=\"1\" class=\"dataframe\">\n",
       "  <thead>\n",
       "    <tr style=\"text-align: right;\">\n",
       "      <th></th>\n",
       "      <th>Resultado</th>\n",
       "      <th>0 gol</th>\n",
       "      <th>1 gol</th>\n",
       "      <th>2 gol</th>\n",
       "      <th>3 gol</th>\n",
       "      <th>4+gol</th>\n",
       "      <th>Total</th>\n",
       "    </tr>\n",
       "  </thead>\n",
       "  <tbody>\n",
       "    <tr>\n",
       "      <th>0</th>\n",
       "      <td>Empate</td>\n",
       "      <td>471</td>\n",
       "      <td>0</td>\n",
       "      <td>689</td>\n",
       "      <td>0</td>\n",
       "      <td>289</td>\n",
       "      <td>1449</td>\n",
       "    </tr>\n",
       "    <tr>\n",
       "      <th>1</th>\n",
       "      <td>Local</td>\n",
       "      <td>0</td>\n",
       "      <td>645</td>\n",
       "      <td>420</td>\n",
       "      <td>643</td>\n",
       "      <td>537</td>\n",
       "      <td>2245</td>\n",
       "    </tr>\n",
       "    <tr>\n",
       "      <th>2</th>\n",
       "      <td>Visitante</td>\n",
       "      <td>0</td>\n",
       "      <td>417</td>\n",
       "      <td>219</td>\n",
       "      <td>395</td>\n",
       "      <td>291</td>\n",
       "      <td>1322</td>\n",
       "    </tr>\n",
       "  </tbody>\n",
       "</table>\n",
       "</div>"
      ],
      "text/plain": [
       "   Resultado  0 gol  1 gol  2 gol  3 gol  4+gol  Total\n",
       "0     Empate    471      0    689      0    289   1449\n",
       "1      Local      0    645    420    643    537   2245\n",
       "2  Visitante      0    417    219    395    291   1322"
      ]
     },
     "execution_count": 13,
     "metadata": {},
     "output_type": "execute_result"
    }
   ],
   "source": [
    "analisis = partidos6t.groupby(['Resultado']).agg(suma1=('0 gol',lambda x:np.sum(x)), \n",
    "suma2=('1 gol',lambda x:np.sum(x)), suma3 = ('2 gol',lambda x:np.sum(x)), suma4=('3 gol',lambda x:np.sum(x)),\n",
    "suma5=('4+gol',lambda x:np.sum(x)),Total = ('Wk','count')).reset_index().set_axis(['Resultado', '0 gol','1 gol', '2 gol','3 gol','4+gol','Total'],axis=1)\n",
    "\n",
    "analisis"
   ]
  },
  {
   "cell_type": "code",
   "execution_count": 14,
   "id": "d21578e6",
   "metadata": {},
   "outputs": [
    {
     "data": {
      "text/html": [
       "<div>\n",
       "<style scoped>\n",
       "    .dataframe tbody tr th:only-of-type {\n",
       "        vertical-align: middle;\n",
       "    }\n",
       "\n",
       "    .dataframe tbody tr th {\n",
       "        vertical-align: top;\n",
       "    }\n",
       "\n",
       "    .dataframe thead th {\n",
       "        text-align: right;\n",
       "    }\n",
       "</style>\n",
       "<table border=\"1\" class=\"dataframe\">\n",
       "  <thead>\n",
       "    <tr style=\"text-align: right;\">\n",
       "      <th></th>\n",
       "      <th>Resultado</th>\n",
       "      <th>Clasificación goles</th>\n",
       "      <th>Total</th>\n",
       "    </tr>\n",
       "  </thead>\n",
       "  <tbody>\n",
       "    <tr>\n",
       "      <th>0</th>\n",
       "      <td>Empate</td>\n",
       "      <td>0</td>\n",
       "      <td>471</td>\n",
       "    </tr>\n",
       "    <tr>\n",
       "      <th>1</th>\n",
       "      <td>Empate</td>\n",
       "      <td>2</td>\n",
       "      <td>689</td>\n",
       "    </tr>\n",
       "    <tr>\n",
       "      <th>2</th>\n",
       "      <td>Empate</td>\n",
       "      <td>4+</td>\n",
       "      <td>289</td>\n",
       "    </tr>\n",
       "    <tr>\n",
       "      <th>3</th>\n",
       "      <td>Local</td>\n",
       "      <td>1</td>\n",
       "      <td>645</td>\n",
       "    </tr>\n",
       "    <tr>\n",
       "      <th>4</th>\n",
       "      <td>Local</td>\n",
       "      <td>2</td>\n",
       "      <td>420</td>\n",
       "    </tr>\n",
       "    <tr>\n",
       "      <th>5</th>\n",
       "      <td>Local</td>\n",
       "      <td>3</td>\n",
       "      <td>643</td>\n",
       "    </tr>\n",
       "    <tr>\n",
       "      <th>6</th>\n",
       "      <td>Local</td>\n",
       "      <td>4+</td>\n",
       "      <td>537</td>\n",
       "    </tr>\n",
       "    <tr>\n",
       "      <th>7</th>\n",
       "      <td>Visitante</td>\n",
       "      <td>1</td>\n",
       "      <td>417</td>\n",
       "    </tr>\n",
       "    <tr>\n",
       "      <th>8</th>\n",
       "      <td>Visitante</td>\n",
       "      <td>2</td>\n",
       "      <td>219</td>\n",
       "    </tr>\n",
       "    <tr>\n",
       "      <th>9</th>\n",
       "      <td>Visitante</td>\n",
       "      <td>3</td>\n",
       "      <td>395</td>\n",
       "    </tr>\n",
       "    <tr>\n",
       "      <th>10</th>\n",
       "      <td>Visitante</td>\n",
       "      <td>4+</td>\n",
       "      <td>291</td>\n",
       "    </tr>\n",
       "  </tbody>\n",
       "</table>\n",
       "</div>"
      ],
      "text/plain": [
       "    Resultado Clasificación goles  Total\n",
       "0      Empate                   0    471\n",
       "1      Empate                   2    689\n",
       "2      Empate                  4+    289\n",
       "3       Local                   1    645\n",
       "4       Local                   2    420\n",
       "5       Local                   3    643\n",
       "6       Local                  4+    537\n",
       "7   Visitante                   1    417\n",
       "8   Visitante                   2    219\n",
       "9   Visitante                   3    395\n",
       "10  Visitante                  4+    291"
      ]
     },
     "execution_count": 14,
     "metadata": {},
     "output_type": "execute_result"
    }
   ],
   "source": [
    "analisis2 = partidos6t.groupby(['Resultado','Clasificación goles']).agg(Total = ('Wk','count')).reset_index()\n",
    "analisis2"
   ]
  },
  {
   "cell_type": "markdown",
   "id": "e57afa81",
   "metadata": {},
   "source": [
    "## Gráfico de torta"
   ]
  },
  {
   "cell_type": "code",
   "execution_count": 15,
   "id": "f1d3467a",
   "metadata": {},
   "outputs": [
    {
     "data": {
      "application/vnd.plotly.v1+json": {
       "config": {
        "plotlyServerURL": "https://plot.ly"
       },
       "data": [
        {
         "branchvalues": "total",
         "domain": {
          "x": [
           0,
           1
          ],
          "y": [
           0,
           1
          ]
         },
         "hovertemplate": "labels=%{label}<br>Total=%{value}<br>parent=%{parent}<br>id=%{id}<extra></extra>",
         "ids": [
          "Empate/0",
          "Local/1",
          "Visitante/1",
          "Empate/2",
          "Local/2",
          "Visitante/2",
          "Local/3",
          "Visitante/3",
          "Empate/4+",
          "Local/4+",
          "Visitante/4+",
          "Empate",
          "Local",
          "Visitante"
         ],
         "labels": [
          "0",
          "1",
          "1",
          "2",
          "2",
          "2",
          "3",
          "3",
          "4+",
          "4+",
          "4+",
          "Empate",
          "Local",
          "Visitante"
         ],
         "name": "",
         "parents": [
          "Empate",
          "Local",
          "Visitante",
          "Empate",
          "Local",
          "Visitante",
          "Local",
          "Visitante",
          "Empate",
          "Local",
          "Visitante",
          "",
          "",
          ""
         ],
         "textinfo": "label+value",
         "type": "sunburst",
         "values": [
          471,
          645,
          417,
          689,
          420,
          219,
          643,
          395,
          289,
          537,
          291,
          1449,
          2245,
          1322
         ]
        }
       ],
       "layout": {
        "legend": {
         "tracegroupgap": 0
        },
        "margin": {
         "t": 60
        },
        "template": {
         "data": {
          "bar": [
           {
            "error_x": {
             "color": "#2a3f5f"
            },
            "error_y": {
             "color": "#2a3f5f"
            },
            "marker": {
             "line": {
              "color": "#E5ECF6",
              "width": 0.5
             },
             "pattern": {
              "fillmode": "overlay",
              "size": 10,
              "solidity": 0.2
             }
            },
            "type": "bar"
           }
          ],
          "barpolar": [
           {
            "marker": {
             "line": {
              "color": "#E5ECF6",
              "width": 0.5
             },
             "pattern": {
              "fillmode": "overlay",
              "size": 10,
              "solidity": 0.2
             }
            },
            "type": "barpolar"
           }
          ],
          "carpet": [
           {
            "aaxis": {
             "endlinecolor": "#2a3f5f",
             "gridcolor": "white",
             "linecolor": "white",
             "minorgridcolor": "white",
             "startlinecolor": "#2a3f5f"
            },
            "baxis": {
             "endlinecolor": "#2a3f5f",
             "gridcolor": "white",
             "linecolor": "white",
             "minorgridcolor": "white",
             "startlinecolor": "#2a3f5f"
            },
            "type": "carpet"
           }
          ],
          "choropleth": [
           {
            "colorbar": {
             "outlinewidth": 0,
             "ticks": ""
            },
            "type": "choropleth"
           }
          ],
          "contour": [
           {
            "colorbar": {
             "outlinewidth": 0,
             "ticks": ""
            },
            "colorscale": [
             [
              0,
              "#0d0887"
             ],
             [
              0.1111111111111111,
              "#46039f"
             ],
             [
              0.2222222222222222,
              "#7201a8"
             ],
             [
              0.3333333333333333,
              "#9c179e"
             ],
             [
              0.4444444444444444,
              "#bd3786"
             ],
             [
              0.5555555555555556,
              "#d8576b"
             ],
             [
              0.6666666666666666,
              "#ed7953"
             ],
             [
              0.7777777777777778,
              "#fb9f3a"
             ],
             [
              0.8888888888888888,
              "#fdca26"
             ],
             [
              1,
              "#f0f921"
             ]
            ],
            "type": "contour"
           }
          ],
          "contourcarpet": [
           {
            "colorbar": {
             "outlinewidth": 0,
             "ticks": ""
            },
            "type": "contourcarpet"
           }
          ],
          "heatmap": [
           {
            "colorbar": {
             "outlinewidth": 0,
             "ticks": ""
            },
            "colorscale": [
             [
              0,
              "#0d0887"
             ],
             [
              0.1111111111111111,
              "#46039f"
             ],
             [
              0.2222222222222222,
              "#7201a8"
             ],
             [
              0.3333333333333333,
              "#9c179e"
             ],
             [
              0.4444444444444444,
              "#bd3786"
             ],
             [
              0.5555555555555556,
              "#d8576b"
             ],
             [
              0.6666666666666666,
              "#ed7953"
             ],
             [
              0.7777777777777778,
              "#fb9f3a"
             ],
             [
              0.8888888888888888,
              "#fdca26"
             ],
             [
              1,
              "#f0f921"
             ]
            ],
            "type": "heatmap"
           }
          ],
          "heatmapgl": [
           {
            "colorbar": {
             "outlinewidth": 0,
             "ticks": ""
            },
            "colorscale": [
             [
              0,
              "#0d0887"
             ],
             [
              0.1111111111111111,
              "#46039f"
             ],
             [
              0.2222222222222222,
              "#7201a8"
             ],
             [
              0.3333333333333333,
              "#9c179e"
             ],
             [
              0.4444444444444444,
              "#bd3786"
             ],
             [
              0.5555555555555556,
              "#d8576b"
             ],
             [
              0.6666666666666666,
              "#ed7953"
             ],
             [
              0.7777777777777778,
              "#fb9f3a"
             ],
             [
              0.8888888888888888,
              "#fdca26"
             ],
             [
              1,
              "#f0f921"
             ]
            ],
            "type": "heatmapgl"
           }
          ],
          "histogram": [
           {
            "marker": {
             "pattern": {
              "fillmode": "overlay",
              "size": 10,
              "solidity": 0.2
             }
            },
            "type": "histogram"
           }
          ],
          "histogram2d": [
           {
            "colorbar": {
             "outlinewidth": 0,
             "ticks": ""
            },
            "colorscale": [
             [
              0,
              "#0d0887"
             ],
             [
              0.1111111111111111,
              "#46039f"
             ],
             [
              0.2222222222222222,
              "#7201a8"
             ],
             [
              0.3333333333333333,
              "#9c179e"
             ],
             [
              0.4444444444444444,
              "#bd3786"
             ],
             [
              0.5555555555555556,
              "#d8576b"
             ],
             [
              0.6666666666666666,
              "#ed7953"
             ],
             [
              0.7777777777777778,
              "#fb9f3a"
             ],
             [
              0.8888888888888888,
              "#fdca26"
             ],
             [
              1,
              "#f0f921"
             ]
            ],
            "type": "histogram2d"
           }
          ],
          "histogram2dcontour": [
           {
            "colorbar": {
             "outlinewidth": 0,
             "ticks": ""
            },
            "colorscale": [
             [
              0,
              "#0d0887"
             ],
             [
              0.1111111111111111,
              "#46039f"
             ],
             [
              0.2222222222222222,
              "#7201a8"
             ],
             [
              0.3333333333333333,
              "#9c179e"
             ],
             [
              0.4444444444444444,
              "#bd3786"
             ],
             [
              0.5555555555555556,
              "#d8576b"
             ],
             [
              0.6666666666666666,
              "#ed7953"
             ],
             [
              0.7777777777777778,
              "#fb9f3a"
             ],
             [
              0.8888888888888888,
              "#fdca26"
             ],
             [
              1,
              "#f0f921"
             ]
            ],
            "type": "histogram2dcontour"
           }
          ],
          "mesh3d": [
           {
            "colorbar": {
             "outlinewidth": 0,
             "ticks": ""
            },
            "type": "mesh3d"
           }
          ],
          "parcoords": [
           {
            "line": {
             "colorbar": {
              "outlinewidth": 0,
              "ticks": ""
             }
            },
            "type": "parcoords"
           }
          ],
          "pie": [
           {
            "automargin": true,
            "type": "pie"
           }
          ],
          "scatter": [
           {
            "fillpattern": {
             "fillmode": "overlay",
             "size": 10,
             "solidity": 0.2
            },
            "type": "scatter"
           }
          ],
          "scatter3d": [
           {
            "line": {
             "colorbar": {
              "outlinewidth": 0,
              "ticks": ""
             }
            },
            "marker": {
             "colorbar": {
              "outlinewidth": 0,
              "ticks": ""
             }
            },
            "type": "scatter3d"
           }
          ],
          "scattercarpet": [
           {
            "marker": {
             "colorbar": {
              "outlinewidth": 0,
              "ticks": ""
             }
            },
            "type": "scattercarpet"
           }
          ],
          "scattergeo": [
           {
            "marker": {
             "colorbar": {
              "outlinewidth": 0,
              "ticks": ""
             }
            },
            "type": "scattergeo"
           }
          ],
          "scattergl": [
           {
            "marker": {
             "colorbar": {
              "outlinewidth": 0,
              "ticks": ""
             }
            },
            "type": "scattergl"
           }
          ],
          "scattermapbox": [
           {
            "marker": {
             "colorbar": {
              "outlinewidth": 0,
              "ticks": ""
             }
            },
            "type": "scattermapbox"
           }
          ],
          "scatterpolar": [
           {
            "marker": {
             "colorbar": {
              "outlinewidth": 0,
              "ticks": ""
             }
            },
            "type": "scatterpolar"
           }
          ],
          "scatterpolargl": [
           {
            "marker": {
             "colorbar": {
              "outlinewidth": 0,
              "ticks": ""
             }
            },
            "type": "scatterpolargl"
           }
          ],
          "scatterternary": [
           {
            "marker": {
             "colorbar": {
              "outlinewidth": 0,
              "ticks": ""
             }
            },
            "type": "scatterternary"
           }
          ],
          "surface": [
           {
            "colorbar": {
             "outlinewidth": 0,
             "ticks": ""
            },
            "colorscale": [
             [
              0,
              "#0d0887"
             ],
             [
              0.1111111111111111,
              "#46039f"
             ],
             [
              0.2222222222222222,
              "#7201a8"
             ],
             [
              0.3333333333333333,
              "#9c179e"
             ],
             [
              0.4444444444444444,
              "#bd3786"
             ],
             [
              0.5555555555555556,
              "#d8576b"
             ],
             [
              0.6666666666666666,
              "#ed7953"
             ],
             [
              0.7777777777777778,
              "#fb9f3a"
             ],
             [
              0.8888888888888888,
              "#fdca26"
             ],
             [
              1,
              "#f0f921"
             ]
            ],
            "type": "surface"
           }
          ],
          "table": [
           {
            "cells": {
             "fill": {
              "color": "#EBF0F8"
             },
             "line": {
              "color": "white"
             }
            },
            "header": {
             "fill": {
              "color": "#C8D4E3"
             },
             "line": {
              "color": "white"
             }
            },
            "type": "table"
           }
          ]
         },
         "layout": {
          "annotationdefaults": {
           "arrowcolor": "#2a3f5f",
           "arrowhead": 0,
           "arrowwidth": 1
          },
          "autotypenumbers": "strict",
          "coloraxis": {
           "colorbar": {
            "outlinewidth": 0,
            "ticks": ""
           }
          },
          "colorscale": {
           "diverging": [
            [
             0,
             "#8e0152"
            ],
            [
             0.1,
             "#c51b7d"
            ],
            [
             0.2,
             "#de77ae"
            ],
            [
             0.3,
             "#f1b6da"
            ],
            [
             0.4,
             "#fde0ef"
            ],
            [
             0.5,
             "#f7f7f7"
            ],
            [
             0.6,
             "#e6f5d0"
            ],
            [
             0.7,
             "#b8e186"
            ],
            [
             0.8,
             "#7fbc41"
            ],
            [
             0.9,
             "#4d9221"
            ],
            [
             1,
             "#276419"
            ]
           ],
           "sequential": [
            [
             0,
             "#0d0887"
            ],
            [
             0.1111111111111111,
             "#46039f"
            ],
            [
             0.2222222222222222,
             "#7201a8"
            ],
            [
             0.3333333333333333,
             "#9c179e"
            ],
            [
             0.4444444444444444,
             "#bd3786"
            ],
            [
             0.5555555555555556,
             "#d8576b"
            ],
            [
             0.6666666666666666,
             "#ed7953"
            ],
            [
             0.7777777777777778,
             "#fb9f3a"
            ],
            [
             0.8888888888888888,
             "#fdca26"
            ],
            [
             1,
             "#f0f921"
            ]
           ],
           "sequentialminus": [
            [
             0,
             "#0d0887"
            ],
            [
             0.1111111111111111,
             "#46039f"
            ],
            [
             0.2222222222222222,
             "#7201a8"
            ],
            [
             0.3333333333333333,
             "#9c179e"
            ],
            [
             0.4444444444444444,
             "#bd3786"
            ],
            [
             0.5555555555555556,
             "#d8576b"
            ],
            [
             0.6666666666666666,
             "#ed7953"
            ],
            [
             0.7777777777777778,
             "#fb9f3a"
            ],
            [
             0.8888888888888888,
             "#fdca26"
            ],
            [
             1,
             "#f0f921"
            ]
           ]
          },
          "colorway": [
           "#636efa",
           "#EF553B",
           "#00cc96",
           "#ab63fa",
           "#FFA15A",
           "#19d3f3",
           "#FF6692",
           "#B6E880",
           "#FF97FF",
           "#FECB52"
          ],
          "font": {
           "color": "#2a3f5f"
          },
          "geo": {
           "bgcolor": "white",
           "lakecolor": "white",
           "landcolor": "#E5ECF6",
           "showlakes": true,
           "showland": true,
           "subunitcolor": "white"
          },
          "hoverlabel": {
           "align": "left"
          },
          "hovermode": "closest",
          "mapbox": {
           "style": "light"
          },
          "paper_bgcolor": "white",
          "plot_bgcolor": "#E5ECF6",
          "polar": {
           "angularaxis": {
            "gridcolor": "white",
            "linecolor": "white",
            "ticks": ""
           },
           "bgcolor": "#E5ECF6",
           "radialaxis": {
            "gridcolor": "white",
            "linecolor": "white",
            "ticks": ""
           }
          },
          "scene": {
           "xaxis": {
            "backgroundcolor": "#E5ECF6",
            "gridcolor": "white",
            "gridwidth": 2,
            "linecolor": "white",
            "showbackground": true,
            "ticks": "",
            "zerolinecolor": "white"
           },
           "yaxis": {
            "backgroundcolor": "#E5ECF6",
            "gridcolor": "white",
            "gridwidth": 2,
            "linecolor": "white",
            "showbackground": true,
            "ticks": "",
            "zerolinecolor": "white"
           },
           "zaxis": {
            "backgroundcolor": "#E5ECF6",
            "gridcolor": "white",
            "gridwidth": 2,
            "linecolor": "white",
            "showbackground": true,
            "ticks": "",
            "zerolinecolor": "white"
           }
          },
          "shapedefaults": {
           "line": {
            "color": "#2a3f5f"
           }
          },
          "ternary": {
           "aaxis": {
            "gridcolor": "white",
            "linecolor": "white",
            "ticks": ""
           },
           "baxis": {
            "gridcolor": "white",
            "linecolor": "white",
            "ticks": ""
           },
           "bgcolor": "#E5ECF6",
           "caxis": {
            "gridcolor": "white",
            "linecolor": "white",
            "ticks": ""
           }
          },
          "title": {
           "x": 0.05
          },
          "xaxis": {
           "automargin": true,
           "gridcolor": "white",
           "linecolor": "white",
           "ticks": "",
           "title": {
            "standoff": 15
           },
           "zerolinecolor": "white",
           "zerolinewidth": 2
          },
          "yaxis": {
           "automargin": true,
           "gridcolor": "white",
           "linecolor": "white",
           "ticks": "",
           "title": {
            "standoff": 15
           },
           "zerolinecolor": "white",
           "zerolinewidth": 2
          }
         }
        }
       }
      }
     },
     "metadata": {},
     "output_type": "display_data"
    }
   ],
   "source": [
    "fig1 = px.sunburst(analisis2, path=[ 'Resultado','Clasificación goles'], values='Total')\n",
    "fig1.update_traces(textinfo = 'label + value')\n",
    "fig1.show()"
   ]
  },
  {
   "cell_type": "markdown",
   "id": "fe17fc3e",
   "metadata": {},
   "source": [
    "## Ganados por temporada según condición"
   ]
  },
  {
   "cell_type": "code",
   "execution_count": 16,
   "id": "1563d3a0",
   "metadata": {},
   "outputs": [
    {
     "data": {
      "text/html": [
       "<div>\n",
       "<style scoped>\n",
       "    .dataframe tbody tr th:only-of-type {\n",
       "        vertical-align: middle;\n",
       "    }\n",
       "\n",
       "    .dataframe tbody tr th {\n",
       "        vertical-align: top;\n",
       "    }\n",
       "\n",
       "    .dataframe thead th {\n",
       "        text-align: right;\n",
       "    }\n",
       "</style>\n",
       "<table border=\"1\" class=\"dataframe\">\n",
       "  <thead>\n",
       "    <tr style=\"text-align: right;\">\n",
       "      <th></th>\n",
       "      <th>Temporada</th>\n",
       "      <th>Resultado</th>\n",
       "      <th>Total</th>\n",
       "    </tr>\n",
       "  </thead>\n",
       "  <tbody>\n",
       "    <tr>\n",
       "      <th>0</th>\n",
       "      <td>16/17</td>\n",
       "      <td>Empate</td>\n",
       "      <td>234</td>\n",
       "    </tr>\n",
       "    <tr>\n",
       "      <th>1</th>\n",
       "      <td>16/17</td>\n",
       "      <td>Local</td>\n",
       "      <td>395</td>\n",
       "    </tr>\n",
       "    <tr>\n",
       "      <th>2</th>\n",
       "      <td>16/17</td>\n",
       "      <td>Visitante</td>\n",
       "      <td>208</td>\n",
       "    </tr>\n",
       "    <tr>\n",
       "      <th>3</th>\n",
       "      <td>17/18</td>\n",
       "      <td>Empate</td>\n",
       "      <td>218</td>\n",
       "    </tr>\n",
       "    <tr>\n",
       "      <th>4</th>\n",
       "      <td>17/18</td>\n",
       "      <td>Local</td>\n",
       "      <td>397</td>\n",
       "    </tr>\n",
       "    <tr>\n",
       "      <th>5</th>\n",
       "      <td>17/18</td>\n",
       "      <td>Visitante</td>\n",
       "      <td>221</td>\n",
       "    </tr>\n",
       "    <tr>\n",
       "      <th>6</th>\n",
       "      <td>18/19</td>\n",
       "      <td>Empate</td>\n",
       "      <td>251</td>\n",
       "    </tr>\n",
       "    <tr>\n",
       "      <th>7</th>\n",
       "      <td>18/19</td>\n",
       "      <td>Local</td>\n",
       "      <td>374</td>\n",
       "    </tr>\n",
       "    <tr>\n",
       "      <th>8</th>\n",
       "      <td>18/19</td>\n",
       "      <td>Visitante</td>\n",
       "      <td>213</td>\n",
       "    </tr>\n",
       "    <tr>\n",
       "      <th>9</th>\n",
       "      <td>19/20</td>\n",
       "      <td>Empate</td>\n",
       "      <td>262</td>\n",
       "    </tr>\n",
       "    <tr>\n",
       "      <th>10</th>\n",
       "      <td>19/20</td>\n",
       "      <td>Local</td>\n",
       "      <td>357</td>\n",
       "    </tr>\n",
       "    <tr>\n",
       "      <th>11</th>\n",
       "      <td>19/20</td>\n",
       "      <td>Visitante</td>\n",
       "      <td>217</td>\n",
       "    </tr>\n",
       "    <tr>\n",
       "      <th>12</th>\n",
       "      <td>20/21</td>\n",
       "      <td>Empate</td>\n",
       "      <td>238</td>\n",
       "    </tr>\n",
       "    <tr>\n",
       "      <th>13</th>\n",
       "      <td>20/21</td>\n",
       "      <td>Local</td>\n",
       "      <td>356</td>\n",
       "    </tr>\n",
       "    <tr>\n",
       "      <th>14</th>\n",
       "      <td>20/21</td>\n",
       "      <td>Visitante</td>\n",
       "      <td>237</td>\n",
       "    </tr>\n",
       "    <tr>\n",
       "      <th>15</th>\n",
       "      <td>21/22</td>\n",
       "      <td>Empate</td>\n",
       "      <td>246</td>\n",
       "    </tr>\n",
       "    <tr>\n",
       "      <th>16</th>\n",
       "      <td>21/22</td>\n",
       "      <td>Local</td>\n",
       "      <td>366</td>\n",
       "    </tr>\n",
       "    <tr>\n",
       "      <th>17</th>\n",
       "      <td>21/22</td>\n",
       "      <td>Visitante</td>\n",
       "      <td>226</td>\n",
       "    </tr>\n",
       "  </tbody>\n",
       "</table>\n",
       "</div>"
      ],
      "text/plain": [
       "   Temporada  Resultado  Total\n",
       "0      16/17     Empate    234\n",
       "1      16/17      Local    395\n",
       "2      16/17  Visitante    208\n",
       "3      17/18     Empate    218\n",
       "4      17/18      Local    397\n",
       "5      17/18  Visitante    221\n",
       "6      18/19     Empate    251\n",
       "7      18/19      Local    374\n",
       "8      18/19  Visitante    213\n",
       "9      19/20     Empate    262\n",
       "10     19/20      Local    357\n",
       "11     19/20  Visitante    217\n",
       "12     20/21     Empate    238\n",
       "13     20/21      Local    356\n",
       "14     20/21  Visitante    237\n",
       "15     21/22     Empate    246\n",
       "16     21/22      Local    366\n",
       "17     21/22  Visitante    226"
      ]
     },
     "execution_count": 16,
     "metadata": {},
     "output_type": "execute_result"
    }
   ],
   "source": [
    "analisis3 = partidos6t.groupby(['Temporada','Resultado']).agg(Total = ('Wk','count')).reset_index().set_axis(['Temporada','Resultado','Total'],axis=1)\n",
    "analisis3"
   ]
  },
  {
   "cell_type": "code",
   "execution_count": 15,
   "id": "711486cd",
   "metadata": {},
   "outputs": [
    {
     "data": {
      "text/plain": [
       "<seaborn.axisgrid.FacetGrid at 0x1bc7d3357c0>"
      ]
     },
     "execution_count": 15,
     "metadata": {},
     "output_type": "execute_result"
    },
    {
     "data": {
      "image/png": "[encoded data removed]",
      "text/plain": [
       "<Figure size 801.725x360 with 1 Axes>"
      ]
     },
     "metadata": {},
     "output_type": "display_data"
    }
   ],
   "source": [
    "sns.set(style=\"white\")\n",
    "g = sns.catplot(x='Temporada'\n",
    "                   ,y= 'Total'\n",
    "                   ,hue='Resultado'\n",
    "                   ,data= analisis3\n",
    "                   ,kind='bar'\n",
    "                   ,aspect=2)\n",
    "g.set_xticklabels(rotation=30)"
   ]
  }
 ],
 "metadata": {
  "kernelspec": {
   "display_name": "Python 3 (ipykernel)",
   "language": "python",
   "name": "python3"
  },
  "language_info": {
   "codemirror_mode": {
    "name": "ipython",
    "version": 3
   },
   "file_extension": ".py",
   "mimetype": "text/x-python",
   "name": "python",
   "nbconvert_exporter": "python",
   "pygments_lexer": "ipython3",
   "version": "3.12.0"
  }
 },
 "nbformat": 4,
 "nbformat_minor": 5
}
