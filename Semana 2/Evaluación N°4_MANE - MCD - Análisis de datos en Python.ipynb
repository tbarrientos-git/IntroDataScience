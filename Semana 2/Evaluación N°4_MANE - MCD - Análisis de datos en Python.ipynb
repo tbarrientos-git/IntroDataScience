{
 "cells": [
  {
   "cell_type": "markdown",
   "metadata": {},
   "source": [
    "## Evaluación N°4_MANE - MCD - Análisis de datos en Python\n",
    "### Cuestionario Calificado. • 30 min. • 10 puntos en total disponibles. 10 total de puntos\n",
    "Desarrollo Cuestionario • Tomás Barrientos • 23-10-2023"
   ]
  },
  {
   "cell_type": "markdown",
   "metadata": {},
   "source": [
    "### Instrucciones \n",
    "- Descargar el archivo de Excel llamado “Datos.xls”  ubicado en la sección de \"Bienvenida\" del curso\n",
    "- Leer atentamente las preguntas\n",
    "- Realizar cálculos, desarrollos y análisis en base al archivo\n",
    "- Las respuestas que debes seleccionar están asociadas a los códigos o resultados que obtendrás del trabajo con el archivo"
   ]
  },
  {
   "cell_type": "code",
   "execution_count": 1,
   "metadata": {},
   "outputs": [],
   "source": [
    "import pandas as pd\n",
    "import numpy as np\n",
    "import matplotlib.pyplot as plt\n",
    "import matplotlib.transforms as transforms\n",
    "import seaborn as sns"
   ]
  },
  {
   "cell_type": "code",
   "execution_count": 2,
   "metadata": {},
   "outputs": [],
   "source": [
    "##Crear Dataframes de trabajo\n",
    "GRD_sheet = pd.read_excel(\"C:/Users/Tomás Barrientos/Downloads/_Datos.xls\", sheet_name = \"GRD\", header = 0, index_col = None)\n",
    "Hosp_sheet = pd.read_excel(\"C:/Users/Tomás Barrientos/Downloads/_Datos.xls\", sheet_name = \"Hospitales\", header = 0, index_col = None)\n",
    "Info_sheet = pd.read_excel(\"C:/Users/Tomás Barrientos/Downloads/_Datos.xls\", sheet_name = \"Información Histórica\", header = 0, index_col = None)"
   ]
  },
  {
   "cell_type": "markdown",
   "metadata": {},
   "source": [
    "**Pregunta 1**\n",
    "\n",
    "¿Cuál de las siguientes alternativas corresponde a la estimación de la cantidad de pacientes con GRD9 que llegarán el día 425 al Hospital Salvador utilizando un método de media móvil sobre los últimos 5 días (días 420 a 424) redondeado al entero superior?  "
   ]
  },
  {
   "cell_type": "code",
   "execution_count": 38,
   "metadata": {},
   "outputs": [
    {
     "name": "stdout",
     "output_type": "stream",
     "text": [
      "Estimación de pacientes GRD9 que llegarán el día 425 al Hospital Salvador: 3.0\n"
     ]
    }
   ],
   "source": [
    "# Filtrar los datos para pacientes con GRD9 en los últimos 5 días (días 420 a 424)\n",
    "dfp1 = Info_sheet.loc[(Info_sheet['Día de llegada'] >= 420) & (Info_sheet['Día de llegada'] <= 424) & (Info_sheet['GRD'] == 'GRD9') & (Info_sheet['Nombre Establecimiento']=='Hospital Del Salvador')]\n",
    "dfp1 = dfp1[[\"Día de llegada\", \"Número de llegada\"]].groupby(\"Día de llegada\", ).count()\n",
    "\n",
    "# Calcular la media móvil de llegadas durante los últimos 5 días (días 420 a 424)\n",
    "media_movil1 = dfp1.tail(10)  # Aquí se toman las últimas 10 filas (5 días)\n",
    "\n",
    "# Calcular la media de GRD9 durante los últimos 5 días\n",
    "estimacion_pacientes3 = np.round(media_movil1['Número de llegada'].mean(), 0)\n",
    "\n",
    "print(\"Estimación de pacientes GRD9 que llegarán el día 425 al Hospital Salvador:\", estimacion_pacientes3)"
   ]
  },
  {
   "cell_type": "code",
   "execution_count": 39,
   "metadata": {},
   "outputs": [
    {
     "data": {
      "text/html": [
       "<div>\n",
       "<style scoped>\n",
       "    .dataframe tbody tr th:only-of-type {\n",
       "        vertical-align: middle;\n",
       "    }\n",
       "\n",
       "    .dataframe tbody tr th {\n",
       "        vertical-align: top;\n",
       "    }\n",
       "\n",
       "    .dataframe thead th {\n",
       "        text-align: right;\n",
       "    }\n",
       "</style>\n",
       "<table border=\"1\" class=\"dataframe\">\n",
       "  <thead>\n",
       "    <tr style=\"text-align: right;\">\n",
       "      <th></th>\n",
       "      <th>Número de llegada</th>\n",
       "    </tr>\n",
       "    <tr>\n",
       "      <th>Día de llegada</th>\n",
       "      <th></th>\n",
       "    </tr>\n",
       "  </thead>\n",
       "  <tbody>\n",
       "    <tr>\n",
       "      <th>420</th>\n",
       "      <td>3</td>\n",
       "    </tr>\n",
       "    <tr>\n",
       "      <th>421</th>\n",
       "      <td>2</td>\n",
       "    </tr>\n",
       "    <tr>\n",
       "      <th>422</th>\n",
       "      <td>4</td>\n",
       "    </tr>\n",
       "  </tbody>\n",
       "</table>\n",
       "</div>"
      ],
      "text/plain": [
       "                Número de llegada\n",
       "Día de llegada                   \n",
       "420                             3\n",
       "421                             2\n",
       "422                             4"
      ]
     },
     "execution_count": 39,
     "metadata": {},
     "output_type": "execute_result"
    }
   ],
   "source": [
    "media_movil1"
   ]
  },
  {
   "cell_type": "markdown",
   "metadata": {},
   "source": [
    "**Pregunta 2**\n",
    "\n",
    "¿Cuál de las siguientes alternativas corresponde a la estimación de la cantidad de pacientes que llegarán el día 425 al Hospital Salvador utilizando un método de media móvil sobre los últimos 5 días (días 420 a 424) redondeado al entero superior?  "
   ]
  },
  {
   "cell_type": "code",
   "execution_count": 40,
   "metadata": {},
   "outputs": [
    {
     "name": "stdout",
     "output_type": "stream",
     "text": [
      "Estimación de pacientes GRD9 que llegarán el día 425 al Hospital Salvador: 12.0\n"
     ]
    }
   ],
   "source": [
    "# Filtrar los datos para pacientes con GRD9 en los últimos 5 días (días 420 a 424)\n",
    "dfp2 = Info_sheet.loc[(Info_sheet['Día de llegada'] >= 420) & (Info_sheet['Día de llegada'] <= 424) & (Info_sheet['Nombre Establecimiento']=='Hospital Del Salvador')]\n",
    "dfp2 = dfp2[[\"Día de llegada\", \"Número de llegada\"]].groupby(\"Día de llegada\", ).count()\n",
    "\n",
    "# Calcular la media móvil de llegadas durante los últimos 5 días (días 420 a 424)\n",
    "media_movil2 = dfp2.tail(10)  # Aquí se toman las últimas 10 filas (5 días)\n",
    "\n",
    "# Calcular la media de GRD9 durante los últimos 5 días\n",
    "estimacion_pacientes2 = np.round(media_movil2['Número de llegada'].mean(), 0)\n",
    "\n",
    "print(\"Estimación de pacientes GRD9 que llegarán el día 425 al Hospital Salvador:\", estimacion_pacientes2)"
   ]
  },
  {
   "cell_type": "code",
   "execution_count": 41,
   "metadata": {},
   "outputs": [
    {
     "data": {
      "text/html": [
       "<div>\n",
       "<style scoped>\n",
       "    .dataframe tbody tr th:only-of-type {\n",
       "        vertical-align: middle;\n",
       "    }\n",
       "\n",
       "    .dataframe tbody tr th {\n",
       "        vertical-align: top;\n",
       "    }\n",
       "\n",
       "    .dataframe thead th {\n",
       "        text-align: right;\n",
       "    }\n",
       "</style>\n",
       "<table border=\"1\" class=\"dataframe\">\n",
       "  <thead>\n",
       "    <tr style=\"text-align: right;\">\n",
       "      <th></th>\n",
       "      <th>Número de llegada</th>\n",
       "    </tr>\n",
       "    <tr>\n",
       "      <th>Día de llegada</th>\n",
       "      <th></th>\n",
       "    </tr>\n",
       "  </thead>\n",
       "  <tbody>\n",
       "    <tr>\n",
       "      <th>420</th>\n",
       "      <td>14</td>\n",
       "    </tr>\n",
       "    <tr>\n",
       "      <th>421</th>\n",
       "      <td>12</td>\n",
       "    </tr>\n",
       "    <tr>\n",
       "      <th>422</th>\n",
       "      <td>18</td>\n",
       "    </tr>\n",
       "    <tr>\n",
       "      <th>423</th>\n",
       "      <td>9</td>\n",
       "    </tr>\n",
       "    <tr>\n",
       "      <th>424</th>\n",
       "      <td>6</td>\n",
       "    </tr>\n",
       "  </tbody>\n",
       "</table>\n",
       "</div>"
      ],
      "text/plain": [
       "                Número de llegada\n",
       "Día de llegada                   \n",
       "420                            14\n",
       "421                            12\n",
       "422                            18\n",
       "423                             9\n",
       "424                             6"
      ]
     },
     "execution_count": 41,
     "metadata": {},
     "output_type": "execute_result"
    }
   ],
   "source": [
    "media_movil2"
   ]
  },
  {
   "cell_type": "markdown",
   "metadata": {},
   "source": [
    "**Pregunta 3**\n",
    "\n",
    "¿Cuál de las siguientes alternativas corresponde a la estimación de la cantidad de pacientes que llegarán el día 425 a la red utilizando un método de media móvil sobre los últimos 5 días (días 420 a 424) redondeado al entero superior?   "
   ]
  },
  {
   "cell_type": "code",
   "execution_count": 42,
   "metadata": {},
   "outputs": [
    {
     "name": "stdout",
     "output_type": "stream",
     "text": [
      "Estimación de pacientes GRD9 que llegarán el día 425 al Hospital Salvador: 149.0\n"
     ]
    }
   ],
   "source": [
    "# Filtrar los datos para pacientes con GRD9 en los últimos 5 días (días 420 a 424)\n",
    "dfp3 = Info_sheet.loc[(Info_sheet['Día de llegada'] >= 420) & (Info_sheet['Día de llegada'] <= 424)]\n",
    "dfp3 = dfp3[[\"Día de llegada\", \"Número de llegada\"]].groupby(\"Día de llegada\", ).count()\n",
    "\n",
    "# Calcular la media móvil de llegadas durante los últimos 5 días (días 420 a 424)\n",
    "media_movil3 = dfp3.tail(10)  # Aquí se toman las últimas 10 filas (5 días)\n",
    "\n",
    "# Calcular la media de GRD9 durante los últimos 5 días\n",
    "estimacion_pacientes3 = np.round(media_movil3['Número de llegada'].mean(), 0)\n",
    "\n",
    "print(\"Estimación de pacientes GRD9 que llegarán el día 425 al Hospital Salvador:\", estimacion_pacientes3)"
   ]
  },
  {
   "cell_type": "code",
   "execution_count": 43,
   "metadata": {},
   "outputs": [
    {
     "data": {
      "text/html": [
       "<div>\n",
       "<style scoped>\n",
       "    .dataframe tbody tr th:only-of-type {\n",
       "        vertical-align: middle;\n",
       "    }\n",
       "\n",
       "    .dataframe tbody tr th {\n",
       "        vertical-align: top;\n",
       "    }\n",
       "\n",
       "    .dataframe thead th {\n",
       "        text-align: right;\n",
       "    }\n",
       "</style>\n",
       "<table border=\"1\" class=\"dataframe\">\n",
       "  <thead>\n",
       "    <tr style=\"text-align: right;\">\n",
       "      <th></th>\n",
       "      <th>Número de llegada</th>\n",
       "    </tr>\n",
       "    <tr>\n",
       "      <th>Día de llegada</th>\n",
       "      <th></th>\n",
       "    </tr>\n",
       "  </thead>\n",
       "  <tbody>\n",
       "    <tr>\n",
       "      <th>420</th>\n",
       "      <td>183</td>\n",
       "    </tr>\n",
       "    <tr>\n",
       "      <th>421</th>\n",
       "      <td>159</td>\n",
       "    </tr>\n",
       "    <tr>\n",
       "      <th>422</th>\n",
       "      <td>160</td>\n",
       "    </tr>\n",
       "    <tr>\n",
       "      <th>423</th>\n",
       "      <td>159</td>\n",
       "    </tr>\n",
       "    <tr>\n",
       "      <th>424</th>\n",
       "      <td>82</td>\n",
       "    </tr>\n",
       "  </tbody>\n",
       "</table>\n",
       "</div>"
      ],
      "text/plain": [
       "                Número de llegada\n",
       "Día de llegada                   \n",
       "420                           183\n",
       "421                           159\n",
       "422                           160\n",
       "423                           159\n",
       "424                            82"
      ]
     },
     "execution_count": 43,
     "metadata": {},
     "output_type": "execute_result"
    }
   ],
   "source": [
    "media_movil3"
   ]
  },
  {
   "cell_type": "markdown",
   "metadata": {},
   "source": [
    "**Pregunta 4**\n",
    "\n",
    "¿Cuál de las siguientes alternativas corresponde a la estimación de la cantidad de pacientes con GRD9 que llegarán el día 425 al Hospital Salvador utilizando una regresión lineal simple sobre los últimos 5 días (días 420 a 424) redondeado al entero superior?  "
   ]
  },
  {
   "cell_type": "code",
   "execution_count": 48,
   "metadata": {},
   "outputs": [],
   "source": [
    "from sklearn.linear_model import LinearRegression"
   ]
  },
  {
   "cell_type": "code",
   "execution_count": 51,
   "metadata": {},
   "outputs": [
    {
     "data": {
      "text/html": [
       "<div>\n",
       "<style scoped>\n",
       "    .dataframe tbody tr th:only-of-type {\n",
       "        vertical-align: middle;\n",
       "    }\n",
       "\n",
       "    .dataframe tbody tr th {\n",
       "        vertical-align: top;\n",
       "    }\n",
       "\n",
       "    .dataframe thead th {\n",
       "        text-align: right;\n",
       "    }\n",
       "</style>\n",
       "<table border=\"1\" class=\"dataframe\">\n",
       "  <thead>\n",
       "    <tr style=\"text-align: right;\">\n",
       "      <th></th>\n",
       "      <th>Día de llegada</th>\n",
       "      <th>Número de llegada</th>\n",
       "    </tr>\n",
       "  </thead>\n",
       "  <tbody>\n",
       "    <tr>\n",
       "      <th>0</th>\n",
       "      <td>420</td>\n",
       "      <td>3</td>\n",
       "    </tr>\n",
       "    <tr>\n",
       "      <th>1</th>\n",
       "      <td>421</td>\n",
       "      <td>2</td>\n",
       "    </tr>\n",
       "    <tr>\n",
       "      <th>2</th>\n",
       "      <td>422</td>\n",
       "      <td>4</td>\n",
       "    </tr>\n",
       "  </tbody>\n",
       "</table>\n",
       "</div>"
      ],
      "text/plain": [
       "   Día de llegada  Número de llegada\n",
       "0             420                  3\n",
       "1             421                  2\n",
       "2             422                  4"
      ]
     },
     "execution_count": 51,
     "metadata": {},
     "output_type": "execute_result"
    }
   ],
   "source": [
    "# Filtrar los datos para pacientes con GRD9 en los últimos 5 días (días 420 a 424)\n",
    "dfp4 = Info_sheet.loc[(Info_sheet['Día de llegada'] >= 420) & (Info_sheet['Día de llegada'] <= 424) & (Info_sheet['GRD'] == 'GRD9') & (Info_sheet['Nombre Establecimiento']=='Hospital Del Salvador')]\n",
    "dfp4 = dfp4[[\"Día de llegada\", \"Número de llegada\"]].groupby(\"Día de llegada\", ).count()\n",
    "dfp4 = dfp4.reset_index()\n",
    "dfp4.head()"
   ]
  },
  {
   "cell_type": "code",
   "execution_count": 52,
   "metadata": {},
   "outputs": [
    {
     "name": "stdout",
     "output_type": "stream",
     "text": [
      "Pendiente: 0.4999999999999999, Intercepto: -207.49999999999994\n"
     ]
    }
   ],
   "source": [
    "X = dfp4[[\"Día de llegada\"]]\n",
    "y = dfp4[[\"Número de llegada\"]]\n",
    "regressor = LinearRegression().fit(X, y)\n",
    "print(f\"Pendiente: {regressor.coef_[0][0]}, Intercepto: {regressor.intercept_[0]}\")"
   ]
  },
  {
   "cell_type": "code",
   "execution_count": 53,
   "metadata": {},
   "outputs": [
    {
     "data": {
      "image/png": "[encoded data removed]",
      "text/plain": [
       "<Figure size 1200x500 with 1 Axes>"
      ]
     },
     "metadata": {},
     "output_type": "display_data"
    }
   ],
   "source": [
    "plt.figure(figsize=(12,5))\n",
    "plt.scatter(X, y, color = 'black')\n",
    "plt.plot(X, regressor.predict(X), color = 'red')\n",
    "plt.title('Día de llegada vs Número de llegadas')\n",
    "plt.xlabel('Día de llegada')\n",
    "plt.ylabel('Número de llegadas')\n",
    "plt.show()"
   ]
  },
  {
   "cell_type": "code",
   "execution_count": 56,
   "metadata": {},
   "outputs": [
    {
     "name": "stdout",
     "output_type": "stream",
     "text": [
      "Llegadas estimadas para el día 424: 4.0\n"
     ]
    }
   ],
   "source": [
    "prox_llegada = 424*regressor.coef_[0][0]+regressor.intercept_[0]\n",
    "print(f\"Llegadas estimadas para el día 424: {np.round(prox_llegada,0)}\")"
   ]
  },
  {
   "cell_type": "markdown",
   "metadata": {},
   "source": [
    "**Pregunta 5**\n",
    "\n",
    "¿Cuál de las siguientes alternativas corresponde a la estimación de la cantidad de pacientes que llegarán el día 425 al Hospital Salvador utilizando una regresión lineal simple sobre los últimos 5 días (días 420 a 424) redondeado al entero superior?  "
   ]
  },
  {
   "cell_type": "code",
   "execution_count": 71,
   "metadata": {},
   "outputs": [
    {
     "name": "stdout",
     "output_type": "stream",
     "text": [
      "Estimación de pacientes para el día 425: 6 pacientes\n"
     ]
    }
   ],
   "source": [
    "# Datos de los últimos 5 días\n",
    "dfp5 = Info_sheet.loc[(Info_sheet['Día de llegada'] >= 420) & (Info_sheet['Día de llegada'] <= 424) & (Info_sheet['Nombre Establecimiento']=='Hospital Del Salvador')]\n",
    "dfp5 = dfp5[[\"Día de llegada\", \"Número de llegada\"]].groupby(\"Día de llegada\").count()\n",
    "dfp5 = dfp5.reset_index()\n",
    "\n",
    "# Crear el modelo de regresión lineal\n",
    "X5 = dfp5[[\"Día de llegada\"]]\n",
    "y5 = dfp5[[\"Número de llegada\"]]\n",
    "regressor5 = LinearRegression().fit(X5, y5)\n",
    "\n",
    "# Coeficientes de la regresión lineal\n",
    "pendiente5 = regressor5.coef_[0][0]\n",
    "intercepto5 = regressor5.intercept_[0]\n",
    "\n",
    "# Día que deseas predecir\n",
    "dia_a_predecir5 = 425\n",
    "\n",
    "# Realiza la predicción\n",
    "prediccion5 = pendiente5 * dia_a_predecir5 + intercepto5\n",
    "\n",
    "# Redondea al entero superior\n",
    "prediccion_redondeada5 = int(prediccion5 + 0.5)\n",
    "\n",
    "# Imprime la estimación\n",
    "print(f\"Estimación de pacientes para el día {dia_a_predecir5}: {prediccion_redondeada5} pacientes\")"
   ]
  },
  {
   "cell_type": "code",
   "execution_count": null,
   "metadata": {},
   "outputs": [],
   "source": [
    "plt.figure(figsize=(12,5))\n",
    "plt.scatter(X6, y6, color = 'black')\n",
    "plt.plot(X6, regressor6.predict(X6), color = 'red')\n",
    "plt.title('Día de llegada vs Número de llegadas')\n",
    "plt.xlabel('Día de llegada')\n",
    "plt.ylabel('Número de llegadas')\n",
    "plt.show()"
   ]
  },
  {
   "cell_type": "markdown",
   "metadata": {},
   "source": [
    "**Pregunta 6**\n",
    "\n",
    "¿Cuál de las siguientes alternativas corresponde a la estimación de la cantidad de pacientes que llegarán a la red el día 425 utilizando una regresión lineal simple sobre los últimos 5 días (días 420 a 424) redondeado al entero superior?  "
   ]
  },
  {
   "cell_type": "code",
   "execution_count": 70,
   "metadata": {},
   "outputs": [
    {
     "name": "stdout",
     "output_type": "stream",
     "text": [
      "Estimación de pacientes para el día 425: 88 pacientes\n"
     ]
    }
   ],
   "source": [
    "# Datos de los últimos 5 días\n",
    "dfp6 = Info_sheet.loc[(Info_sheet['Día de llegada'] >= 420) & (Info_sheet['Día de llegada'] <= 424)]\n",
    "dfp6 = dfp6[[\"Día de llegada\", \"Número de llegada\"]].groupby(\"Día de llegada\").count()\n",
    "dfp6 = dfp6.reset_index()\n",
    "\n",
    "# Crear el modelo de regresión lineal\n",
    "X6 = dfp6[[\"Día de llegada\"]]\n",
    "y6 = dfp6[[\"Número de llegada\"]]\n",
    "regressor6 = LinearRegression().fit(X6, y6)\n",
    "\n",
    "# Coeficientes de la regresión lineal\n",
    "pendiente = regressor6.coef_[0][0]\n",
    "intercepto = regressor6.intercept_[0]\n",
    "\n",
    "# Día que deseas predecir\n",
    "dia_a_predecir = 425\n",
    "\n",
    "# Realiza la predicción\n",
    "prediccion = pendiente * dia_a_predecir + intercepto\n",
    "\n",
    "# Redondea al entero superior\n",
    "prediccion_redondeada = int(prediccion + 0.5)\n",
    "\n",
    "# Imprime la estimación\n",
    "print(f\"Estimación de pacientes para el día {dia_a_predecir}: {prediccion_redondeada} pacientes\")\n"
   ]
  },
  {
   "cell_type": "code",
   "execution_count": 69,
   "metadata": {},
   "outputs": [
    {
     "data": {
      "image/png": "[encoded data removed]",
      "text/plain": [
       "<Figure size 1200x500 with 1 Axes>"
      ]
     },
     "metadata": {},
     "output_type": "display_data"
    }
   ],
   "source": [
    "plt.figure(figsize=(12,5))\n",
    "plt.scatter(X6, y6, color = 'black')\n",
    "plt.plot(X6, regressor6.predict(X6), color = 'red')\n",
    "plt.title('Día de llegada vs Número de llegadas')\n",
    "plt.xlabel('Día de llegada')\n",
    "plt.ylabel('Número de llegadas')\n",
    "plt.show()"
   ]
  },
  {
   "cell_type": "code",
   "execution_count": null,
   "metadata": {},
   "outputs": [],
   "source": []
  }
 ],
 "metadata": {
  "kernelspec": {
   "display_name": "Python 3",
   "language": "python",
   "name": "python3"
  },
  "language_info": {
   "codemirror_mode": {
    "name": "ipython",
    "version": 3
   },
   "file_extension": ".py",
   "mimetype": "text/x-python",
   "name": "python",
   "nbconvert_exporter": "python",
   "pygments_lexer": "ipython3",
   "version": "3.12.0"
  }
 },
 "nbformat": 4,
 "nbformat_minor": 2
}
