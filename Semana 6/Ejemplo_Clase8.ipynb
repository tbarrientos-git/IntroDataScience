{
 "cells": [
  {
   "cell_type": "code",
   "execution_count": 1,
   "id": "80a89cfa",
   "metadata": {
    "scrolled": true
   },
   "outputs": [],
   "source": [
    "import pandas as pd\n",
    "import numpy as np\n",
    "import plotly.express as px\n",
    "import pandas_bokeh\n",
    "import matplotlib.pyplot as plt\n",
    "import seaborn as sns\n",
    "\n",
    "import warnings\n",
    "warnings.filterwarnings('ignore')\n"
   ]
  },
  {
   "cell_type": "markdown",
   "id": "23ee6402",
   "metadata": {},
   "source": [
    "## Creando dataframes"
   ]
  },
  {
   "cell_type": "code",
   "execution_count": 2,
   "id": "6824a65e",
   "metadata": {},
   "outputs": [],
   "source": [
    "nba = pd.read_csv('nba_contracts_history.csv')"
   ]
  },
  {
   "cell_type": "code",
   "execution_count": 3,
   "id": "f20a6449",
   "metadata": {
    "scrolled": true
   },
   "outputs": [
    {
     "data": {
      "text/html": [
       "<div>\n",
       "<style scoped>\n",
       "    .dataframe tbody tr th:only-of-type {\n",
       "        vertical-align: middle;\n",
       "    }\n",
       "\n",
       "    .dataframe tbody tr th {\n",
       "        vertical-align: top;\n",
       "    }\n",
       "\n",
       "    .dataframe thead th {\n",
       "        text-align: right;\n",
       "    }\n",
       "</style>\n",
       "<table border=\"1\" class=\"dataframe\">\n",
       "  <thead>\n",
       "    <tr style=\"text-align: right;\">\n",
       "      <th></th>\n",
       "      <th>NAME</th>\n",
       "      <th>CONTRACT_START</th>\n",
       "      <th>CONTRACT_END</th>\n",
       "      <th>AVG_SALARY</th>\n",
       "      <th>AGE</th>\n",
       "      <th>GP</th>\n",
       "      <th>W</th>\n",
       "      <th>L</th>\n",
       "      <th>MIN</th>\n",
       "      <th>PTS</th>\n",
       "      <th>...</th>\n",
       "      <th>FT%</th>\n",
       "      <th>OREB</th>\n",
       "      <th>DREB</th>\n",
       "      <th>REB</th>\n",
       "      <th>AST</th>\n",
       "      <th>TOV</th>\n",
       "      <th>STL</th>\n",
       "      <th>BLK</th>\n",
       "      <th>PF</th>\n",
       "      <th>+/-</th>\n",
       "    </tr>\n",
       "  </thead>\n",
       "  <tbody>\n",
       "    <tr>\n",
       "      <th>0</th>\n",
       "      <td>Wesley Matthews</td>\n",
       "      <td>2019</td>\n",
       "      <td>2020</td>\n",
       "      <td>2564753.0</td>\n",
       "      <td>32.0</td>\n",
       "      <td>69.0</td>\n",
       "      <td>27.0</td>\n",
       "      <td>42.0</td>\n",
       "      <td>2091.0</td>\n",
       "      <td>840.0</td>\n",
       "      <td>...</td>\n",
       "      <td>81.0</td>\n",
       "      <td>32.0</td>\n",
       "      <td>138.0</td>\n",
       "      <td>170.0</td>\n",
       "      <td>160.0</td>\n",
       "      <td>91.0</td>\n",
       "      <td>54.0</td>\n",
       "      <td>17.0</td>\n",
       "      <td>160.0</td>\n",
       "      <td>-90.0</td>\n",
       "    </tr>\n",
       "    <tr>\n",
       "      <th>1</th>\n",
       "      <td>Brook Lopez</td>\n",
       "      <td>2015</td>\n",
       "      <td>2017</td>\n",
       "      <td>21165675.0</td>\n",
       "      <td>27.0</td>\n",
       "      <td>72.0</td>\n",
       "      <td>34.0</td>\n",
       "      <td>38.0</td>\n",
       "      <td>2100.0</td>\n",
       "      <td>1236.0</td>\n",
       "      <td>...</td>\n",
       "      <td>81.4</td>\n",
       "      <td>214.0</td>\n",
       "      <td>321.0</td>\n",
       "      <td>535.0</td>\n",
       "      <td>50.0</td>\n",
       "      <td>104.0</td>\n",
       "      <td>43.0</td>\n",
       "      <td>126.0</td>\n",
       "      <td>206.0</td>\n",
       "      <td>-104.0</td>\n",
       "    </tr>\n",
       "    <tr>\n",
       "      <th>2</th>\n",
       "      <td>DeAndre Jordan</td>\n",
       "      <td>2011</td>\n",
       "      <td>2014</td>\n",
       "      <td>10759763.5</td>\n",
       "      <td>22.0</td>\n",
       "      <td>80.0</td>\n",
       "      <td>31.0</td>\n",
       "      <td>49.0</td>\n",
       "      <td>2047.0</td>\n",
       "      <td>566.0</td>\n",
       "      <td>...</td>\n",
       "      <td>45.2</td>\n",
       "      <td>207.0</td>\n",
       "      <td>368.0</td>\n",
       "      <td>575.0</td>\n",
       "      <td>42.0</td>\n",
       "      <td>101.0</td>\n",
       "      <td>41.0</td>\n",
       "      <td>142.0</td>\n",
       "      <td>255.0</td>\n",
       "      <td>-100.0</td>\n",
       "    </tr>\n",
       "    <tr>\n",
       "      <th>3</th>\n",
       "      <td>Markieff Morris</td>\n",
       "      <td>2015</td>\n",
       "      <td>2018</td>\n",
       "      <td>8143323.5</td>\n",
       "      <td>25.0</td>\n",
       "      <td>82.0</td>\n",
       "      <td>39.0</td>\n",
       "      <td>43.0</td>\n",
       "      <td>2581.0</td>\n",
       "      <td>1258.0</td>\n",
       "      <td>...</td>\n",
       "      <td>76.3</td>\n",
       "      <td>110.0</td>\n",
       "      <td>396.0</td>\n",
       "      <td>506.0</td>\n",
       "      <td>192.0</td>\n",
       "      <td>170.0</td>\n",
       "      <td>101.0</td>\n",
       "      <td>39.0</td>\n",
       "      <td>245.0</td>\n",
       "      <td>105.0</td>\n",
       "    </tr>\n",
       "    <tr>\n",
       "      <th>4</th>\n",
       "      <td>Dwight Howard</td>\n",
       "      <td>2018</td>\n",
       "      <td>2019</td>\n",
       "      <td>13410739.0</td>\n",
       "      <td>32.0</td>\n",
       "      <td>81.0</td>\n",
       "      <td>35.0</td>\n",
       "      <td>46.0</td>\n",
       "      <td>2463.0</td>\n",
       "      <td>1347.0</td>\n",
       "      <td>...</td>\n",
       "      <td>57.4</td>\n",
       "      <td>255.0</td>\n",
       "      <td>757.0</td>\n",
       "      <td>1012.0</td>\n",
       "      <td>105.0</td>\n",
       "      <td>208.0</td>\n",
       "      <td>48.0</td>\n",
       "      <td>131.0</td>\n",
       "      <td>249.0</td>\n",
       "      <td>89.0</td>\n",
       "    </tr>\n",
       "  </tbody>\n",
       "</table>\n",
       "<p>5 rows × 28 columns</p>\n",
       "</div>"
      ],
      "text/plain": [
       "              NAME  CONTRACT_START  CONTRACT_END  AVG_SALARY   AGE    GP  \\\n",
       "0  Wesley Matthews            2019          2020   2564753.0  32.0  69.0   \n",
       "1      Brook Lopez            2015          2017  21165675.0  27.0  72.0   \n",
       "2   DeAndre Jordan            2011          2014  10759763.5  22.0  80.0   \n",
       "3  Markieff Morris            2015          2018   8143323.5  25.0  82.0   \n",
       "4    Dwight Howard            2018          2019  13410739.0  32.0  81.0   \n",
       "\n",
       "      W     L     MIN     PTS  ...   FT%   OREB   DREB     REB    AST    TOV  \\\n",
       "0  27.0  42.0  2091.0   840.0  ...  81.0   32.0  138.0   170.0  160.0   91.0   \n",
       "1  34.0  38.0  2100.0  1236.0  ...  81.4  214.0  321.0   535.0   50.0  104.0   \n",
       "2  31.0  49.0  2047.0   566.0  ...  45.2  207.0  368.0   575.0   42.0  101.0   \n",
       "3  39.0  43.0  2581.0  1258.0  ...  76.3  110.0  396.0   506.0  192.0  170.0   \n",
       "4  35.0  46.0  2463.0  1347.0  ...  57.4  255.0  757.0  1012.0  105.0  208.0   \n",
       "\n",
       "     STL    BLK     PF    +/-  \n",
       "0   54.0   17.0  160.0  -90.0  \n",
       "1   43.0  126.0  206.0 -104.0  \n",
       "2   41.0  142.0  255.0 -100.0  \n",
       "3  101.0   39.0  245.0  105.0  \n",
       "4   48.0  131.0  249.0   89.0  \n",
       "\n",
       "[5 rows x 28 columns]"
      ]
     },
     "execution_count": 3,
     "metadata": {},
     "output_type": "execute_result"
    }
   ],
   "source": [
    "nba.head()"
   ]
  },
  {
   "cell_type": "markdown",
   "id": "6ba92a64",
   "metadata": {},
   "source": [
    "Seleccionaremos las siguientes columnas para estudiar el fenómeno del salario de un jugador de la nba:"
   ]
  },
  {
   "cell_type": "code",
   "execution_count": 4,
   "id": "54d95b4f",
   "metadata": {},
   "outputs": [],
   "source": [
    "nba = nba[['NAME','CONTRACT_START', 'CONTRACT_END', 'AVG_SALARY', 'AGE', 'GP',\n",
    "       'W', 'L', 'MIN','+/-']].drop_duplicates()"
   ]
  },
  {
   "cell_type": "markdown",
   "id": "731839d4",
   "metadata": {},
   "source": [
    "En general, en el mundo del deporte se le otorga un alto sueldo a los mejores jugadores de cada equipo según lo que ellos le entregan a su equipo tanto dentro como fuera del campo. Vamos a ordenar los contratos de la base de datos según la columna AVG_SALARY para. Si tomamos los primeros 5 en orden descendente podemos notar lo siguiente:"
   ]
  },
  {
   "cell_type": "code",
   "execution_count": 5,
   "id": "fdf5be50",
   "metadata": {},
   "outputs": [
    {
     "data": {
      "text/html": [
       "<div>\n",
       "<style scoped>\n",
       "    .dataframe tbody tr th:only-of-type {\n",
       "        vertical-align: middle;\n",
       "    }\n",
       "\n",
       "    .dataframe tbody tr th {\n",
       "        vertical-align: top;\n",
       "    }\n",
       "\n",
       "    .dataframe thead th {\n",
       "        text-align: right;\n",
       "    }\n",
       "</style>\n",
       "<table border=\"1\" class=\"dataframe\">\n",
       "  <thead>\n",
       "    <tr style=\"text-align: right;\">\n",
       "      <th></th>\n",
       "      <th>NAME</th>\n",
       "      <th>CONTRACT_START</th>\n",
       "      <th>CONTRACT_END</th>\n",
       "      <th>AVG_SALARY</th>\n",
       "      <th>AGE</th>\n",
       "      <th>GP</th>\n",
       "      <th>W</th>\n",
       "      <th>L</th>\n",
       "      <th>MIN</th>\n",
       "      <th>+/-</th>\n",
       "    </tr>\n",
       "  </thead>\n",
       "  <tbody>\n",
       "    <tr>\n",
       "      <th>99</th>\n",
       "      <td>Kevin Durant</td>\n",
       "      <td>2018</td>\n",
       "      <td>2019</td>\n",
       "      <td>3.359950e+07</td>\n",
       "      <td>29.0</td>\n",
       "      <td>68.0</td>\n",
       "      <td>49.0</td>\n",
       "      <td>19.0</td>\n",
       "      <td>2325.0</td>\n",
       "      <td>351.0</td>\n",
       "    </tr>\n",
       "    <tr>\n",
       "      <th>152</th>\n",
       "      <td>LeBron James</td>\n",
       "      <td>2016</td>\n",
       "      <td>2017</td>\n",
       "      <td>3.212458e+07</td>\n",
       "      <td>31.0</td>\n",
       "      <td>76.0</td>\n",
       "      <td>56.0</td>\n",
       "      <td>20.0</td>\n",
       "      <td>2709.0</td>\n",
       "      <td>618.0</td>\n",
       "    </tr>\n",
       "    <tr>\n",
       "      <th>17</th>\n",
       "      <td>Kyle Lowry</td>\n",
       "      <td>2017</td>\n",
       "      <td>2019</td>\n",
       "      <td>3.163333e+07</td>\n",
       "      <td>31.0</td>\n",
       "      <td>60.0</td>\n",
       "      <td>36.0</td>\n",
       "      <td>24.0</td>\n",
       "      <td>2244.0</td>\n",
       "      <td>356.0</td>\n",
       "    </tr>\n",
       "    <tr>\n",
       "      <th>116</th>\n",
       "      <td>Gordon Hayward</td>\n",
       "      <td>2017</td>\n",
       "      <td>2020</td>\n",
       "      <td>3.121430e+07</td>\n",
       "      <td>27.0</td>\n",
       "      <td>73.0</td>\n",
       "      <td>46.0</td>\n",
       "      <td>27.0</td>\n",
       "      <td>2516.0</td>\n",
       "      <td>347.0</td>\n",
       "    </tr>\n",
       "    <tr>\n",
       "      <th>88</th>\n",
       "      <td>James Harden</td>\n",
       "      <td>2016</td>\n",
       "      <td>2019</td>\n",
       "      <td>3.090212e+07</td>\n",
       "      <td>26.0</td>\n",
       "      <td>82.0</td>\n",
       "      <td>41.0</td>\n",
       "      <td>41.0</td>\n",
       "      <td>3125.0</td>\n",
       "      <td>124.0</td>\n",
       "    </tr>\n",
       "  </tbody>\n",
       "</table>\n",
       "</div>"
      ],
      "text/plain": [
       "               NAME  CONTRACT_START  CONTRACT_END    AVG_SALARY   AGE    GP  \\\n",
       "99     Kevin Durant            2018          2019  3.359950e+07  29.0  68.0   \n",
       "152    LeBron James            2016          2017  3.212458e+07  31.0  76.0   \n",
       "17       Kyle Lowry            2017          2019  3.163333e+07  31.0  60.0   \n",
       "116  Gordon Hayward            2017          2020  3.121430e+07  27.0  73.0   \n",
       "88     James Harden            2016          2019  3.090212e+07  26.0  82.0   \n",
       "\n",
       "        W     L     MIN    +/-  \n",
       "99   49.0  19.0  2325.0  351.0  \n",
       "152  56.0  20.0  2709.0  618.0  \n",
       "17   36.0  24.0  2244.0  356.0  \n",
       "116  46.0  27.0  2516.0  347.0  \n",
       "88   41.0  41.0  3125.0  124.0  "
      ]
     },
     "execution_count": 5,
     "metadata": {},
     "output_type": "execute_result"
    }
   ],
   "source": [
    "nba.sort_values(by=['AVG_SALARY'],ascending = False).head()"
   ]
  },
  {
   "cell_type": "code",
   "execution_count": 6,
   "id": "82591fc8",
   "metadata": {},
   "outputs": [
    {
     "data": {
      "text/html": [
       "<div>\n",
       "<style scoped>\n",
       "    .dataframe tbody tr th:only-of-type {\n",
       "        vertical-align: middle;\n",
       "    }\n",
       "\n",
       "    .dataframe tbody tr th {\n",
       "        vertical-align: top;\n",
       "    }\n",
       "\n",
       "    .dataframe thead th {\n",
       "        text-align: right;\n",
       "    }\n",
       "</style>\n",
       "<table border=\"1\" class=\"dataframe\">\n",
       "  <thead>\n",
       "    <tr style=\"text-align: right;\">\n",
       "      <th></th>\n",
       "      <th>NAME</th>\n",
       "      <th>CONTRACT_START</th>\n",
       "      <th>CONTRACT_END</th>\n",
       "      <th>AVG_SALARY</th>\n",
       "      <th>AGE</th>\n",
       "      <th>GP</th>\n",
       "      <th>W</th>\n",
       "      <th>L</th>\n",
       "      <th>MIN</th>\n",
       "      <th>+/-</th>\n",
       "    </tr>\n",
       "  </thead>\n",
       "  <tbody>\n",
       "    <tr>\n",
       "      <th>30</th>\n",
       "      <td>E'Twaun Moore</td>\n",
       "      <td>2012</td>\n",
       "      <td>2013</td>\n",
       "      <td>823244.0</td>\n",
       "      <td>23.0</td>\n",
       "      <td>38.0</td>\n",
       "      <td>24.0</td>\n",
       "      <td>14.0</td>\n",
       "      <td>331.0</td>\n",
       "      <td>31.0</td>\n",
       "    </tr>\n",
       "    <tr>\n",
       "      <th>44</th>\n",
       "      <td>Quinn Cook</td>\n",
       "      <td>2017</td>\n",
       "      <td>2018</td>\n",
       "      <td>867391.5</td>\n",
       "      <td>24.0</td>\n",
       "      <td>14.0</td>\n",
       "      <td>9.0</td>\n",
       "      <td>5.0</td>\n",
       "      <td>187.0</td>\n",
       "      <td>-41.0</td>\n",
       "    </tr>\n",
       "    <tr>\n",
       "      <th>163</th>\n",
       "      <td>Christian Wood</td>\n",
       "      <td>2016</td>\n",
       "      <td>2017</td>\n",
       "      <td>874636.0</td>\n",
       "      <td>20.0</td>\n",
       "      <td>17.0</td>\n",
       "      <td>0.0</td>\n",
       "      <td>17.0</td>\n",
       "      <td>145.0</td>\n",
       "      <td>-49.0</td>\n",
       "    </tr>\n",
       "    <tr>\n",
       "      <th>134</th>\n",
       "      <td>Justin Holiday</td>\n",
       "      <td>2015</td>\n",
       "      <td>2016</td>\n",
       "      <td>981486.0</td>\n",
       "      <td>26.0</td>\n",
       "      <td>59.0</td>\n",
       "      <td>49.0</td>\n",
       "      <td>10.0</td>\n",
       "      <td>657.0</td>\n",
       "      <td>-13.0</td>\n",
       "    </tr>\n",
       "    <tr>\n",
       "      <th>133</th>\n",
       "      <td>E'Twaun Moore</td>\n",
       "      <td>2014</td>\n",
       "      <td>2015</td>\n",
       "      <td>981792.0</td>\n",
       "      <td>25.0</td>\n",
       "      <td>79.0</td>\n",
       "      <td>22.0</td>\n",
       "      <td>57.0</td>\n",
       "      <td>1506.0</td>\n",
       "      <td>-147.0</td>\n",
       "    </tr>\n",
       "  </tbody>\n",
       "</table>\n",
       "</div>"
      ],
      "text/plain": [
       "               NAME  CONTRACT_START  CONTRACT_END  AVG_SALARY   AGE    GP  \\\n",
       "30    E'Twaun Moore            2012          2013    823244.0  23.0  38.0   \n",
       "44       Quinn Cook            2017          2018    867391.5  24.0  14.0   \n",
       "163  Christian Wood            2016          2017    874636.0  20.0  17.0   \n",
       "134  Justin Holiday            2015          2016    981486.0  26.0  59.0   \n",
       "133   E'Twaun Moore            2014          2015    981792.0  25.0  79.0   \n",
       "\n",
       "        W     L     MIN    +/-  \n",
       "30   24.0  14.0   331.0   31.0  \n",
       "44    9.0   5.0   187.0  -41.0  \n",
       "163   0.0  17.0   145.0  -49.0  \n",
       "134  49.0  10.0   657.0  -13.0  \n",
       "133  22.0  57.0  1506.0 -147.0  "
      ]
     },
     "execution_count": 6,
     "metadata": {},
     "output_type": "execute_result"
    }
   ],
   "source": [
    "nba.sort_values(by=['AVG_SALARY']).head()"
   ]
  },
  {
   "cell_type": "markdown",
   "id": "69631266",
   "metadata": {},
   "source": [
    "Podemos notar que, en general, los jugadores peores pagados poseen menos minutos jugados y peor métrica de la columna \"+/-\", que hace referencia a lo que aporta un jugador a su equipo. También, los jugadores más jovenes pareciera que ganan menos que los experimentados. Analizando la correlación de las variables nos podemos encontrar que lo siguiente:"
   ]
  },
  {
   "cell_type": "code",
   "execution_count": 7,
   "id": "bd39edbc",
   "metadata": {},
   "outputs": [
    {
     "data": {
      "text/html": [
       "<div>\n",
       "<style scoped>\n",
       "    .dataframe tbody tr th:only-of-type {\n",
       "        vertical-align: middle;\n",
       "    }\n",
       "\n",
       "    .dataframe tbody tr th {\n",
       "        vertical-align: top;\n",
       "    }\n",
       "\n",
       "    .dataframe thead th {\n",
       "        text-align: right;\n",
       "    }\n",
       "</style>\n",
       "<table border=\"1\" class=\"dataframe\">\n",
       "  <thead>\n",
       "    <tr style=\"text-align: right;\">\n",
       "      <th></th>\n",
       "      <th>AVG_SALARY</th>\n",
       "      <th>AGE</th>\n",
       "      <th>GP</th>\n",
       "      <th>W</th>\n",
       "      <th>L</th>\n",
       "      <th>MIN</th>\n",
       "      <th>+/-</th>\n",
       "    </tr>\n",
       "  </thead>\n",
       "  <tbody>\n",
       "    <tr>\n",
       "      <th>AVG_SALARY</th>\n",
       "      <td>1.000000</td>\n",
       "      <td>0.163384</td>\n",
       "      <td>0.321118</td>\n",
       "      <td>0.440450</td>\n",
       "      <td>-0.011722</td>\n",
       "      <td>0.650799</td>\n",
       "      <td>0.511799</td>\n",
       "    </tr>\n",
       "    <tr>\n",
       "      <th>AGE</th>\n",
       "      <td>0.163384</td>\n",
       "      <td>1.000000</td>\n",
       "      <td>0.187314</td>\n",
       "      <td>0.192270</td>\n",
       "      <td>0.065215</td>\n",
       "      <td>0.218862</td>\n",
       "      <td>0.118044</td>\n",
       "    </tr>\n",
       "    <tr>\n",
       "      <th>GP</th>\n",
       "      <td>0.321118</td>\n",
       "      <td>0.187314</td>\n",
       "      <td>1.000000</td>\n",
       "      <td>0.742204</td>\n",
       "      <td>0.664951</td>\n",
       "      <td>0.789263</td>\n",
       "      <td>0.165053</td>\n",
       "    </tr>\n",
       "    <tr>\n",
       "      <th>W</th>\n",
       "      <td>0.440450</td>\n",
       "      <td>0.192270</td>\n",
       "      <td>0.742204</td>\n",
       "      <td>1.000000</td>\n",
       "      <td>-0.007015</td>\n",
       "      <td>0.618043</td>\n",
       "      <td>0.659790</td>\n",
       "    </tr>\n",
       "    <tr>\n",
       "      <th>L</th>\n",
       "      <td>-0.011722</td>\n",
       "      <td>0.065215</td>\n",
       "      <td>0.664951</td>\n",
       "      <td>-0.007015</td>\n",
       "      <td>1.000000</td>\n",
       "      <td>0.488881</td>\n",
       "      <td>-0.489038</td>\n",
       "    </tr>\n",
       "    <tr>\n",
       "      <th>MIN</th>\n",
       "      <td>0.650799</td>\n",
       "      <td>0.218862</td>\n",
       "      <td>0.789263</td>\n",
       "      <td>0.618043</td>\n",
       "      <td>0.488881</td>\n",
       "      <td>1.000000</td>\n",
       "      <td>0.331420</td>\n",
       "    </tr>\n",
       "    <tr>\n",
       "      <th>+/-</th>\n",
       "      <td>0.511799</td>\n",
       "      <td>0.118044</td>\n",
       "      <td>0.165053</td>\n",
       "      <td>0.659790</td>\n",
       "      <td>-0.489038</td>\n",
       "      <td>0.331420</td>\n",
       "      <td>1.000000</td>\n",
       "    </tr>\n",
       "  </tbody>\n",
       "</table>\n",
       "</div>"
      ],
      "text/plain": [
       "            AVG_SALARY       AGE        GP         W         L       MIN  \\\n",
       "AVG_SALARY    1.000000  0.163384  0.321118  0.440450 -0.011722  0.650799   \n",
       "AGE           0.163384  1.000000  0.187314  0.192270  0.065215  0.218862   \n",
       "GP            0.321118  0.187314  1.000000  0.742204  0.664951  0.789263   \n",
       "W             0.440450  0.192270  0.742204  1.000000 -0.007015  0.618043   \n",
       "L            -0.011722  0.065215  0.664951 -0.007015  1.000000  0.488881   \n",
       "MIN           0.650799  0.218862  0.789263  0.618043  0.488881  1.000000   \n",
       "+/-           0.511799  0.118044  0.165053  0.659790 -0.489038  0.331420   \n",
       "\n",
       "                 +/-  \n",
       "AVG_SALARY  0.511799  \n",
       "AGE         0.118044  \n",
       "GP          0.165053  \n",
       "W           0.659790  \n",
       "L          -0.489038  \n",
       "MIN         0.331420  \n",
       "+/-         1.000000  "
      ]
     },
     "execution_count": 7,
     "metadata": {},
     "output_type": "execute_result"
    }
   ],
   "source": [
    "nba[['NAME', 'AVG_SALARY', 'AGE', 'GP','W', 'L', 'MIN', '+/-']].corr()"
   ]
  },
  {
   "cell_type": "code",
   "execution_count": 8,
   "id": "f1ae6fd0",
   "metadata": {},
   "outputs": [
    {
     "data": {
      "text/plain": [
       "0.6507994303846676"
      ]
     },
     "execution_count": 8,
     "metadata": {},
     "output_type": "execute_result"
    }
   ],
   "source": [
    "nba[['NAME', 'AVG_SALARY', 'AGE', 'GP','W', 'L', 'MIN', '+/-']].corr()['AVG_SALARY']['MIN']"
   ]
  },
  {
   "cell_type": "code",
   "execution_count": 9,
   "id": "fdba7141",
   "metadata": {},
   "outputs": [
    {
     "data": {
      "image/png": "[encoded data removed]",
      "text/plain": [
       "<Figure size 576x432 with 2 Axes>"
      ]
     },
     "metadata": {
      "needs_background": "light"
     },
     "output_type": "display_data"
    }
   ],
   "source": [
    "corr_df = nba[['NAME', 'AVG_SALARY', 'AGE', 'GP','W', 'L', 'MIN', '+/-']].corr()\n",
    "plt.figure(figsize=(8, 6))\n",
    "sns.heatmap(corr_df, annot=True)\n",
    "plt.show()"
   ]
  },
  {
   "cell_type": "markdown",
   "id": "06b10c16",
   "metadata": {},
   "source": [
    "## Covarianza"
   ]
  },
  {
   "cell_type": "code",
   "execution_count": 10,
   "id": "b016728b",
   "metadata": {},
   "outputs": [
    {
     "data": {
      "text/plain": [
       "count    1.980000e+02\n",
       "mean     1.112516e+07\n",
       "std      7.884209e+06\n",
       "min      8.232440e+05\n",
       "25%      4.767000e+06\n",
       "50%      9.553750e+06\n",
       "75%      1.639436e+07\n",
       "max      3.359950e+07\n",
       "Name: AVG_SALARY, dtype: float64"
      ]
     },
     "execution_count": 10,
     "metadata": {},
     "output_type": "execute_result"
    }
   ],
   "source": [
    "nba['AVG_SALARY'].describe()"
   ]
  },
  {
   "cell_type": "code",
   "execution_count": 11,
   "id": "442a4ef4",
   "metadata": {},
   "outputs": [
    {
     "data": {
      "text/html": [
       "<div>\n",
       "<style scoped>\n",
       "    .dataframe tbody tr th:only-of-type {\n",
       "        vertical-align: middle;\n",
       "    }\n",
       "\n",
       "    .dataframe tbody tr th {\n",
       "        vertical-align: top;\n",
       "    }\n",
       "\n",
       "    .dataframe thead th {\n",
       "        text-align: right;\n",
       "    }\n",
       "</style>\n",
       "<table border=\"1\" class=\"dataframe\">\n",
       "  <thead>\n",
       "    <tr style=\"text-align: right;\">\n",
       "      <th></th>\n",
       "      <th>AVG_SALARY</th>\n",
       "      <th>AGE</th>\n",
       "      <th>GP</th>\n",
       "      <th>W</th>\n",
       "      <th>L</th>\n",
       "      <th>MIN</th>\n",
       "      <th>+/-</th>\n",
       "    </tr>\n",
       "  </thead>\n",
       "  <tbody>\n",
       "    <tr>\n",
       "      <th>AVG_SALARY</th>\n",
       "      <td>6.216075e+13</td>\n",
       "      <td>3.666938e+06</td>\n",
       "      <td>4.884634e+07</td>\n",
       "      <td>5.004138e+07</td>\n",
       "      <td>-1.195043e+06</td>\n",
       "      <td>3.983955e+09</td>\n",
       "      <td>9.205679e+08</td>\n",
       "    </tr>\n",
       "    <tr>\n",
       "      <th>AGE</th>\n",
       "      <td>3.666938e+06</td>\n",
       "      <td>8.103497e+00</td>\n",
       "      <td>1.028765e+01</td>\n",
       "      <td>7.887197e+00</td>\n",
       "      <td>2.400451e+00</td>\n",
       "      <td>4.837437e+02</td>\n",
       "      <td>7.666187e+01</td>\n",
       "    </tr>\n",
       "    <tr>\n",
       "      <th>GP</th>\n",
       "      <td>4.884634e+07</td>\n",
       "      <td>1.028765e+01</td>\n",
       "      <td>3.722353e+02</td>\n",
       "      <td>2.063510e+02</td>\n",
       "      <td>1.658843e+02</td>\n",
       "      <td>1.182332e+04</td>\n",
       "      <td>7.264898e+02</td>\n",
       "    </tr>\n",
       "    <tr>\n",
       "      <th>W</th>\n",
       "      <td>5.004138e+07</td>\n",
       "      <td>7.887197e+00</td>\n",
       "      <td>2.063510e+02</td>\n",
       "      <td>2.076581e+02</td>\n",
       "      <td>-1.307081e+00</td>\n",
       "      <td>6.915159e+03</td>\n",
       "      <td>2.169096e+03</td>\n",
       "    </tr>\n",
       "    <tr>\n",
       "      <th>L</th>\n",
       "      <td>-1.195043e+06</td>\n",
       "      <td>2.400451e+00</td>\n",
       "      <td>1.658843e+02</td>\n",
       "      <td>-1.307081e+00</td>\n",
       "      <td>1.671914e+02</td>\n",
       "      <td>4.908163e+03</td>\n",
       "      <td>-1.442606e+03</td>\n",
       "    </tr>\n",
       "    <tr>\n",
       "      <th>MIN</th>\n",
       "      <td>3.983955e+09</td>\n",
       "      <td>4.837437e+02</td>\n",
       "      <td>1.182332e+04</td>\n",
       "      <td>6.915159e+03</td>\n",
       "      <td>4.908163e+03</td>\n",
       "      <td>6.028625e+05</td>\n",
       "      <td>5.870643e+04</td>\n",
       "    </tr>\n",
       "    <tr>\n",
       "      <th>+/-</th>\n",
       "      <td>9.205679e+08</td>\n",
       "      <td>7.666187e+01</td>\n",
       "      <td>7.264898e+02</td>\n",
       "      <td>2.169096e+03</td>\n",
       "      <td>-1.442606e+03</td>\n",
       "      <td>5.870643e+04</td>\n",
       "      <td>5.204709e+04</td>\n",
       "    </tr>\n",
       "  </tbody>\n",
       "</table>\n",
       "</div>"
      ],
      "text/plain": [
       "              AVG_SALARY           AGE            GP             W  \\\n",
       "AVG_SALARY  6.216075e+13  3.666938e+06  4.884634e+07  5.004138e+07   \n",
       "AGE         3.666938e+06  8.103497e+00  1.028765e+01  7.887197e+00   \n",
       "GP          4.884634e+07  1.028765e+01  3.722353e+02  2.063510e+02   \n",
       "W           5.004138e+07  7.887197e+00  2.063510e+02  2.076581e+02   \n",
       "L          -1.195043e+06  2.400451e+00  1.658843e+02 -1.307081e+00   \n",
       "MIN         3.983955e+09  4.837437e+02  1.182332e+04  6.915159e+03   \n",
       "+/-         9.205679e+08  7.666187e+01  7.264898e+02  2.169096e+03   \n",
       "\n",
       "                       L           MIN           +/-  \n",
       "AVG_SALARY -1.195043e+06  3.983955e+09  9.205679e+08  \n",
       "AGE         2.400451e+00  4.837437e+02  7.666187e+01  \n",
       "GP          1.658843e+02  1.182332e+04  7.264898e+02  \n",
       "W          -1.307081e+00  6.915159e+03  2.169096e+03  \n",
       "L           1.671914e+02  4.908163e+03 -1.442606e+03  \n",
       "MIN         4.908163e+03  6.028625e+05  5.870643e+04  \n",
       "+/-        -1.442606e+03  5.870643e+04  5.204709e+04  "
      ]
     },
     "execution_count": 11,
     "metadata": {},
     "output_type": "execute_result"
    }
   ],
   "source": [
    "nba[['NAME', 'AVG_SALARY', 'AGE', 'GP','W', 'L', 'MIN', '+/-']].cov()"
   ]
  },
  {
   "cell_type": "code",
   "execution_count": 12,
   "id": "36e16405",
   "metadata": {},
   "outputs": [
    {
     "data": {
      "text/plain": [
       "3983954974.189517"
      ]
     },
     "execution_count": 12,
     "metadata": {},
     "output_type": "execute_result"
    }
   ],
   "source": [
    "nba2 = nba[['NAME', 'AVG_SALARY', 'AGE', 'GP','W', 'L', 'MIN', '+/-']]\n",
    "nba2['AVG_SALARY'].cov(nba2['MIN'])"
   ]
  },
  {
   "cell_type": "markdown",
   "id": "66f3c2c8",
   "metadata": {},
   "source": [
    "## Tema 4\n",
    "Coloca un cuarto punto que corresponda a tablas de frecuencia. Y como ejemplo coloca en las columnas la edad (en intervalos) y en las filas el salario (en intervalos)… en la matriz va la cantidad de jugadores que calzan en la combinación (salario,edad)…."
   ]
  },
  {
   "cell_type": "code",
   "execution_count": 13,
   "id": "c12b8f44",
   "metadata": {},
   "outputs": [
    {
     "data": {
      "text/plain": [
       "count    1.980000e+02\n",
       "mean     1.112516e+07\n",
       "std      7.884209e+06\n",
       "min      8.232440e+05\n",
       "25%      4.767000e+06\n",
       "50%      9.553750e+06\n",
       "75%      1.639436e+07\n",
       "max      3.359950e+07\n",
       "Name: AVG_SALARY, dtype: float64"
      ]
     },
     "execution_count": 13,
     "metadata": {},
     "output_type": "execute_result"
    }
   ],
   "source": [
    "nba['AVG_SALARY'].describe()"
   ]
  },
  {
   "cell_type": "code",
   "execution_count": 14,
   "id": "af2eaa20",
   "metadata": {},
   "outputs": [
    {
     "data": {
      "text/plain": [
       "count    198.000000\n",
       "mean      25.944444\n",
       "std        2.846664\n",
       "min       20.000000\n",
       "25%       24.000000\n",
       "50%       25.000000\n",
       "75%       28.000000\n",
       "max       36.000000\n",
       "Name: AGE, dtype: float64"
      ]
     },
     "execution_count": 14,
     "metadata": {},
     "output_type": "execute_result"
    }
   ],
   "source": [
    "nba['AGE'].describe()"
   ]
  },
  {
   "cell_type": "code",
   "execution_count": 15,
   "id": "7470702b",
   "metadata": {},
   "outputs": [],
   "source": [
    "def salarios(salario):\n",
    "    if (salario<=4767000):\n",
    "        return '1'\n",
    "    elif(salario<=9553750):\n",
    "        return '2'\n",
    "    elif (salario<=16394360):\n",
    "        return '3'\n",
    "    elif (salario<=33599500):\n",
    "        return '4'\n",
    "def edades(edad):\n",
    "    if (edad<=22):\n",
    "        return '1'\n",
    "    elif(edad<=25):\n",
    "        return '2'\n",
    "    elif (edad<=30):\n",
    "        return '3'\n",
    "    elif (edad<=36):\n",
    "        return '4'\n",
    "nba['Clasif salario'] = nba['AVG_SALARY'].apply(salarios)\n",
    "nba['Clasif edad'] = nba['AGE'].apply(edades)\n"
   ]
  },
  {
   "cell_type": "code",
   "execution_count": 16,
   "id": "ef2d09af",
   "metadata": {},
   "outputs": [
    {
     "data": {
      "text/html": [
       "<div>\n",
       "<style scoped>\n",
       "    .dataframe tbody tr th:only-of-type {\n",
       "        vertical-align: middle;\n",
       "    }\n",
       "\n",
       "    .dataframe tbody tr th {\n",
       "        vertical-align: top;\n",
       "    }\n",
       "\n",
       "    .dataframe thead th {\n",
       "        text-align: right;\n",
       "    }\n",
       "</style>\n",
       "<table border=\"1\" class=\"dataframe\">\n",
       "  <thead>\n",
       "    <tr style=\"text-align: right;\">\n",
       "      <th>Clasif edad</th>\n",
       "      <th>1</th>\n",
       "      <th>2</th>\n",
       "      <th>3</th>\n",
       "      <th>4</th>\n",
       "    </tr>\n",
       "    <tr>\n",
       "      <th>Clasif salario</th>\n",
       "      <th></th>\n",
       "      <th></th>\n",
       "      <th></th>\n",
       "      <th></th>\n",
       "    </tr>\n",
       "  </thead>\n",
       "  <tbody>\n",
       "    <tr>\n",
       "      <th>1</th>\n",
       "      <td>6</td>\n",
       "      <td>22</td>\n",
       "      <td>18</td>\n",
       "      <td>5</td>\n",
       "    </tr>\n",
       "    <tr>\n",
       "      <th>2</th>\n",
       "      <td>1</td>\n",
       "      <td>24</td>\n",
       "      <td>18</td>\n",
       "      <td>5</td>\n",
       "    </tr>\n",
       "    <tr>\n",
       "      <th>3</th>\n",
       "      <td>4</td>\n",
       "      <td>28</td>\n",
       "      <td>14</td>\n",
       "      <td>3</td>\n",
       "    </tr>\n",
       "    <tr>\n",
       "      <th>4</th>\n",
       "      <td>1</td>\n",
       "      <td>17</td>\n",
       "      <td>29</td>\n",
       "      <td>3</td>\n",
       "    </tr>\n",
       "  </tbody>\n",
       "</table>\n",
       "</div>"
      ],
      "text/plain": [
       "Clasif edad     1   2   3  4\n",
       "Clasif salario              \n",
       "1               6  22  18  5\n",
       "2               1  24  18  5\n",
       "3               4  28  14  3\n",
       "4               1  17  29  3"
      ]
     },
     "execution_count": 16,
     "metadata": {},
     "output_type": "execute_result"
    }
   ],
   "source": [
    "tabla_frecuencia = pd.crosstab(index = nba[\"Clasif salario\"], columns = nba[\"Clasif edad\"])\n",
    "tabla_frecuencia"
   ]
  },
  {
   "cell_type": "code",
   "execution_count": 17,
   "id": "5ce3c288",
   "metadata": {},
   "outputs": [],
   "source": [
    "tabla_frecuencia = tabla_frecuencia.set_axis(['[823244-4767000]','[4767001-9553750]',\n",
    "                '[9553751-16394360]','[16394361-33599500]'], axis='index').set_axis(['[20-22]'\n",
    "                ,'[23-25]','[26-30]','[31-36]'],axis='columns')"
   ]
  },
  {
   "cell_type": "code",
   "execution_count": 18,
   "id": "f8f7edd5",
   "metadata": {},
   "outputs": [
    {
     "data": {
      "text/html": [
       "<div>\n",
       "<style scoped>\n",
       "    .dataframe tbody tr th:only-of-type {\n",
       "        vertical-align: middle;\n",
       "    }\n",
       "\n",
       "    .dataframe tbody tr th {\n",
       "        vertical-align: top;\n",
       "    }\n",
       "\n",
       "    .dataframe thead th {\n",
       "        text-align: right;\n",
       "    }\n",
       "</style>\n",
       "<table border=\"1\" class=\"dataframe\">\n",
       "  <thead>\n",
       "    <tr style=\"text-align: right;\">\n",
       "      <th></th>\n",
       "      <th>[20-22]</th>\n",
       "      <th>[23-25]</th>\n",
       "      <th>[26-30]</th>\n",
       "      <th>[31-36]</th>\n",
       "    </tr>\n",
       "  </thead>\n",
       "  <tbody>\n",
       "    <tr>\n",
       "      <th>[823244-4767000]</th>\n",
       "      <td>6</td>\n",
       "      <td>22</td>\n",
       "      <td>18</td>\n",
       "      <td>5</td>\n",
       "    </tr>\n",
       "    <tr>\n",
       "      <th>[4767001-9553750]</th>\n",
       "      <td>1</td>\n",
       "      <td>24</td>\n",
       "      <td>18</td>\n",
       "      <td>5</td>\n",
       "    </tr>\n",
       "    <tr>\n",
       "      <th>[9553751-16394360]</th>\n",
       "      <td>4</td>\n",
       "      <td>28</td>\n",
       "      <td>14</td>\n",
       "      <td>3</td>\n",
       "    </tr>\n",
       "    <tr>\n",
       "      <th>[16394361-33599500]</th>\n",
       "      <td>1</td>\n",
       "      <td>17</td>\n",
       "      <td>29</td>\n",
       "      <td>3</td>\n",
       "    </tr>\n",
       "  </tbody>\n",
       "</table>\n",
       "</div>"
      ],
      "text/plain": [
       "                     [20-22]  [23-25]  [26-30]  [31-36]\n",
       "[823244-4767000]           6       22       18        5\n",
       "[4767001-9553750]          1       24       18        5\n",
       "[9553751-16394360]         4       28       14        3\n",
       "[16394361-33599500]        1       17       29        3"
      ]
     },
     "execution_count": 18,
     "metadata": {},
     "output_type": "execute_result"
    }
   ],
   "source": [
    "tabla_frecuencia"
   ]
  },
  {
   "cell_type": "markdown",
   "id": "477ef770",
   "metadata": {},
   "source": [
    "## Pregunta formativa 1"
   ]
  },
  {
   "cell_type": "markdown",
   "id": "835d6a47",
   "metadata": {},
   "source": [
    "Código para contar la cantidad de jugadores de más de 30 años que ganan más de 1MMUSD"
   ]
  },
  {
   "cell_type": "code",
   "execution_count": 19,
   "id": "a29e5123",
   "metadata": {},
   "outputs": [
    {
     "name": "stdout",
     "output_type": "stream",
     "text": [
      "La cantidad de jugadores mayores de 30 años que ganan más de 1MMUSD es:16\n"
     ]
    }
   ],
   "source": [
    "player_30 = nba.loc[(nba[\"AGE\"]>30)&(nba['AVG_SALARY']>1000000), \"NAME\"].count()\n",
    "print(f'La cantidad de jugadores mayores de 30 años que ganan más de 1MMUSD es:{player_30}')"
   ]
  },
  {
   "cell_type": "markdown",
   "id": "62932815",
   "metadata": {},
   "source": [
    "## Pregunta formativa 2 "
   ]
  },
  {
   "cell_type": "markdown",
   "id": "94750a26",
   "metadata": {},
   "source": [
    "Código para calcular la diferencia en el promedio de minutos jugados entre los jugadores que ganaron más de 50 partidos y los que ganaron menos de 30."
   ]
  },
  {
   "cell_type": "code",
   "execution_count": 20,
   "id": "47ea9ea6",
   "metadata": {},
   "outputs": [
    {
     "name": "stdout",
     "output_type": "stream",
     "text": [
      "La diferencia en el promedio de minutos jugados es de 838.098947368421\n"
     ]
    }
   ],
   "source": [
    "more_50 = nba[(nba['W']>50)]\n",
    "less_30 = nba[(nba['L']<30)]\n",
    "min_50 = more_50['MIN'].mean()\n",
    "min_30 = less_30['MIN'].mean()\n",
    "print(f'La diferencia en el promedio de minutos jugados es de {min_50-min_30}')"
   ]
  }
 ],
 "metadata": {
  "kernelspec": {
   "display_name": "Python 3 (ipykernel)",
   "language": "python",
   "name": "python3"
  },
  "language_info": {
   "codemirror_mode": {
    "name": "ipython",
    "version": 3
   },
   "file_extension": ".py",
   "mimetype": "text/x-python",
   "name": "python",
   "nbconvert_exporter": "python",
   "pygments_lexer": "ipython3",
   "version": "3.9.11"
  }
 },
 "nbformat": 4,
 "nbformat_minor": 5
}
