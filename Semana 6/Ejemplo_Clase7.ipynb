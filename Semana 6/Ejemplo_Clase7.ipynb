{
 "cells": [
  {
   "cell_type": "code",
   "execution_count": 1,
   "id": "eb2fa85c",
   "metadata": {},
   "outputs": [
    {
     "name": "stderr",
     "output_type": "stream",
     "text": [
      "/Users/Nico_7/.pyenv/versions/3.9.7/lib/python3.9/site-packages/pandas/compat/__init__.py:124: UserWarning: Could not import the lzma module. Your installed Python is incomplete. Attempting to use lzma compression will result in a RuntimeError.\n",
      "  warnings.warn(msg)\n"
     ]
    }
   ],
   "source": [
    "import pandas as pd"
   ]
  },
  {
   "cell_type": "markdown",
   "id": "793f949c",
   "metadata": {},
   "source": [
    "Revisaremos los valores faltantes:"
   ]
  },
  {
   "cell_type": "code",
   "execution_count": 2,
   "id": "5177fc4f",
   "metadata": {},
   "outputs": [
    {
     "data": {
      "text/html": [
       "<div>\n",
       "<style scoped>\n",
       "    .dataframe tbody tr th:only-of-type {\n",
       "        vertical-align: middle;\n",
       "    }\n",
       "\n",
       "    .dataframe tbody tr th {\n",
       "        vertical-align: top;\n",
       "    }\n",
       "\n",
       "    .dataframe thead th {\n",
       "        text-align: right;\n",
       "    }\n",
       "</style>\n",
       "<table border=\"1\" class=\"dataframe\">\n",
       "  <thead>\n",
       "    <tr style=\"text-align: right;\">\n",
       "      <th></th>\n",
       "      <th>color</th>\n",
       "      <th>director_name</th>\n",
       "      <th>num_critic_for_reviews</th>\n",
       "      <th>duration</th>\n",
       "      <th>director_facebook_likes</th>\n",
       "      <th>actor_3_facebook_likes</th>\n",
       "      <th>actor_2_name</th>\n",
       "      <th>actor_1_facebook_likes</th>\n",
       "      <th>gross</th>\n",
       "      <th>genres</th>\n",
       "      <th>...</th>\n",
       "      <th>num_user_for_reviews</th>\n",
       "      <th>language</th>\n",
       "      <th>country</th>\n",
       "      <th>content_rating</th>\n",
       "      <th>budget</th>\n",
       "      <th>title_year</th>\n",
       "      <th>actor_2_facebook_likes</th>\n",
       "      <th>imdb_score</th>\n",
       "      <th>aspect_ratio</th>\n",
       "      <th>movie_facebook_likes</th>\n",
       "    </tr>\n",
       "  </thead>\n",
       "  <tbody>\n",
       "    <tr>\n",
       "      <th>0</th>\n",
       "      <td>Color</td>\n",
       "      <td>James Cameron</td>\n",
       "      <td>723.0</td>\n",
       "      <td>178.0</td>\n",
       "      <td>0.0</td>\n",
       "      <td>855.0</td>\n",
       "      <td>Joel David Moore</td>\n",
       "      <td>1000.0</td>\n",
       "      <td>760505847.0</td>\n",
       "      <td>Action|Adventure|Fantasy|Sci-Fi</td>\n",
       "      <td>...</td>\n",
       "      <td>3054.0</td>\n",
       "      <td>English</td>\n",
       "      <td>USA</td>\n",
       "      <td>PG-13</td>\n",
       "      <td>237000000.0</td>\n",
       "      <td>2009.0</td>\n",
       "      <td>936.0</td>\n",
       "      <td>7.9</td>\n",
       "      <td>1.78</td>\n",
       "      <td>33000</td>\n",
       "    </tr>\n",
       "    <tr>\n",
       "      <th>1</th>\n",
       "      <td>Color</td>\n",
       "      <td>Gore Verbinski</td>\n",
       "      <td>302.0</td>\n",
       "      <td>169.0</td>\n",
       "      <td>563.0</td>\n",
       "      <td>1000.0</td>\n",
       "      <td>Orlando Bloom</td>\n",
       "      <td>40000.0</td>\n",
       "      <td>309404152.0</td>\n",
       "      <td>Action|Adventure|Fantasy</td>\n",
       "      <td>...</td>\n",
       "      <td>1238.0</td>\n",
       "      <td>English</td>\n",
       "      <td>USA</td>\n",
       "      <td>PG-13</td>\n",
       "      <td>300000000.0</td>\n",
       "      <td>2007.0</td>\n",
       "      <td>5000.0</td>\n",
       "      <td>7.1</td>\n",
       "      <td>2.35</td>\n",
       "      <td>0</td>\n",
       "    </tr>\n",
       "    <tr>\n",
       "      <th>2</th>\n",
       "      <td>Color</td>\n",
       "      <td>Sam Mendes</td>\n",
       "      <td>602.0</td>\n",
       "      <td>148.0</td>\n",
       "      <td>0.0</td>\n",
       "      <td>161.0</td>\n",
       "      <td>Rory Kinnear</td>\n",
       "      <td>11000.0</td>\n",
       "      <td>200074175.0</td>\n",
       "      <td>Action|Adventure|Thriller</td>\n",
       "      <td>...</td>\n",
       "      <td>994.0</td>\n",
       "      <td>English</td>\n",
       "      <td>UK</td>\n",
       "      <td>PG-13</td>\n",
       "      <td>245000000.0</td>\n",
       "      <td>2015.0</td>\n",
       "      <td>393.0</td>\n",
       "      <td>6.8</td>\n",
       "      <td>2.35</td>\n",
       "      <td>85000</td>\n",
       "    </tr>\n",
       "    <tr>\n",
       "      <th>3</th>\n",
       "      <td>Color</td>\n",
       "      <td>Christopher Nolan</td>\n",
       "      <td>813.0</td>\n",
       "      <td>164.0</td>\n",
       "      <td>22000.0</td>\n",
       "      <td>23000.0</td>\n",
       "      <td>Christian Bale</td>\n",
       "      <td>27000.0</td>\n",
       "      <td>448130642.0</td>\n",
       "      <td>Action|Thriller</td>\n",
       "      <td>...</td>\n",
       "      <td>2701.0</td>\n",
       "      <td>English</td>\n",
       "      <td>USA</td>\n",
       "      <td>PG-13</td>\n",
       "      <td>250000000.0</td>\n",
       "      <td>2012.0</td>\n",
       "      <td>23000.0</td>\n",
       "      <td>8.5</td>\n",
       "      <td>2.35</td>\n",
       "      <td>164000</td>\n",
       "    </tr>\n",
       "    <tr>\n",
       "      <th>4</th>\n",
       "      <td>NaN</td>\n",
       "      <td>Doug Walker</td>\n",
       "      <td>NaN</td>\n",
       "      <td>NaN</td>\n",
       "      <td>131.0</td>\n",
       "      <td>NaN</td>\n",
       "      <td>Rob Walker</td>\n",
       "      <td>131.0</td>\n",
       "      <td>NaN</td>\n",
       "      <td>Documentary</td>\n",
       "      <td>...</td>\n",
       "      <td>NaN</td>\n",
       "      <td>NaN</td>\n",
       "      <td>NaN</td>\n",
       "      <td>NaN</td>\n",
       "      <td>NaN</td>\n",
       "      <td>NaN</td>\n",
       "      <td>12.0</td>\n",
       "      <td>7.1</td>\n",
       "      <td>NaN</td>\n",
       "      <td>0</td>\n",
       "    </tr>\n",
       "  </tbody>\n",
       "</table>\n",
       "<p>5 rows × 28 columns</p>\n",
       "</div>"
      ],
      "text/plain": [
       "   color      director_name  num_critic_for_reviews  duration  \\\n",
       "0  Color      James Cameron                   723.0     178.0   \n",
       "1  Color     Gore Verbinski                   302.0     169.0   \n",
       "2  Color         Sam Mendes                   602.0     148.0   \n",
       "3  Color  Christopher Nolan                   813.0     164.0   \n",
       "4    NaN        Doug Walker                     NaN       NaN   \n",
       "\n",
       "   director_facebook_likes  actor_3_facebook_likes      actor_2_name  \\\n",
       "0                      0.0                   855.0  Joel David Moore   \n",
       "1                    563.0                  1000.0     Orlando Bloom   \n",
       "2                      0.0                   161.0      Rory Kinnear   \n",
       "3                  22000.0                 23000.0    Christian Bale   \n",
       "4                    131.0                     NaN        Rob Walker   \n",
       "\n",
       "   actor_1_facebook_likes        gross                           genres  ...  \\\n",
       "0                  1000.0  760505847.0  Action|Adventure|Fantasy|Sci-Fi  ...   \n",
       "1                 40000.0  309404152.0         Action|Adventure|Fantasy  ...   \n",
       "2                 11000.0  200074175.0        Action|Adventure|Thriller  ...   \n",
       "3                 27000.0  448130642.0                  Action|Thriller  ...   \n",
       "4                   131.0          NaN                      Documentary  ...   \n",
       "\n",
       "  num_user_for_reviews language  country  content_rating       budget  \\\n",
       "0               3054.0  English      USA           PG-13  237000000.0   \n",
       "1               1238.0  English      USA           PG-13  300000000.0   \n",
       "2                994.0  English       UK           PG-13  245000000.0   \n",
       "3               2701.0  English      USA           PG-13  250000000.0   \n",
       "4                  NaN      NaN      NaN             NaN          NaN   \n",
       "\n",
       "   title_year actor_2_facebook_likes imdb_score  aspect_ratio  \\\n",
       "0      2009.0                  936.0        7.9          1.78   \n",
       "1      2007.0                 5000.0        7.1          2.35   \n",
       "2      2015.0                  393.0        6.8          2.35   \n",
       "3      2012.0                23000.0        8.5          2.35   \n",
       "4         NaN                   12.0        7.1           NaN   \n",
       "\n",
       "  movie_facebook_likes  \n",
       "0                33000  \n",
       "1                    0  \n",
       "2                85000  \n",
       "3               164000  \n",
       "4                    0  \n",
       "\n",
       "[5 rows x 28 columns]"
      ]
     },
     "execution_count": 2,
     "metadata": {},
     "output_type": "execute_result"
    }
   ],
   "source": [
    "df1 = pd.read_csv('movie_metadata.csv')\n",
    "df1.head()"
   ]
  },
  {
   "cell_type": "markdown",
   "id": "80aa67f1",
   "metadata": {},
   "source": [
    "Nos podría interesar, por ejemplo, estudiar las peliculas más exitosas."
   ]
  },
  {
   "cell_type": "code",
   "execution_count": 3,
   "id": "f41f0a1c",
   "metadata": {},
   "outputs": [
    {
     "data": {
      "text/plain": [
       "Index(['color', 'director_name', 'num_critic_for_reviews', 'duration',\n",
       "       'director_facebook_likes', 'actor_3_facebook_likes', 'actor_2_name',\n",
       "       'actor_1_facebook_likes', 'gross', 'genres', 'actor_1_name',\n",
       "       'movie_title', 'num_voted_users', 'cast_total_facebook_likes',\n",
       "       'actor_3_name', 'facenumber_in_poster', 'plot_keywords',\n",
       "       'movie_imdb_link', 'num_user_for_reviews', 'language', 'country',\n",
       "       'content_rating', 'budget', 'title_year', 'actor_2_facebook_likes',\n",
       "       'imdb_score', 'aspect_ratio', 'movie_facebook_likes'],\n",
       "      dtype='object')"
      ]
     },
     "execution_count": 3,
     "metadata": {},
     "output_type": "execute_result"
    }
   ],
   "source": [
    "df1.columns"
   ]
  },
  {
   "cell_type": "markdown",
   "id": "aeae476d",
   "metadata": {},
   "source": [
    "Seleccionaremos las siguientes columnas, pasando de 28 a 11."
   ]
  },
  {
   "cell_type": "code",
   "execution_count": 4,
   "id": "ba1aea3c",
   "metadata": {},
   "outputs": [
    {
     "data": {
      "text/html": [
       "<div>\n",
       "<style scoped>\n",
       "    .dataframe tbody tr th:only-of-type {\n",
       "        vertical-align: middle;\n",
       "    }\n",
       "\n",
       "    .dataframe tbody tr th {\n",
       "        vertical-align: top;\n",
       "    }\n",
       "\n",
       "    .dataframe thead th {\n",
       "        text-align: right;\n",
       "    }\n",
       "</style>\n",
       "<table border=\"1\" class=\"dataframe\">\n",
       "  <thead>\n",
       "    <tr style=\"text-align: right;\">\n",
       "      <th></th>\n",
       "      <th>movie_title</th>\n",
       "      <th>title_year</th>\n",
       "      <th>language</th>\n",
       "      <th>genres</th>\n",
       "      <th>duration</th>\n",
       "      <th>gross</th>\n",
       "      <th>movie_facebook_likes</th>\n",
       "      <th>director_name</th>\n",
       "      <th>country</th>\n",
       "      <th>actor_1_name</th>\n",
       "      <th>actor_2_name</th>\n",
       "      <th>actor_3_name</th>\n",
       "    </tr>\n",
       "  </thead>\n",
       "  <tbody>\n",
       "    <tr>\n",
       "      <th>0</th>\n",
       "      <td>Avatar</td>\n",
       "      <td>2009.0</td>\n",
       "      <td>English</td>\n",
       "      <td>Action|Adventure|Fantasy|Sci-Fi</td>\n",
       "      <td>178.0</td>\n",
       "      <td>760505847.0</td>\n",
       "      <td>33000</td>\n",
       "      <td>James Cameron</td>\n",
       "      <td>USA</td>\n",
       "      <td>CCH Pounder</td>\n",
       "      <td>Joel David Moore</td>\n",
       "      <td>Wes Studi</td>\n",
       "    </tr>\n",
       "    <tr>\n",
       "      <th>1</th>\n",
       "      <td>Pirates of the Caribbean: At World's End</td>\n",
       "      <td>2007.0</td>\n",
       "      <td>English</td>\n",
       "      <td>Action|Adventure|Fantasy</td>\n",
       "      <td>169.0</td>\n",
       "      <td>309404152.0</td>\n",
       "      <td>0</td>\n",
       "      <td>Gore Verbinski</td>\n",
       "      <td>USA</td>\n",
       "      <td>Johnny Depp</td>\n",
       "      <td>Orlando Bloom</td>\n",
       "      <td>Jack Davenport</td>\n",
       "    </tr>\n",
       "    <tr>\n",
       "      <th>2</th>\n",
       "      <td>Spectre</td>\n",
       "      <td>2015.0</td>\n",
       "      <td>English</td>\n",
       "      <td>Action|Adventure|Thriller</td>\n",
       "      <td>148.0</td>\n",
       "      <td>200074175.0</td>\n",
       "      <td>85000</td>\n",
       "      <td>Sam Mendes</td>\n",
       "      <td>UK</td>\n",
       "      <td>Christoph Waltz</td>\n",
       "      <td>Rory Kinnear</td>\n",
       "      <td>Stephanie Sigman</td>\n",
       "    </tr>\n",
       "    <tr>\n",
       "      <th>3</th>\n",
       "      <td>The Dark Knight Rises</td>\n",
       "      <td>2012.0</td>\n",
       "      <td>English</td>\n",
       "      <td>Action|Thriller</td>\n",
       "      <td>164.0</td>\n",
       "      <td>448130642.0</td>\n",
       "      <td>164000</td>\n",
       "      <td>Christopher Nolan</td>\n",
       "      <td>USA</td>\n",
       "      <td>Tom Hardy</td>\n",
       "      <td>Christian Bale</td>\n",
       "      <td>Joseph Gordon-Levitt</td>\n",
       "    </tr>\n",
       "    <tr>\n",
       "      <th>4</th>\n",
       "      <td>Star Wars: Episode VII - The Force Awakens    ...</td>\n",
       "      <td>NaN</td>\n",
       "      <td>NaN</td>\n",
       "      <td>Documentary</td>\n",
       "      <td>NaN</td>\n",
       "      <td>NaN</td>\n",
       "      <td>0</td>\n",
       "      <td>Doug Walker</td>\n",
       "      <td>NaN</td>\n",
       "      <td>Doug Walker</td>\n",
       "      <td>Rob Walker</td>\n",
       "      <td>NaN</td>\n",
       "    </tr>\n",
       "  </tbody>\n",
       "</table>\n",
       "</div>"
      ],
      "text/plain": [
       "                                         movie_title  title_year language  \\\n",
       "0                                            Avatar       2009.0  English   \n",
       "1          Pirates of the Caribbean: At World's End       2007.0  English   \n",
       "2                                           Spectre       2015.0  English   \n",
       "3                             The Dark Knight Rises       2012.0  English   \n",
       "4  Star Wars: Episode VII - The Force Awakens    ...         NaN      NaN   \n",
       "\n",
       "                            genres  duration        gross  \\\n",
       "0  Action|Adventure|Fantasy|Sci-Fi     178.0  760505847.0   \n",
       "1         Action|Adventure|Fantasy     169.0  309404152.0   \n",
       "2        Action|Adventure|Thriller     148.0  200074175.0   \n",
       "3                  Action|Thriller     164.0  448130642.0   \n",
       "4                      Documentary       NaN          NaN   \n",
       "\n",
       "   movie_facebook_likes      director_name country     actor_1_name  \\\n",
       "0                 33000      James Cameron     USA      CCH Pounder   \n",
       "1                     0     Gore Verbinski     USA      Johnny Depp   \n",
       "2                 85000         Sam Mendes      UK  Christoph Waltz   \n",
       "3                164000  Christopher Nolan     USA        Tom Hardy   \n",
       "4                     0        Doug Walker     NaN      Doug Walker   \n",
       "\n",
       "       actor_2_name          actor_3_name  \n",
       "0  Joel David Moore             Wes Studi  \n",
       "1     Orlando Bloom        Jack Davenport  \n",
       "2      Rory Kinnear      Stephanie Sigman  \n",
       "3    Christian Bale  Joseph Gordon-Levitt  \n",
       "4        Rob Walker                   NaN  "
      ]
     },
     "execution_count": 4,
     "metadata": {},
     "output_type": "execute_result"
    }
   ],
   "source": [
    "df1 = df1[['movie_title','title_year','language','genres','duration','gross','movie_facebook_likes',\n",
    "        'director_name', 'country','actor_1_name','actor_2_name','actor_3_name']]\n",
    "df1.head()"
   ]
  },
  {
   "cell_type": "markdown",
   "id": "ba218442",
   "metadata": {},
   "source": [
    "Examinamos como viene la info de los títulos de las películas:"
   ]
  },
  {
   "cell_type": "code",
   "execution_count": 5,
   "id": "b0bb3a19",
   "metadata": {},
   "outputs": [
    {
     "data": {
      "text/plain": [
       "array(['Avatar\\xa0', \"Pirates of the Caribbean: At World's End\\xa0\",\n",
       "       'Spectre\\xa0', ..., 'A Plague So Pleasant\\xa0',\n",
       "       'Shanghai Calling\\xa0', 'My Date with Drew\\xa0'], dtype=object)"
      ]
     },
     "execution_count": 5,
     "metadata": {},
     "output_type": "execute_result"
    }
   ],
   "source": [
    "df1['movie_title'].unique()"
   ]
  },
  {
   "cell_type": "markdown",
   "id": "0a40ce64",
   "metadata": {},
   "source": [
    "El formato del csv contenía strings con 'xa0', por lo que solucionamos dicho problema"
   ]
  },
  {
   "cell_type": "code",
   "execution_count": 6,
   "id": "7318e85d",
   "metadata": {},
   "outputs": [],
   "source": [
    "df1 = df1.replace('\\xa0', '', regex=True)"
   ]
  },
  {
   "cell_type": "markdown",
   "id": "efd5c34b",
   "metadata": {},
   "source": [
    "Revisamos la cantidad de información duplicada que existe"
   ]
  },
  {
   "cell_type": "code",
   "execution_count": 7,
   "id": "584715c6",
   "metadata": {},
   "outputs": [
    {
     "data": {
      "text/plain": [
       "(123, 126)"
      ]
     },
     "execution_count": 7,
     "metadata": {},
     "output_type": "execute_result"
    }
   ],
   "source": [
    "df1.duplicated().sum(), df1['movie_title'].duplicated().sum()"
   ]
  },
  {
   "cell_type": "markdown",
   "id": "638451b1",
   "metadata": {},
   "source": [
    "Podemos revisar las entradas duplicadas en el dataframe:"
   ]
  },
  {
   "cell_type": "code",
   "execution_count": 8,
   "id": "7e39b1d0",
   "metadata": {},
   "outputs": [
    {
     "data": {
      "text/html": [
       "<div>\n",
       "<style scoped>\n",
       "    .dataframe tbody tr th:only-of-type {\n",
       "        vertical-align: middle;\n",
       "    }\n",
       "\n",
       "    .dataframe tbody tr th {\n",
       "        vertical-align: top;\n",
       "    }\n",
       "\n",
       "    .dataframe thead th {\n",
       "        text-align: right;\n",
       "    }\n",
       "</style>\n",
       "<table border=\"1\" class=\"dataframe\">\n",
       "  <thead>\n",
       "    <tr style=\"text-align: right;\">\n",
       "      <th></th>\n",
       "      <th>movie_title</th>\n",
       "      <th>title_year</th>\n",
       "      <th>language</th>\n",
       "      <th>genres</th>\n",
       "      <th>duration</th>\n",
       "      <th>gross</th>\n",
       "      <th>movie_facebook_likes</th>\n",
       "      <th>director_name</th>\n",
       "      <th>country</th>\n",
       "      <th>actor_1_name</th>\n",
       "      <th>actor_2_name</th>\n",
       "      <th>actor_3_name</th>\n",
       "    </tr>\n",
       "  </thead>\n",
       "  <tbody>\n",
       "    <tr>\n",
       "      <th>6</th>\n",
       "      <td>Spider-Man 3</td>\n",
       "      <td>2007.0</td>\n",
       "      <td>English</td>\n",
       "      <td>Action|Adventure|Romance</td>\n",
       "      <td>156.0</td>\n",
       "      <td>336530303.0</td>\n",
       "      <td>0</td>\n",
       "      <td>Sam Raimi</td>\n",
       "      <td>USA</td>\n",
       "      <td>J.K. Simmons</td>\n",
       "      <td>James Franco</td>\n",
       "      <td>Kirsten Dunst</td>\n",
       "    </tr>\n",
       "    <tr>\n",
       "      <th>17</th>\n",
       "      <td>The Avengers</td>\n",
       "      <td>2012.0</td>\n",
       "      <td>English</td>\n",
       "      <td>Action|Adventure|Sci-Fi</td>\n",
       "      <td>173.0</td>\n",
       "      <td>623279547.0</td>\n",
       "      <td>123000</td>\n",
       "      <td>Joss Whedon</td>\n",
       "      <td>USA</td>\n",
       "      <td>Chris Hemsworth</td>\n",
       "      <td>Robert Downey Jr.</td>\n",
       "      <td>Scarlett Johansson</td>\n",
       "    </tr>\n",
       "    <tr>\n",
       "      <th>25</th>\n",
       "      <td>King Kong</td>\n",
       "      <td>2005.0</td>\n",
       "      <td>English</td>\n",
       "      <td>Action|Adventure|Drama|Romance</td>\n",
       "      <td>201.0</td>\n",
       "      <td>218051260.0</td>\n",
       "      <td>0</td>\n",
       "      <td>Peter Jackson</td>\n",
       "      <td>New Zealand</td>\n",
       "      <td>Naomi Watts</td>\n",
       "      <td>Thomas Kretschmann</td>\n",
       "      <td>Evan Parke</td>\n",
       "    </tr>\n",
       "    <tr>\n",
       "      <th>30</th>\n",
       "      <td>Skyfall</td>\n",
       "      <td>2012.0</td>\n",
       "      <td>English</td>\n",
       "      <td>Action|Adventure|Thriller</td>\n",
       "      <td>143.0</td>\n",
       "      <td>304360277.0</td>\n",
       "      <td>80000</td>\n",
       "      <td>Sam Mendes</td>\n",
       "      <td>UK</td>\n",
       "      <td>Albert Finney</td>\n",
       "      <td>Helen McCrory</td>\n",
       "      <td>Rory Kinnear</td>\n",
       "    </tr>\n",
       "    <tr>\n",
       "      <th>33</th>\n",
       "      <td>Alice in Wonderland</td>\n",
       "      <td>2010.0</td>\n",
       "      <td>English</td>\n",
       "      <td>Adventure|Family|Fantasy</td>\n",
       "      <td>108.0</td>\n",
       "      <td>334185206.0</td>\n",
       "      <td>24000</td>\n",
       "      <td>Tim Burton</td>\n",
       "      <td>USA</td>\n",
       "      <td>Johnny Depp</td>\n",
       "      <td>Alan Rickman</td>\n",
       "      <td>Anne Hathaway</td>\n",
       "    </tr>\n",
       "  </tbody>\n",
       "</table>\n",
       "</div>"
      ],
      "text/plain": [
       "            movie_title  title_year language                          genres  \\\n",
       "6          Spider-Man 3      2007.0  English        Action|Adventure|Romance   \n",
       "17         The Avengers      2012.0  English         Action|Adventure|Sci-Fi   \n",
       "25            King Kong      2005.0  English  Action|Adventure|Drama|Romance   \n",
       "30              Skyfall      2012.0  English       Action|Adventure|Thriller   \n",
       "33  Alice in Wonderland      2010.0  English        Adventure|Family|Fantasy   \n",
       "\n",
       "    duration        gross  movie_facebook_likes  director_name      country  \\\n",
       "6      156.0  336530303.0                     0      Sam Raimi          USA   \n",
       "17     173.0  623279547.0                123000    Joss Whedon          USA   \n",
       "25     201.0  218051260.0                     0  Peter Jackson  New Zealand   \n",
       "30     143.0  304360277.0                 80000     Sam Mendes           UK   \n",
       "33     108.0  334185206.0                 24000     Tim Burton          USA   \n",
       "\n",
       "       actor_1_name        actor_2_name        actor_3_name  \n",
       "6      J.K. Simmons        James Franco       Kirsten Dunst  \n",
       "17  Chris Hemsworth   Robert Downey Jr.  Scarlett Johansson  \n",
       "25      Naomi Watts  Thomas Kretschmann          Evan Parke  \n",
       "30    Albert Finney       Helen McCrory        Rory Kinnear  \n",
       "33      Johnny Depp        Alan Rickman       Anne Hathaway  "
      ]
     },
     "execution_count": 8,
     "metadata": {},
     "output_type": "execute_result"
    }
   ],
   "source": [
    "duplicados_df1 = df1[df1.duplicated(keep=False)]\n",
    "duplicados_df1.head()"
   ]
  },
  {
   "cell_type": "markdown",
   "id": "be956911",
   "metadata": {},
   "source": [
    "En este caso, como la cantidad de información duplicada en el dataframe completo es prácticamente igual al nombre de pelicula, quitaremos las entradas duplicadas porque no hay información salvable."
   ]
  },
  {
   "cell_type": "code",
   "execution_count": 9,
   "id": "6ea65288",
   "metadata": {},
   "outputs": [],
   "source": [
    "df1 = df1.drop_duplicates(subset = ['movie_title'])"
   ]
  },
  {
   "cell_type": "markdown",
   "id": "72c75148",
   "metadata": {},
   "source": [
    "Verificamos que no exista información duplicada:"
   ]
  },
  {
   "cell_type": "code",
   "execution_count": 10,
   "id": "a1460530",
   "metadata": {},
   "outputs": [
    {
     "data": {
      "text/plain": [
       "(0, 0)"
      ]
     },
     "execution_count": 10,
     "metadata": {},
     "output_type": "execute_result"
    }
   ],
   "source": [
    "df1.duplicated().sum(), df1['movie_title'].duplicated().sum()"
   ]
  },
  {
   "cell_type": "markdown",
   "id": "e1abce34",
   "metadata": {},
   "source": [
    "Ahora, estudiaremos los valores faltantes dentro de nuestro dataframe"
   ]
  },
  {
   "cell_type": "markdown",
   "id": "3d6c8733",
   "metadata": {},
   "source": [
    "## Valores faltantes"
   ]
  },
  {
   "cell_type": "code",
   "execution_count": 11,
   "id": "c0294ad4",
   "metadata": {},
   "outputs": [
    {
     "data": {
      "text/plain": [
       "movie_title               0\n",
       "title_year              106\n",
       "language                 12\n",
       "genres                    0\n",
       "duration                 15\n",
       "gross                   863\n",
       "movie_facebook_likes      0\n",
       "director_name           102\n",
       "country                   5\n",
       "actor_1_name              7\n",
       "actor_2_name             13\n",
       "actor_3_name             23\n",
       "dtype: int64"
      ]
     },
     "execution_count": 11,
     "metadata": {},
     "output_type": "execute_result"
    }
   ],
   "source": [
    "df1.isna().sum()"
   ]
  },
  {
   "cell_type": "markdown",
   "id": "ce95c199",
   "metadata": {},
   "source": [
    "Podemos notar que existen varios valores faltantes en la columna \"gross\". Visualizaremos algunas entradas de nuestro dataframe que posean ese valor faltante."
   ]
  },
  {
   "cell_type": "code",
   "execution_count": 12,
   "id": "ad5abd9a",
   "metadata": {},
   "outputs": [
    {
     "data": {
      "text/html": [
       "<div>\n",
       "<style scoped>\n",
       "    .dataframe tbody tr th:only-of-type {\n",
       "        vertical-align: middle;\n",
       "    }\n",
       "\n",
       "    .dataframe tbody tr th {\n",
       "        vertical-align: top;\n",
       "    }\n",
       "\n",
       "    .dataframe thead th {\n",
       "        text-align: right;\n",
       "    }\n",
       "</style>\n",
       "<table border=\"1\" class=\"dataframe\">\n",
       "  <thead>\n",
       "    <tr style=\"text-align: right;\">\n",
       "      <th></th>\n",
       "      <th>movie_title</th>\n",
       "      <th>title_year</th>\n",
       "      <th>language</th>\n",
       "      <th>genres</th>\n",
       "      <th>duration</th>\n",
       "      <th>gross</th>\n",
       "      <th>movie_facebook_likes</th>\n",
       "      <th>director_name</th>\n",
       "      <th>country</th>\n",
       "      <th>actor_1_name</th>\n",
       "      <th>actor_2_name</th>\n",
       "      <th>actor_3_name</th>\n",
       "    </tr>\n",
       "  </thead>\n",
       "  <tbody>\n",
       "    <tr>\n",
       "      <th>4</th>\n",
       "      <td>Star Wars: Episode VII - The Force Awakens    ...</td>\n",
       "      <td>NaN</td>\n",
       "      <td>NaN</td>\n",
       "      <td>Documentary</td>\n",
       "      <td>NaN</td>\n",
       "      <td>NaN</td>\n",
       "      <td>0</td>\n",
       "      <td>Doug Walker</td>\n",
       "      <td>NaN</td>\n",
       "      <td>Doug Walker</td>\n",
       "      <td>Rob Walker</td>\n",
       "      <td>NaN</td>\n",
       "    </tr>\n",
       "    <tr>\n",
       "      <th>98</th>\n",
       "      <td>Godzilla Resurgence</td>\n",
       "      <td>2016.0</td>\n",
       "      <td>Japanese</td>\n",
       "      <td>Action|Adventure|Drama|Horror|Sci-Fi</td>\n",
       "      <td>120.0</td>\n",
       "      <td>NaN</td>\n",
       "      <td>0</td>\n",
       "      <td>Hideaki Anno</td>\n",
       "      <td>Japan</td>\n",
       "      <td>Mark Chinnery</td>\n",
       "      <td>Shin'ya Tsukamoto</td>\n",
       "      <td>Atsuko Maeda</td>\n",
       "    </tr>\n",
       "    <tr>\n",
       "      <th>177</th>\n",
       "      <td>Miami Vice</td>\n",
       "      <td>NaN</td>\n",
       "      <td>English</td>\n",
       "      <td>Action|Crime|Drama|Mystery|Thriller</td>\n",
       "      <td>60.0</td>\n",
       "      <td>NaN</td>\n",
       "      <td>0</td>\n",
       "      <td>NaN</td>\n",
       "      <td>USA</td>\n",
       "      <td>Don Johnson</td>\n",
       "      <td>Philip Michael Thomas</td>\n",
       "      <td>John Diehl</td>\n",
       "    </tr>\n",
       "    <tr>\n",
       "      <th>260</th>\n",
       "      <td>The A-Team</td>\n",
       "      <td>NaN</td>\n",
       "      <td>English</td>\n",
       "      <td>Action|Adventure|Crime</td>\n",
       "      <td>60.0</td>\n",
       "      <td>NaN</td>\n",
       "      <td>0</td>\n",
       "      <td>NaN</td>\n",
       "      <td>USA</td>\n",
       "      <td>George Peppard</td>\n",
       "      <td>Dirk Benedict</td>\n",
       "      <td>Dwight Schultz</td>\n",
       "    </tr>\n",
       "    <tr>\n",
       "      <th>279</th>\n",
       "      <td>10,000 B.C.</td>\n",
       "      <td>NaN</td>\n",
       "      <td>NaN</td>\n",
       "      <td>Comedy</td>\n",
       "      <td>22.0</td>\n",
       "      <td>NaN</td>\n",
       "      <td>0</td>\n",
       "      <td>Christopher Barnard</td>\n",
       "      <td>NaN</td>\n",
       "      <td>Mathew Buck</td>\n",
       "      <td>NaN</td>\n",
       "      <td>NaN</td>\n",
       "    </tr>\n",
       "  </tbody>\n",
       "</table>\n",
       "</div>"
      ],
      "text/plain": [
       "                                           movie_title  title_year  language  \\\n",
       "4    Star Wars: Episode VII - The Force Awakens    ...         NaN       NaN   \n",
       "98                                 Godzilla Resurgence      2016.0  Japanese   \n",
       "177                             Miami Vice                     NaN   English   \n",
       "260                             The A-Team                     NaN   English   \n",
       "279                            10,000 B.C.                     NaN       NaN   \n",
       "\n",
       "                                   genres  duration  gross  \\\n",
       "4                             Documentary       NaN    NaN   \n",
       "98   Action|Adventure|Drama|Horror|Sci-Fi     120.0    NaN   \n",
       "177   Action|Crime|Drama|Mystery|Thriller      60.0    NaN   \n",
       "260                Action|Adventure|Crime      60.0    NaN   \n",
       "279                                Comedy      22.0    NaN   \n",
       "\n",
       "     movie_facebook_likes        director_name country    actor_1_name  \\\n",
       "4                       0          Doug Walker     NaN     Doug Walker   \n",
       "98                      0         Hideaki Anno   Japan   Mark Chinnery   \n",
       "177                     0                  NaN     USA     Don Johnson   \n",
       "260                     0                  NaN     USA  George Peppard   \n",
       "279                     0  Christopher Barnard     NaN     Mathew Buck   \n",
       "\n",
       "              actor_2_name    actor_3_name  \n",
       "4               Rob Walker             NaN  \n",
       "98       Shin'ya Tsukamoto    Atsuko Maeda  \n",
       "177  Philip Michael Thomas      John Diehl  \n",
       "260          Dirk Benedict  Dwight Schultz  \n",
       "279                    NaN             NaN  "
      ]
     },
     "execution_count": 12,
     "metadata": {},
     "output_type": "execute_result"
    }
   ],
   "source": [
    "df1[(df1['gross'].isna())&(df1['movie_facebook_likes']==0)].head()"
   ]
  },
  {
   "cell_type": "markdown",
   "id": "32195361",
   "metadata": {},
   "source": [
    "Si bien existen muchas entradas faltantes en el dinero recaudado, podemos considerar la cantidad de likes que recibió esa película en la red social facebook. Por ende, quitaremos solo las entradas que no poseen gross y sus likes son nulos (no nos aporta info)"
   ]
  },
  {
   "cell_type": "code",
   "execution_count": 13,
   "id": "188208f8",
   "metadata": {},
   "outputs": [
    {
     "data": {
      "text/html": [
       "<div>\n",
       "<style scoped>\n",
       "    .dataframe tbody tr th:only-of-type {\n",
       "        vertical-align: middle;\n",
       "    }\n",
       "\n",
       "    .dataframe tbody tr th {\n",
       "        vertical-align: top;\n",
       "    }\n",
       "\n",
       "    .dataframe thead th {\n",
       "        text-align: right;\n",
       "    }\n",
       "</style>\n",
       "<table border=\"1\" class=\"dataframe\">\n",
       "  <thead>\n",
       "    <tr style=\"text-align: right;\">\n",
       "      <th></th>\n",
       "      <th>movie_title</th>\n",
       "      <th>title_year</th>\n",
       "      <th>language</th>\n",
       "      <th>genres</th>\n",
       "      <th>duration</th>\n",
       "      <th>gross</th>\n",
       "      <th>movie_facebook_likes</th>\n",
       "      <th>director_name</th>\n",
       "      <th>country</th>\n",
       "      <th>actor_1_name</th>\n",
       "      <th>actor_2_name</th>\n",
       "      <th>actor_3_name</th>\n",
       "    </tr>\n",
       "  </thead>\n",
       "  <tbody>\n",
       "    <tr>\n",
       "      <th>0</th>\n",
       "      <td>Avatar</td>\n",
       "      <td>2009.0</td>\n",
       "      <td>English</td>\n",
       "      <td>Action|Adventure|Fantasy|Sci-Fi</td>\n",
       "      <td>178.0</td>\n",
       "      <td>760505847.0</td>\n",
       "      <td>33000</td>\n",
       "      <td>James Cameron</td>\n",
       "      <td>USA</td>\n",
       "      <td>CCH Pounder</td>\n",
       "      <td>Joel David Moore</td>\n",
       "      <td>Wes Studi</td>\n",
       "    </tr>\n",
       "    <tr>\n",
       "      <th>1</th>\n",
       "      <td>Pirates of the Caribbean: At World's End</td>\n",
       "      <td>2007.0</td>\n",
       "      <td>English</td>\n",
       "      <td>Action|Adventure|Fantasy</td>\n",
       "      <td>169.0</td>\n",
       "      <td>309404152.0</td>\n",
       "      <td>0</td>\n",
       "      <td>Gore Verbinski</td>\n",
       "      <td>USA</td>\n",
       "      <td>Johnny Depp</td>\n",
       "      <td>Orlando Bloom</td>\n",
       "      <td>Jack Davenport</td>\n",
       "    </tr>\n",
       "    <tr>\n",
       "      <th>2</th>\n",
       "      <td>Spectre</td>\n",
       "      <td>2015.0</td>\n",
       "      <td>English</td>\n",
       "      <td>Action|Adventure|Thriller</td>\n",
       "      <td>148.0</td>\n",
       "      <td>200074175.0</td>\n",
       "      <td>85000</td>\n",
       "      <td>Sam Mendes</td>\n",
       "      <td>UK</td>\n",
       "      <td>Christoph Waltz</td>\n",
       "      <td>Rory Kinnear</td>\n",
       "      <td>Stephanie Sigman</td>\n",
       "    </tr>\n",
       "    <tr>\n",
       "      <th>3</th>\n",
       "      <td>The Dark Knight Rises</td>\n",
       "      <td>2012.0</td>\n",
       "      <td>English</td>\n",
       "      <td>Action|Thriller</td>\n",
       "      <td>164.0</td>\n",
       "      <td>448130642.0</td>\n",
       "      <td>164000</td>\n",
       "      <td>Christopher Nolan</td>\n",
       "      <td>USA</td>\n",
       "      <td>Tom Hardy</td>\n",
       "      <td>Christian Bale</td>\n",
       "      <td>Joseph Gordon-Levitt</td>\n",
       "    </tr>\n",
       "    <tr>\n",
       "      <th>5</th>\n",
       "      <td>John Carter</td>\n",
       "      <td>2012.0</td>\n",
       "      <td>English</td>\n",
       "      <td>Action|Adventure|Sci-Fi</td>\n",
       "      <td>132.0</td>\n",
       "      <td>73058679.0</td>\n",
       "      <td>24000</td>\n",
       "      <td>Andrew Stanton</td>\n",
       "      <td>USA</td>\n",
       "      <td>Daryl Sabara</td>\n",
       "      <td>Samantha Morton</td>\n",
       "      <td>Polly Walker</td>\n",
       "    </tr>\n",
       "  </tbody>\n",
       "</table>\n",
       "</div>"
      ],
      "text/plain": [
       "                                movie_title  title_year language  \\\n",
       "0                                    Avatar      2009.0  English   \n",
       "1  Pirates of the Caribbean: At World's End      2007.0  English   \n",
       "2                                   Spectre      2015.0  English   \n",
       "3                     The Dark Knight Rises      2012.0  English   \n",
       "5                               John Carter      2012.0  English   \n",
       "\n",
       "                            genres  duration        gross  \\\n",
       "0  Action|Adventure|Fantasy|Sci-Fi     178.0  760505847.0   \n",
       "1         Action|Adventure|Fantasy     169.0  309404152.0   \n",
       "2        Action|Adventure|Thriller     148.0  200074175.0   \n",
       "3                  Action|Thriller     164.0  448130642.0   \n",
       "5          Action|Adventure|Sci-Fi     132.0   73058679.0   \n",
       "\n",
       "   movie_facebook_likes      director_name country     actor_1_name  \\\n",
       "0                 33000      James Cameron     USA      CCH Pounder   \n",
       "1                     0     Gore Verbinski     USA      Johnny Depp   \n",
       "2                 85000         Sam Mendes      UK  Christoph Waltz   \n",
       "3                164000  Christopher Nolan     USA        Tom Hardy   \n",
       "5                 24000     Andrew Stanton     USA     Daryl Sabara   \n",
       "\n",
       "       actor_2_name          actor_3_name  \n",
       "0  Joel David Moore             Wes Studi  \n",
       "1     Orlando Bloom        Jack Davenport  \n",
       "2      Rory Kinnear      Stephanie Sigman  \n",
       "3    Christian Bale  Joseph Gordon-Levitt  \n",
       "5   Samantha Morton          Polly Walker  "
      ]
     },
     "execution_count": 13,
     "metadata": {},
     "output_type": "execute_result"
    }
   ],
   "source": [
    "df1 = df1[~(df1['gross'].isna())|~(df1['movie_facebook_likes']==0)]\n",
    "df1.head()"
   ]
  },
  {
   "cell_type": "markdown",
   "id": "600bea92",
   "metadata": {},
   "source": [
    "Ahora, el resto de valores NaN de otras columnas, podríamos rellenarlas de diferentes formas. Por ejemplo, teníamos 15 peliculas que no poseen info sobre su duración. Rellenaremos esos valores faltantes con el promedio de la columna y veremos como cambian su estadística descriptiva"
   ]
  },
  {
   "cell_type": "code",
   "execution_count": 14,
   "id": "0a3abe9b",
   "metadata": {},
   "outputs": [
    {
     "data": {
      "text/plain": [
       "count    4631.000000\n",
       "mean      107.655798\n",
       "std        23.846519\n",
       "min         7.000000\n",
       "25%        94.000000\n",
       "50%       104.000000\n",
       "75%       118.000000\n",
       "max       334.000000\n",
       "Name: duration, dtype: float64"
      ]
     },
     "execution_count": 14,
     "metadata": {},
     "output_type": "execute_result"
    }
   ],
   "source": [
    "df1['duration'].describe()"
   ]
  },
  {
   "cell_type": "code",
   "execution_count": 15,
   "id": "dfda3806",
   "metadata": {},
   "outputs": [],
   "source": [
    "df1['duration'] = df1['duration'].fillna(df1['duration'].mean())\n"
   ]
  },
  {
   "cell_type": "code",
   "execution_count": 16,
   "id": "c897841e",
   "metadata": {},
   "outputs": [
    {
     "data": {
      "text/plain": [
       "count    4644.000000\n",
       "mean      107.655798\n",
       "std        23.813111\n",
       "min         7.000000\n",
       "25%        94.000000\n",
       "50%       104.000000\n",
       "75%       118.000000\n",
       "max       334.000000\n",
       "Name: duration, dtype: float64"
      ]
     },
     "execution_count": 16,
     "metadata": {},
     "output_type": "execute_result"
    }
   ],
   "source": [
    "df1['duration'].describe()"
   ]
  },
  {
   "cell_type": "markdown",
   "id": "f3732e6c",
   "metadata": {},
   "source": [
    "Podemos notar que cambia levemente la desviación de los datos."
   ]
  },
  {
   "cell_type": "markdown",
   "id": "82560846",
   "metadata": {},
   "source": [
    "## Pregunta formativa 2"
   ]
  },
  {
   "cell_type": "markdown",
   "id": "f25fed13",
   "metadata": {},
   "source": [
    "Código para reemplazar datos faltantes de la columna “Lenguaje” por “Sin lenguaje”."
   ]
  },
  {
   "cell_type": "code",
   "execution_count": 17,
   "id": "ee4b0cdf",
   "metadata": {},
   "outputs": [],
   "source": [
    "df1['language'] = df1['language'].fillna('Sin Lenguaje')"
   ]
  },
  {
   "cell_type": "code",
   "execution_count": 22,
   "id": "cdb702e8",
   "metadata": {},
   "outputs": [
    {
     "data": {
      "text/html": [
       "<div>\n",
       "<style scoped>\n",
       "    .dataframe tbody tr th:only-of-type {\n",
       "        vertical-align: middle;\n",
       "    }\n",
       "\n",
       "    .dataframe tbody tr th {\n",
       "        vertical-align: top;\n",
       "    }\n",
       "\n",
       "    .dataframe thead th {\n",
       "        text-align: right;\n",
       "    }\n",
       "</style>\n",
       "<table border=\"1\" class=\"dataframe\">\n",
       "  <thead>\n",
       "    <tr style=\"text-align: right;\">\n",
       "      <th></th>\n",
       "      <th>movie_title</th>\n",
       "      <th>title_year</th>\n",
       "      <th>language</th>\n",
       "      <th>genres</th>\n",
       "      <th>duration</th>\n",
       "      <th>gross</th>\n",
       "      <th>movie_facebook_likes</th>\n",
       "      <th>director_name</th>\n",
       "      <th>country</th>\n",
       "      <th>actor_1_name</th>\n",
       "      <th>actor_2_name</th>\n",
       "      <th>actor_3_name</th>\n",
       "    </tr>\n",
       "  </thead>\n",
       "  <tbody>\n",
       "    <tr>\n",
       "      <th>3086</th>\n",
       "      <td>September Dawn</td>\n",
       "      <td>2007.0</td>\n",
       "      <td>Sin Lenguaje</td>\n",
       "      <td>Drama|History|Romance|Western</td>\n",
       "      <td>111.0</td>\n",
       "      <td>1066555.0</td>\n",
       "      <td>411</td>\n",
       "      <td>Christopher Cain</td>\n",
       "      <td>USA</td>\n",
       "      <td>Jon Gries</td>\n",
       "      <td>Taylor Handley</td>\n",
       "      <td>Trent Ford</td>\n",
       "    </tr>\n",
       "    <tr>\n",
       "      <th>3539</th>\n",
       "      <td>Alpha and Omega 4: The Legend of the Saw Tooth...</td>\n",
       "      <td>2014.0</td>\n",
       "      <td>Sin Lenguaje</td>\n",
       "      <td>Action|Adventure|Animation|Comedy|Drama|Family...</td>\n",
       "      <td>45.0</td>\n",
       "      <td>Desconocido</td>\n",
       "      <td>41</td>\n",
       "      <td>Richard Rich</td>\n",
       "      <td>USA</td>\n",
       "      <td>Debi Derryberry</td>\n",
       "      <td>Kate Higgins</td>\n",
       "      <td>Cindy Robinson</td>\n",
       "    </tr>\n",
       "    <tr>\n",
       "      <th>3869</th>\n",
       "      <td>Silent Movie</td>\n",
       "      <td>1976.0</td>\n",
       "      <td>Sin Lenguaje</td>\n",
       "      <td>Comedy|Romance</td>\n",
       "      <td>87.0</td>\n",
       "      <td>Desconocido</td>\n",
       "      <td>629</td>\n",
       "      <td>Mel Brooks</td>\n",
       "      <td>USA</td>\n",
       "      <td>Sid Caesar</td>\n",
       "      <td>Dom DeLuise</td>\n",
       "      <td>Bernadette Peters</td>\n",
       "    </tr>\n",
       "    <tr>\n",
       "      <th>4110</th>\n",
       "      <td>Love's Abiding Joy</td>\n",
       "      <td>2006.0</td>\n",
       "      <td>Sin Lenguaje</td>\n",
       "      <td>Drama|Family|Western</td>\n",
       "      <td>87.0</td>\n",
       "      <td>252726.0</td>\n",
       "      <td>76</td>\n",
       "      <td>Michael Landon Jr.</td>\n",
       "      <td>USA</td>\n",
       "      <td>William Morgan Sheppard</td>\n",
       "      <td>Kevin Gage</td>\n",
       "      <td>Brianna Brown</td>\n",
       "    </tr>\n",
       "    <tr>\n",
       "      <th>4630</th>\n",
       "      <td>A Fine Step</td>\n",
       "      <td>2014.0</td>\n",
       "      <td>Sin Lenguaje</td>\n",
       "      <td>Drama</td>\n",
       "      <td>111.0</td>\n",
       "      <td>Desconocido</td>\n",
       "      <td>212</td>\n",
       "      <td>Jonathan Meyers</td>\n",
       "      <td>USA</td>\n",
       "      <td>Justin Baldoni</td>\n",
       "      <td>Luke Perry</td>\n",
       "      <td>Leonor Varela</td>\n",
       "    </tr>\n",
       "  </tbody>\n",
       "</table>\n",
       "</div>"
      ],
      "text/plain": [
       "                                            movie_title title_year  \\\n",
       "3086                                     September Dawn     2007.0   \n",
       "3539  Alpha and Omega 4: The Legend of the Saw Tooth...     2014.0   \n",
       "3869                                       Silent Movie     1976.0   \n",
       "4110                                 Love's Abiding Joy     2006.0   \n",
       "4630                                        A Fine Step     2014.0   \n",
       "\n",
       "          language                                             genres  \\\n",
       "3086  Sin Lenguaje                      Drama|History|Romance|Western   \n",
       "3539  Sin Lenguaje  Action|Adventure|Animation|Comedy|Drama|Family...   \n",
       "3869  Sin Lenguaje                                     Comedy|Romance   \n",
       "4110  Sin Lenguaje                               Drama|Family|Western   \n",
       "4630  Sin Lenguaje                                              Drama   \n",
       "\n",
       "      duration        gross  movie_facebook_likes       director_name country  \\\n",
       "3086     111.0    1066555.0                   411    Christopher Cain     USA   \n",
       "3539      45.0  Desconocido                    41        Richard Rich     USA   \n",
       "3869      87.0  Desconocido                   629          Mel Brooks     USA   \n",
       "4110      87.0     252726.0                    76  Michael Landon Jr.     USA   \n",
       "4630     111.0  Desconocido                   212     Jonathan Meyers     USA   \n",
       "\n",
       "                 actor_1_name    actor_2_name       actor_3_name  \n",
       "3086                Jon Gries  Taylor Handley         Trent Ford  \n",
       "3539          Debi Derryberry    Kate Higgins     Cindy Robinson  \n",
       "3869               Sid Caesar     Dom DeLuise  Bernadette Peters  \n",
       "4110  William Morgan Sheppard      Kevin Gage      Brianna Brown  \n",
       "4630           Justin Baldoni      Luke Perry      Leonor Varela  "
      ]
     },
     "execution_count": 22,
     "metadata": {},
     "output_type": "execute_result"
    }
   ],
   "source": [
    "df1[df1['language']=='Sin Lenguaje'].head()"
   ]
  },
  {
   "cell_type": "code",
   "execution_count": 19,
   "id": "155c335d",
   "metadata": {},
   "outputs": [
    {
     "data": {
      "text/plain": [
       "movie_title               0\n",
       "title_year               62\n",
       "language                  0\n",
       "genres                    0\n",
       "duration                  0\n",
       "gross                   590\n",
       "movie_facebook_likes      0\n",
       "director_name            61\n",
       "country                   2\n",
       "actor_1_name              7\n",
       "actor_2_name             12\n",
       "actor_3_name             20\n",
       "dtype: int64"
      ]
     },
     "execution_count": 19,
     "metadata": {},
     "output_type": "execute_result"
    }
   ],
   "source": [
    "df1.isna().sum()"
   ]
  },
  {
   "cell_type": "markdown",
   "id": "07ef46a0",
   "metadata": {},
   "source": [
    "Por último, podemos colocar los datos faltantes restantes como \"desconocidos\" para tenerlos en cuenta igualmente."
   ]
  },
  {
   "cell_type": "code",
   "execution_count": 20,
   "id": "4cf3e398",
   "metadata": {},
   "outputs": [],
   "source": [
    "df1 = df1.fillna('Desconocido')"
   ]
  },
  {
   "cell_type": "code",
   "execution_count": 21,
   "id": "9f27c5da",
   "metadata": {},
   "outputs": [
    {
     "data": {
      "text/plain": [
       "movie_title             0\n",
       "title_year              0\n",
       "language                0\n",
       "genres                  0\n",
       "duration                0\n",
       "gross                   0\n",
       "movie_facebook_likes    0\n",
       "director_name           0\n",
       "country                 0\n",
       "actor_1_name            0\n",
       "actor_2_name            0\n",
       "actor_3_name            0\n",
       "dtype: int64"
      ]
     },
     "execution_count": 21,
     "metadata": {},
     "output_type": "execute_result"
    }
   ],
   "source": [
    "df1.isna().sum()"
   ]
  }
 ],
 "metadata": {
  "kernelspec": {
   "display_name": "Python 3 (ipykernel)",
   "language": "python",
   "name": "python3"
  },
  "language_info": {
   "codemirror_mode": {
    "name": "ipython",
    "version": 3
   },
   "file_extension": ".py",
   "mimetype": "text/x-python",
   "name": "python",
   "nbconvert_exporter": "python",
   "pygments_lexer": "ipython3",
   "version": "3.9.7"
  }
 },
 "nbformat": 4,
 "nbformat_minor": 5
}
